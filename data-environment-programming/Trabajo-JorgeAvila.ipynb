{
 "cells": [
  {
   "cell_type": "markdown",
   "metadata": {},
   "source": [
    "# Práctica Programación en Entornos de datos 2020-2021"
   ]
  },
  {
   "cell_type": "markdown",
   "metadata": {},
   "source": [
    "## Jorge Pablo Ávila Gómez"
   ]
  },
  {
   "cell_type": "markdown",
   "metadata": {},
   "source": [
    "**1. Explora el fichero y decide cómo tienes que realizar la importación para\n",
    "poder guardar la información. ¿En qué estructura lo vas a guardar y qué\n",
    "información concreta contiene? Escribe el código asociado y trata de\n",
    "optimizar el espacio utilizado.**"
   ]
  },
  {
   "cell_type": "markdown",
   "metadata": {},
   "source": [
    "Los datos se van a guardar en un dataframe de Pandas, pero se van a almacenar de una manera peculiar. Los datos viene representados en filas con la fecha del sorteo ganador, seguido de los 5 números y las 2 estrellas. Se van a preparar dos dataframes, uno para los números y otro para las estrellas. Como no hay ningún orden entre los números y las estrellas, la forma de los dataframes será una fila para cada número o estrella y la fecha en la que ese número estuvo en una combinación ganadora. Se ha elegido esta forma de almacenar los datos porque facilita la contestación de las preguntas 2 y 3."
   ]
  },
  {
   "cell_type": "code",
   "execution_count": 1,
   "metadata": {},
   "outputs": [],
   "source": [
    "import pandas as pd\n",
    "\n",
    "# Se lee el archivo con el histórico y se preparan dos listas de python\n",
    "# una para los números y otra para las estrellas\n",
    "# que se pasarán a dataframes de pandas\n",
    "f = open(\"historicoEuromillones.csv\")\n",
    "numbers = []\n",
    "stars = []\n",
    "for line in f: # Por cada fecha:\n",
    "    temp = line.strip().split(\",\")\n",
    "    for i in range(5):\n",
    "        numbers.append([temp[0], temp[i + 1]]) # fecha + los 5 números\n",
    "    stars.append([temp[0], temp[-2]]) # fecha + una estrella\n",
    "    stars.append([temp[0], temp[-1]]) # fecha + una estrella\n",
    "f.close()"
   ]
  },
  {
   "cell_type": "code",
   "execution_count": 2,
   "metadata": {},
   "outputs": [],
   "source": [
    "# dataframe con los números premiados\n",
    "df_numbers = (\n",
    "    pd.DataFrame(numbers, columns=[\"date\", \"numbers\"])\n",
    "    .drop([0, 1, 2, 3, 4]) # filas con cabecera o vacías\n",
    "    .reset_index(drop=True)\n",
    ")\n",
    "#dataframe con las estrellas premiadas\n",
    "df_stars = (\n",
    "    pd.DataFrame(stars, columns=[\"date\", \"stars\"])\n",
    "    .drop([0, 1]) # filas con cabecera o vacías\n",
    "    .reset_index(drop=True)\n",
    ")"
   ]
  },
  {
   "cell_type": "markdown",
   "metadata": {},
   "source": [
    "Los dataframes son una estructura muy adecuada para representar datos tabulados, además permite que cada columna tenga un tipo de datos diferente. En este caso vamos a usar una columna de tipo fecha y el resto van a ser columnas de tipo número entero."
   ]
  },
  {
   "cell_type": "code",
   "execution_count": 3,
   "metadata": {},
   "outputs": [
    {
     "data": {
      "text/html": [
       "<div>\n",
       "<style scoped>\n",
       "    .dataframe tbody tr th:only-of-type {\n",
       "        vertical-align: middle;\n",
       "    }\n",
       "\n",
       "    .dataframe tbody tr th {\n",
       "        vertical-align: top;\n",
       "    }\n",
       "\n",
       "    .dataframe thead th {\n",
       "        text-align: right;\n",
       "    }\n",
       "</style>\n",
       "<table border=\"1\" class=\"dataframe\">\n",
       "  <thead>\n",
       "    <tr style=\"text-align: right;\">\n",
       "      <th></th>\n",
       "      <th>date</th>\n",
       "      <th>numbers</th>\n",
       "    </tr>\n",
       "  </thead>\n",
       "  <tbody>\n",
       "    <tr>\n",
       "      <th>0</th>\n",
       "      <td>13/10/2020</td>\n",
       "      <td>05</td>\n",
       "    </tr>\n",
       "    <tr>\n",
       "      <th>1</th>\n",
       "      <td>13/10/2020</td>\n",
       "      <td>14</td>\n",
       "    </tr>\n",
       "    <tr>\n",
       "      <th>2</th>\n",
       "      <td>13/10/2020</td>\n",
       "      <td>38</td>\n",
       "    </tr>\n",
       "    <tr>\n",
       "      <th>3</th>\n",
       "      <td>13/10/2020</td>\n",
       "      <td>41</td>\n",
       "    </tr>\n",
       "    <tr>\n",
       "      <th>4</th>\n",
       "      <td>13/10/2020</td>\n",
       "      <td>46</td>\n",
       "    </tr>\n",
       "    <tr>\n",
       "      <th>5</th>\n",
       "      <td>9/10/2020</td>\n",
       "      <td>11</td>\n",
       "    </tr>\n",
       "    <tr>\n",
       "      <th>6</th>\n",
       "      <td>9/10/2020</td>\n",
       "      <td>15</td>\n",
       "    </tr>\n",
       "    <tr>\n",
       "      <th>7</th>\n",
       "      <td>9/10/2020</td>\n",
       "      <td>35</td>\n",
       "    </tr>\n",
       "    <tr>\n",
       "      <th>8</th>\n",
       "      <td>9/10/2020</td>\n",
       "      <td>41</td>\n",
       "    </tr>\n",
       "    <tr>\n",
       "      <th>9</th>\n",
       "      <td>9/10/2020</td>\n",
       "      <td>50</td>\n",
       "    </tr>\n",
       "  </tbody>\n",
       "</table>\n",
       "</div>"
      ],
      "text/plain": [
       "         date numbers\n",
       "0  13/10/2020      05\n",
       "1  13/10/2020      14\n",
       "2  13/10/2020      38\n",
       "3  13/10/2020      41\n",
       "4  13/10/2020      46\n",
       "5   9/10/2020      11\n",
       "6   9/10/2020      15\n",
       "7   9/10/2020      35\n",
       "8   9/10/2020      41\n",
       "9   9/10/2020      50"
      ]
     },
     "execution_count": 3,
     "metadata": {},
     "output_type": "execute_result"
    }
   ],
   "source": [
    "df_numbers.head(10)"
   ]
  },
  {
   "cell_type": "code",
   "execution_count": 4,
   "metadata": {},
   "outputs": [
    {
     "data": {
      "text/html": [
       "<div>\n",
       "<style scoped>\n",
       "    .dataframe tbody tr th:only-of-type {\n",
       "        vertical-align: middle;\n",
       "    }\n",
       "\n",
       "    .dataframe tbody tr th {\n",
       "        vertical-align: top;\n",
       "    }\n",
       "\n",
       "    .dataframe thead th {\n",
       "        text-align: right;\n",
       "    }\n",
       "</style>\n",
       "<table border=\"1\" class=\"dataframe\">\n",
       "  <thead>\n",
       "    <tr style=\"text-align: right;\">\n",
       "      <th></th>\n",
       "      <th>date</th>\n",
       "      <th>stars</th>\n",
       "    </tr>\n",
       "  </thead>\n",
       "  <tbody>\n",
       "    <tr>\n",
       "      <th>0</th>\n",
       "      <td>13/10/2020</td>\n",
       "      <td>01</td>\n",
       "    </tr>\n",
       "    <tr>\n",
       "      <th>1</th>\n",
       "      <td>13/10/2020</td>\n",
       "      <td>10</td>\n",
       "    </tr>\n",
       "    <tr>\n",
       "      <th>2</th>\n",
       "      <td>9/10/2020</td>\n",
       "      <td>05</td>\n",
       "    </tr>\n",
       "    <tr>\n",
       "      <th>3</th>\n",
       "      <td>9/10/2020</td>\n",
       "      <td>08</td>\n",
       "    </tr>\n",
       "    <tr>\n",
       "      <th>4</th>\n",
       "      <td>6/10/2020</td>\n",
       "      <td>09</td>\n",
       "    </tr>\n",
       "    <tr>\n",
       "      <th>5</th>\n",
       "      <td>6/10/2020</td>\n",
       "      <td>11</td>\n",
       "    </tr>\n",
       "    <tr>\n",
       "      <th>6</th>\n",
       "      <td>2/10/2020</td>\n",
       "      <td>03</td>\n",
       "    </tr>\n",
       "    <tr>\n",
       "      <th>7</th>\n",
       "      <td>2/10/2020</td>\n",
       "      <td>09</td>\n",
       "    </tr>\n",
       "    <tr>\n",
       "      <th>8</th>\n",
       "      <td>29/09/2020</td>\n",
       "      <td>11</td>\n",
       "    </tr>\n",
       "    <tr>\n",
       "      <th>9</th>\n",
       "      <td>29/09/2020</td>\n",
       "      <td>12</td>\n",
       "    </tr>\n",
       "  </tbody>\n",
       "</table>\n",
       "</div>"
      ],
      "text/plain": [
       "         date stars\n",
       "0  13/10/2020    01\n",
       "1  13/10/2020    10\n",
       "2   9/10/2020    05\n",
       "3   9/10/2020    08\n",
       "4   6/10/2020    09\n",
       "5   6/10/2020    11\n",
       "6   2/10/2020    03\n",
       "7   2/10/2020    09\n",
       "8  29/09/2020    11\n",
       "9  29/09/2020    12"
      ]
     },
     "execution_count": 4,
     "metadata": {},
     "output_type": "execute_result"
    }
   ],
   "source": [
    "df_stars.head(10)"
   ]
  },
  {
   "cell_type": "markdown",
   "metadata": {},
   "source": [
    "Vamos a estudiar el espacio utilizado por los dataframes para optimizarlo:"
   ]
  },
  {
   "cell_type": "code",
   "execution_count": 5,
   "metadata": {},
   "outputs": [
    {
     "name": "stdout",
     "output_type": "stream",
     "text": [
      "<class 'pandas.core.frame.DataFrame'>\n",
      "RangeIndex: 6815 entries, 0 to 6814\n",
      "Data columns (total 2 columns):\n",
      " #   Column   Non-Null Count  Dtype \n",
      "---  ------   --------------  ----- \n",
      " 0   date     6815 non-null   object\n",
      " 1   numbers  6815 non-null   object\n",
      "dtypes: object(2)\n",
      "memory usage: 836.7 KB\n",
      "None\n",
      "<class 'pandas.core.frame.DataFrame'>\n",
      "RangeIndex: 2726 entries, 0 to 2725\n",
      "Data columns (total 2 columns):\n",
      " #   Column  Non-Null Count  Dtype \n",
      "---  ------  --------------  ----- \n",
      " 0   date    2726 non-null   object\n",
      " 1   stars   2726 non-null   object\n",
      "dtypes: object(2)\n",
      "memory usage: 334.8 KB\n",
      "None\n"
     ]
    }
   ],
   "source": [
    "print(df_numbers.info(memory_usage=\"deep\"))\n",
    "print(df_stars.info(memory_usage=\"deep\"))"
   ]
  },
  {
   "cell_type": "markdown",
   "metadata": {},
   "source": [
    "Vemos que son dataframes ligeros, no vamos a tener problemas de memoria al trabajar con ellos, pero podemos intentar optimizar los tipos de cada columna. Además sería preferible que las columnas numbers y stars sean de tipo entero para poder hacer calculos numéricos y que la columna date sea de tipo datetime."
   ]
  },
  {
   "cell_type": "code",
   "execution_count": 6,
   "metadata": {},
   "outputs": [
    {
     "name": "stdout",
     "output_type": "stream",
     "text": [
      "<class 'pandas.core.frame.DataFrame'>\n",
      "RangeIndex: 6815 entries, 0 to 6814\n",
      "Data columns (total 2 columns):\n",
      " #   Column   Non-Null Count  Dtype         \n",
      "---  ------   --------------  -----         \n",
      " 0   date     6815 non-null   datetime64[ns]\n",
      " 1   numbers  6815 non-null   uint8         \n",
      "dtypes: datetime64[ns](1), uint8(1)\n",
      "memory usage: 60.0 KB\n",
      "None\n",
      "<class 'pandas.core.frame.DataFrame'>\n",
      "RangeIndex: 2726 entries, 0 to 2725\n",
      "Data columns (total 2 columns):\n",
      " #   Column  Non-Null Count  Dtype         \n",
      "---  ------  --------------  -----         \n",
      " 0   date    2726 non-null   datetime64[ns]\n",
      " 1   stars   2726 non-null   uint8         \n",
      "dtypes: datetime64[ns](1), uint8(1)\n",
      "memory usage: 24.1 KB\n",
      "None\n"
     ]
    }
   ],
   "source": [
    "# Pasamos las columnas numbers y stars al tipo numérico que menos memoria necesite\n",
    "# Pasamos las colmunas date a tipo datetime, es importante dayfirst=True \n",
    "# para indicar que las fechas se encuentran en formato europeo con el día primero\n",
    "df_numbers[\"numbers\"] = pd.to_numeric(df_numbers[\"numbers\"], downcast=\"unsigned\")\n",
    "df_numbers[\"date\"] = pd.to_datetime(df_numbers[\"date\"], dayfirst=True)\n",
    "\n",
    "df_stars[\"stars\"] = pd.to_numeric(df_stars[\"stars\"], downcast=\"unsigned\")\n",
    "df_stars[\"date\"] = pd.to_datetime(df_stars[\"date\"], dayfirst=True)\n",
    "\n",
    "print(df_numbers.info(memory_usage=\"deep\"))\n",
    "print(df_stars.info(memory_usage=\"deep\"))"
   ]
  },
  {
   "cell_type": "markdown",
   "metadata": {},
   "source": [
    "Vemos que conseguimos disminuir bastante la memoria necesaria y además, tenemos los tipos de datos adecuados para poder trabajar con ellos en los siguientes apartados."
   ]
  },
  {
   "cell_type": "code",
   "execution_count": 7,
   "metadata": {},
   "outputs": [
    {
     "data": {
      "text/html": [
       "<div>\n",
       "<style scoped>\n",
       "    .dataframe tbody tr th:only-of-type {\n",
       "        vertical-align: middle;\n",
       "    }\n",
       "\n",
       "    .dataframe tbody tr th {\n",
       "        vertical-align: top;\n",
       "    }\n",
       "\n",
       "    .dataframe thead th {\n",
       "        text-align: right;\n",
       "    }\n",
       "</style>\n",
       "<table border=\"1\" class=\"dataframe\">\n",
       "  <thead>\n",
       "    <tr style=\"text-align: right;\">\n",
       "      <th></th>\n",
       "      <th>date</th>\n",
       "      <th>numbers</th>\n",
       "    </tr>\n",
       "  </thead>\n",
       "  <tbody>\n",
       "    <tr>\n",
       "      <th>0</th>\n",
       "      <td>2020-10-13</td>\n",
       "      <td>5</td>\n",
       "    </tr>\n",
       "    <tr>\n",
       "      <th>1</th>\n",
       "      <td>2020-10-13</td>\n",
       "      <td>14</td>\n",
       "    </tr>\n",
       "    <tr>\n",
       "      <th>2</th>\n",
       "      <td>2020-10-13</td>\n",
       "      <td>38</td>\n",
       "    </tr>\n",
       "    <tr>\n",
       "      <th>3</th>\n",
       "      <td>2020-10-13</td>\n",
       "      <td>41</td>\n",
       "    </tr>\n",
       "    <tr>\n",
       "      <th>4</th>\n",
       "      <td>2020-10-13</td>\n",
       "      <td>46</td>\n",
       "    </tr>\n",
       "    <tr>\n",
       "      <th>5</th>\n",
       "      <td>2020-10-09</td>\n",
       "      <td>11</td>\n",
       "    </tr>\n",
       "    <tr>\n",
       "      <th>6</th>\n",
       "      <td>2020-10-09</td>\n",
       "      <td>15</td>\n",
       "    </tr>\n",
       "    <tr>\n",
       "      <th>7</th>\n",
       "      <td>2020-10-09</td>\n",
       "      <td>35</td>\n",
       "    </tr>\n",
       "    <tr>\n",
       "      <th>8</th>\n",
       "      <td>2020-10-09</td>\n",
       "      <td>41</td>\n",
       "    </tr>\n",
       "    <tr>\n",
       "      <th>9</th>\n",
       "      <td>2020-10-09</td>\n",
       "      <td>50</td>\n",
       "    </tr>\n",
       "  </tbody>\n",
       "</table>\n",
       "</div>"
      ],
      "text/plain": [
       "        date  numbers\n",
       "0 2020-10-13        5\n",
       "1 2020-10-13       14\n",
       "2 2020-10-13       38\n",
       "3 2020-10-13       41\n",
       "4 2020-10-13       46\n",
       "5 2020-10-09       11\n",
       "6 2020-10-09       15\n",
       "7 2020-10-09       35\n",
       "8 2020-10-09       41\n",
       "9 2020-10-09       50"
      ]
     },
     "execution_count": 7,
     "metadata": {},
     "output_type": "execute_result"
    }
   ],
   "source": [
    "df_numbers.head(10)"
   ]
  },
  {
   "cell_type": "code",
   "execution_count": 8,
   "metadata": {},
   "outputs": [
    {
     "data": {
      "text/html": [
       "<div>\n",
       "<style scoped>\n",
       "    .dataframe tbody tr th:only-of-type {\n",
       "        vertical-align: middle;\n",
       "    }\n",
       "\n",
       "    .dataframe tbody tr th {\n",
       "        vertical-align: top;\n",
       "    }\n",
       "\n",
       "    .dataframe thead th {\n",
       "        text-align: right;\n",
       "    }\n",
       "</style>\n",
       "<table border=\"1\" class=\"dataframe\">\n",
       "  <thead>\n",
       "    <tr style=\"text-align: right;\">\n",
       "      <th></th>\n",
       "      <th>date</th>\n",
       "      <th>stars</th>\n",
       "    </tr>\n",
       "  </thead>\n",
       "  <tbody>\n",
       "    <tr>\n",
       "      <th>0</th>\n",
       "      <td>2020-10-13</td>\n",
       "      <td>1</td>\n",
       "    </tr>\n",
       "    <tr>\n",
       "      <th>1</th>\n",
       "      <td>2020-10-13</td>\n",
       "      <td>10</td>\n",
       "    </tr>\n",
       "    <tr>\n",
       "      <th>2</th>\n",
       "      <td>2020-10-09</td>\n",
       "      <td>5</td>\n",
       "    </tr>\n",
       "    <tr>\n",
       "      <th>3</th>\n",
       "      <td>2020-10-09</td>\n",
       "      <td>8</td>\n",
       "    </tr>\n",
       "    <tr>\n",
       "      <th>4</th>\n",
       "      <td>2020-10-06</td>\n",
       "      <td>9</td>\n",
       "    </tr>\n",
       "    <tr>\n",
       "      <th>5</th>\n",
       "      <td>2020-10-06</td>\n",
       "      <td>11</td>\n",
       "    </tr>\n",
       "    <tr>\n",
       "      <th>6</th>\n",
       "      <td>2020-10-02</td>\n",
       "      <td>3</td>\n",
       "    </tr>\n",
       "    <tr>\n",
       "      <th>7</th>\n",
       "      <td>2020-10-02</td>\n",
       "      <td>9</td>\n",
       "    </tr>\n",
       "    <tr>\n",
       "      <th>8</th>\n",
       "      <td>2020-09-29</td>\n",
       "      <td>11</td>\n",
       "    </tr>\n",
       "    <tr>\n",
       "      <th>9</th>\n",
       "      <td>2020-09-29</td>\n",
       "      <td>12</td>\n",
       "    </tr>\n",
       "  </tbody>\n",
       "</table>\n",
       "</div>"
      ],
      "text/plain": [
       "        date  stars\n",
       "0 2020-10-13      1\n",
       "1 2020-10-13     10\n",
       "2 2020-10-09      5\n",
       "3 2020-10-09      8\n",
       "4 2020-10-06      9\n",
       "5 2020-10-06     11\n",
       "6 2020-10-02      3\n",
       "7 2020-10-02      9\n",
       "8 2020-09-29     11\n",
       "9 2020-09-29     12"
      ]
     },
     "execution_count": 8,
     "metadata": {},
     "output_type": "execute_result"
    }
   ],
   "source": [
    "df_stars.head(10)"
   ]
  },
  {
   "cell_type": "markdown",
   "metadata": {},
   "source": [
    "**2. Queremos obtener algunas estadísticas relativas al histórico.\n",
    "Concretamente, ¿cuál es la moda, mediana y media de los números? ¿y\n",
    "de las estrellas? ¿puedes obtenerlo para cada año? ¿y para cada mes?\n",
    "Nota: cuando decimos cada mes, nos referimos a todos los meses de, por\n",
    "ejemplo, enero en conjunto. No al mes de enero de 2018 por un lado, al\n",
    "mes de enero de 2017 por otro lado, etc.\n",
    "Escribe el código asociado para realizar todos estos cálculos.**"
   ]
  },
  {
   "cell_type": "markdown",
   "metadata": {},
   "source": [
    "Podemos usar las funciones mean, median y mode para calcular estos valores de todos los números y estrellas:"
   ]
  },
  {
   "cell_type": "code",
   "execution_count": 9,
   "metadata": {},
   "outputs": [
    {
     "name": "stdout",
     "output_type": "stream",
     "text": [
      "La media de los números es: 25.34\n",
      "La mediana de los números es: 25.0\n",
      "La moda de los números es: 23\n",
      "La media de las estrellas es: 5.88\n",
      "La mediana de las estrellas es: 6.0\n",
      "La moda de las estrellas es: 2\n"
     ]
    }
   ],
   "source": [
    "print(f\"La media de los números es: {df_numbers.numbers.mean():0.2f}\")\n",
    "print(f\"La mediana de los números es: {df_numbers.numbers.median()}\")\n",
    "print(f\"La moda de los números es: {df_numbers.numbers.mode()[0]}\")\n",
    "print(f\"La media de las estrellas es: {df_stars.stars.mean():0.2f}\")\n",
    "print(f\"La mediana de las estrellas es: {df_stars.stars.median()}\")\n",
    "print(f\"La moda de las estrellas es: {df_stars.stars.mode()[0]}\")"
   ]
  },
  {
   "cell_type": "markdown",
   "metadata": {},
   "source": [
    "Para calcular los valores por años, primero se agrupan los dataframes por año. Aprovechando que la columna date es de tipo datetime, podemos agrupar por año mediante ``groupby(df_numbers[\"date\"].dt.year)``. Podemos aplicar las funciones mean y median para calcular la media y mediana directamente. Por otro lado, para calcular la moda, tenemos que aplicar `agg(pd.Series.mode)` ya que la función mode no ha sido implementada para objetos groupby, pero mediante la función agg podemos usar funciones para Series en objetos groupby. Por último, para presentar todos los datos juntos tabulados se ha realizado un merge de todas las series."
   ]
  },
  {
   "cell_type": "code",
   "execution_count": 10,
   "metadata": {},
   "outputs": [
    {
     "data": {
      "text/html": [
       "<div>\n",
       "<style scoped>\n",
       "    .dataframe tbody tr th:only-of-type {\n",
       "        vertical-align: middle;\n",
       "    }\n",
       "\n",
       "    .dataframe tbody tr th {\n",
       "        vertical-align: top;\n",
       "    }\n",
       "\n",
       "    .dataframe thead th {\n",
       "        text-align: right;\n",
       "    }\n",
       "</style>\n",
       "<table border=\"1\" class=\"dataframe\">\n",
       "  <thead>\n",
       "    <tr style=\"text-align: right;\">\n",
       "      <th></th>\n",
       "      <th>mean_numbers</th>\n",
       "      <th>median_number</th>\n",
       "      <th>mode_numbers</th>\n",
       "      <th>mean_stars</th>\n",
       "      <th>median_stars</th>\n",
       "      <th>mode_stars</th>\n",
       "    </tr>\n",
       "    <tr>\n",
       "      <th>date</th>\n",
       "      <th></th>\n",
       "      <th></th>\n",
       "      <th></th>\n",
       "      <th></th>\n",
       "      <th></th>\n",
       "      <th></th>\n",
       "    </tr>\n",
       "  </thead>\n",
       "  <tbody>\n",
       "    <tr>\n",
       "      <th>2004</th>\n",
       "      <td>24.148936</td>\n",
       "      <td>24</td>\n",
       "      <td>1</td>\n",
       "      <td>5.042553</td>\n",
       "      <td>5.0</td>\n",
       "      <td>5</td>\n",
       "    </tr>\n",
       "    <tr>\n",
       "      <th>2005</th>\n",
       "      <td>25.311538</td>\n",
       "      <td>25</td>\n",
       "      <td>11</td>\n",
       "      <td>4.923077</td>\n",
       "      <td>5.0</td>\n",
       "      <td>1</td>\n",
       "    </tr>\n",
       "    <tr>\n",
       "      <th>2006</th>\n",
       "      <td>24.669231</td>\n",
       "      <td>24</td>\n",
       "      <td>50</td>\n",
       "      <td>4.759615</td>\n",
       "      <td>5.0</td>\n",
       "      <td>3</td>\n",
       "    </tr>\n",
       "    <tr>\n",
       "      <th>2007</th>\n",
       "      <td>25.638462</td>\n",
       "      <td>25</td>\n",
       "      <td>41</td>\n",
       "      <td>5.076923</td>\n",
       "      <td>5.0</td>\n",
       "      <td>[6, 8]</td>\n",
       "    </tr>\n",
       "    <tr>\n",
       "      <th>2008</th>\n",
       "      <td>24.630769</td>\n",
       "      <td>22</td>\n",
       "      <td>50</td>\n",
       "      <td>5.096154</td>\n",
       "      <td>5.0</td>\n",
       "      <td>[4, 5, 7]</td>\n",
       "    </tr>\n",
       "    <tr>\n",
       "      <th>2009</th>\n",
       "      <td>25.769231</td>\n",
       "      <td>25</td>\n",
       "      <td>20</td>\n",
       "      <td>4.817308</td>\n",
       "      <td>5.0</td>\n",
       "      <td>[3, 5]</td>\n",
       "    </tr>\n",
       "    <tr>\n",
       "      <th>2010</th>\n",
       "      <td>26.335849</td>\n",
       "      <td>28</td>\n",
       "      <td>[38, 46]</td>\n",
       "      <td>5.264151</td>\n",
       "      <td>5.5</td>\n",
       "      <td>7</td>\n",
       "    </tr>\n",
       "    <tr>\n",
       "      <th>2011</th>\n",
       "      <td>25.653488</td>\n",
       "      <td>24</td>\n",
       "      <td>12</td>\n",
       "      <td>5.773256</td>\n",
       "      <td>5.5</td>\n",
       "      <td>2</td>\n",
       "    </tr>\n",
       "    <tr>\n",
       "      <th>2012</th>\n",
       "      <td>25.088462</td>\n",
       "      <td>25</td>\n",
       "      <td>10</td>\n",
       "      <td>6.100962</td>\n",
       "      <td>6.0</td>\n",
       "      <td>2</td>\n",
       "    </tr>\n",
       "    <tr>\n",
       "      <th>2013</th>\n",
       "      <td>25.516190</td>\n",
       "      <td>26</td>\n",
       "      <td>[13, 28, 42]</td>\n",
       "      <td>5.890476</td>\n",
       "      <td>6.0</td>\n",
       "      <td>2</td>\n",
       "    </tr>\n",
       "    <tr>\n",
       "      <th>2014</th>\n",
       "      <td>25.846154</td>\n",
       "      <td>26</td>\n",
       "      <td>13</td>\n",
       "      <td>6.096154</td>\n",
       "      <td>6.0</td>\n",
       "      <td>[1, 10]</td>\n",
       "    </tr>\n",
       "    <tr>\n",
       "      <th>2015</th>\n",
       "      <td>25.619231</td>\n",
       "      <td>26</td>\n",
       "      <td>30</td>\n",
       "      <td>6.591346</td>\n",
       "      <td>7.0</td>\n",
       "      <td>8</td>\n",
       "    </tr>\n",
       "    <tr>\n",
       "      <th>2016</th>\n",
       "      <td>24.874286</td>\n",
       "      <td>26</td>\n",
       "      <td>37</td>\n",
       "      <td>6.090476</td>\n",
       "      <td>6.0</td>\n",
       "      <td>2</td>\n",
       "    </tr>\n",
       "    <tr>\n",
       "      <th>2017</th>\n",
       "      <td>25.380769</td>\n",
       "      <td>25</td>\n",
       "      <td>[17, 30]</td>\n",
       "      <td>6.201923</td>\n",
       "      <td>6.0</td>\n",
       "      <td>3</td>\n",
       "    </tr>\n",
       "    <tr>\n",
       "      <th>2018</th>\n",
       "      <td>25.650000</td>\n",
       "      <td>25</td>\n",
       "      <td>15</td>\n",
       "      <td>6.735577</td>\n",
       "      <td>7.0</td>\n",
       "      <td>12</td>\n",
       "    </tr>\n",
       "    <tr>\n",
       "      <th>2019</th>\n",
       "      <td>25.550476</td>\n",
       "      <td>26</td>\n",
       "      <td>1</td>\n",
       "      <td>6.100000</td>\n",
       "      <td>6.0</td>\n",
       "      <td>2</td>\n",
       "    </tr>\n",
       "    <tr>\n",
       "      <th>2020</th>\n",
       "      <td>24.541463</td>\n",
       "      <td>24</td>\n",
       "      <td>11</td>\n",
       "      <td>6.384146</td>\n",
       "      <td>6.0</td>\n",
       "      <td>6</td>\n",
       "    </tr>\n",
       "  </tbody>\n",
       "</table>\n",
       "</div>"
      ],
      "text/plain": [
       "      mean_numbers  median_number  mode_numbers  mean_stars  median_stars  \\\n",
       "date                                                                        \n",
       "2004     24.148936             24             1    5.042553           5.0   \n",
       "2005     25.311538             25            11    4.923077           5.0   \n",
       "2006     24.669231             24            50    4.759615           5.0   \n",
       "2007     25.638462             25            41    5.076923           5.0   \n",
       "2008     24.630769             22            50    5.096154           5.0   \n",
       "2009     25.769231             25            20    4.817308           5.0   \n",
       "2010     26.335849             28      [38, 46]    5.264151           5.5   \n",
       "2011     25.653488             24            12    5.773256           5.5   \n",
       "2012     25.088462             25            10    6.100962           6.0   \n",
       "2013     25.516190             26  [13, 28, 42]    5.890476           6.0   \n",
       "2014     25.846154             26            13    6.096154           6.0   \n",
       "2015     25.619231             26            30    6.591346           7.0   \n",
       "2016     24.874286             26            37    6.090476           6.0   \n",
       "2017     25.380769             25      [17, 30]    6.201923           6.0   \n",
       "2018     25.650000             25            15    6.735577           7.0   \n",
       "2019     25.550476             26             1    6.100000           6.0   \n",
       "2020     24.541463             24            11    6.384146           6.0   \n",
       "\n",
       "     mode_stars  \n",
       "date             \n",
       "2004          5  \n",
       "2005          1  \n",
       "2006          3  \n",
       "2007     [6, 8]  \n",
       "2008  [4, 5, 7]  \n",
       "2009     [3, 5]  \n",
       "2010          7  \n",
       "2011          2  \n",
       "2012          2  \n",
       "2013          2  \n",
       "2014    [1, 10]  \n",
       "2015          8  \n",
       "2016          2  \n",
       "2017          3  \n",
       "2018         12  \n",
       "2019          2  \n",
       "2020          6  "
      ]
     },
     "execution_count": 10,
     "metadata": {},
     "output_type": "execute_result"
    }
   ],
   "source": [
    "# Estadística agrupada por años\n",
    "results_year = (\n",
    "    df_numbers.groupby(df_numbers[\"date\"].dt.year).mean() # media de los números\n",
    "    .merge(df_numbers.groupby(df_numbers[\"date\"].dt.year).median(), on=\"date\") # mediana\n",
    "    .merge(\n",
    "        df_numbers.groupby(df_numbers[\"date\"].dt.year) # moda\n",
    "        .numbers.agg(pd.Series.mode)\n",
    "        .rename(\"mode\"),\n",
    "        on=\"date\",\n",
    "    )\n",
    "    .merge(df_stars.groupby(df_stars[\"date\"].dt.year).mean(), on=\"date\") # media estrellas\n",
    "    .merge(df_stars.groupby(df_stars[\"date\"].dt.year).median(), on=\"date\") # mediana\n",
    "    .merge(\n",
    "        df_stars.groupby(df_stars[\"date\"].dt.year) # moda\n",
    "        .stars.agg(pd.Series.mode)\n",
    "        .rename(\"mode\"),\n",
    "        on=\"date\",\n",
    "    )\n",
    ")\n",
    "\n",
    "results_year.columns = [\n",
    "    \"mean_numbers\",\n",
    "    \"median_number\",\n",
    "    \"mode_numbers\",\n",
    "    \"mean_stars\",\n",
    "    \"median_stars\",\n",
    "    \"mode_stars\",\n",
    "]\n",
    "results_year"
   ]
  },
  {
   "cell_type": "markdown",
   "metadata": {},
   "source": [
    "Para las estadísticas agrupadas por meses se sigue la misma estrategia anterior pero en este caso realizando la agrupación por meses: ``groupby(df_numbers[\"date\"].dt.month)``."
   ]
  },
  {
   "cell_type": "code",
   "execution_count": 11,
   "metadata": {},
   "outputs": [
    {
     "data": {
      "text/html": [
       "<div>\n",
       "<style scoped>\n",
       "    .dataframe tbody tr th:only-of-type {\n",
       "        vertical-align: middle;\n",
       "    }\n",
       "\n",
       "    .dataframe tbody tr th {\n",
       "        vertical-align: top;\n",
       "    }\n",
       "\n",
       "    .dataframe thead th {\n",
       "        text-align: right;\n",
       "    }\n",
       "</style>\n",
       "<table border=\"1\" class=\"dataframe\">\n",
       "  <thead>\n",
       "    <tr style=\"text-align: right;\">\n",
       "      <th></th>\n",
       "      <th>mean_numbers</th>\n",
       "      <th>median_number</th>\n",
       "      <th>mode_numbers</th>\n",
       "      <th>mean_stars</th>\n",
       "      <th>median_stars</th>\n",
       "      <th>mode_stars</th>\n",
       "    </tr>\n",
       "    <tr>\n",
       "      <th>date</th>\n",
       "      <th></th>\n",
       "      <th></th>\n",
       "      <th></th>\n",
       "      <th></th>\n",
       "      <th></th>\n",
       "      <th></th>\n",
       "    </tr>\n",
       "  </thead>\n",
       "  <tbody>\n",
       "    <tr>\n",
       "      <th>1</th>\n",
       "      <td>24.677477</td>\n",
       "      <td>24.0</td>\n",
       "      <td>10</td>\n",
       "      <td>5.792793</td>\n",
       "      <td>6</td>\n",
       "      <td>8</td>\n",
       "    </tr>\n",
       "    <tr>\n",
       "      <th>2</th>\n",
       "      <td>26.148077</td>\n",
       "      <td>27.0</td>\n",
       "      <td>[3, 30, 50]</td>\n",
       "      <td>6.014423</td>\n",
       "      <td>6</td>\n",
       "      <td>9</td>\n",
       "    </tr>\n",
       "    <tr>\n",
       "      <th>3</th>\n",
       "      <td>25.340351</td>\n",
       "      <td>26.0</td>\n",
       "      <td>23</td>\n",
       "      <td>6.381579</td>\n",
       "      <td>6</td>\n",
       "      <td>6</td>\n",
       "    </tr>\n",
       "    <tr>\n",
       "      <th>4</th>\n",
       "      <td>25.887500</td>\n",
       "      <td>25.5</td>\n",
       "      <td>24</td>\n",
       "      <td>5.678571</td>\n",
       "      <td>5</td>\n",
       "      <td>5</td>\n",
       "    </tr>\n",
       "    <tr>\n",
       "      <th>5</th>\n",
       "      <td>25.176471</td>\n",
       "      <td>26.0</td>\n",
       "      <td>26</td>\n",
       "      <td>5.991597</td>\n",
       "      <td>6</td>\n",
       "      <td>6</td>\n",
       "    </tr>\n",
       "    <tr>\n",
       "      <th>6</th>\n",
       "      <td>25.342609</td>\n",
       "      <td>25.0</td>\n",
       "      <td>39</td>\n",
       "      <td>5.786957</td>\n",
       "      <td>6</td>\n",
       "      <td>1</td>\n",
       "    </tr>\n",
       "    <tr>\n",
       "      <th>7</th>\n",
       "      <td>25.114050</td>\n",
       "      <td>24.0</td>\n",
       "      <td>[23, 49]</td>\n",
       "      <td>5.859504</td>\n",
       "      <td>6</td>\n",
       "      <td>3</td>\n",
       "    </tr>\n",
       "    <tr>\n",
       "      <th>8</th>\n",
       "      <td>25.811864</td>\n",
       "      <td>26.0</td>\n",
       "      <td>42</td>\n",
       "      <td>6.016949</td>\n",
       "      <td>6</td>\n",
       "      <td>5</td>\n",
       "    </tr>\n",
       "    <tr>\n",
       "      <th>9</th>\n",
       "      <td>25.813793</td>\n",
       "      <td>27.0</td>\n",
       "      <td>[6, 14, 38]</td>\n",
       "      <td>5.750000</td>\n",
       "      <td>6</td>\n",
       "      <td>[1, 9]</td>\n",
       "    </tr>\n",
       "    <tr>\n",
       "      <th>10</th>\n",
       "      <td>25.351304</td>\n",
       "      <td>25.0</td>\n",
       "      <td>23</td>\n",
       "      <td>6.000000</td>\n",
       "      <td>6</td>\n",
       "      <td>8</td>\n",
       "    </tr>\n",
       "    <tr>\n",
       "      <th>11</th>\n",
       "      <td>24.411215</td>\n",
       "      <td>23.0</td>\n",
       "      <td>[14, 23, 36]</td>\n",
       "      <td>5.738318</td>\n",
       "      <td>5</td>\n",
       "      <td>2</td>\n",
       "    </tr>\n",
       "    <tr>\n",
       "      <th>12</th>\n",
       "      <td>25.057658</td>\n",
       "      <td>25.0</td>\n",
       "      <td>[31, 43, 44]</td>\n",
       "      <td>5.554054</td>\n",
       "      <td>5</td>\n",
       "      <td>2</td>\n",
       "    </tr>\n",
       "  </tbody>\n",
       "</table>\n",
       "</div>"
      ],
      "text/plain": [
       "      mean_numbers  median_number  mode_numbers  mean_stars  median_stars  \\\n",
       "date                                                                        \n",
       "1        24.677477           24.0            10    5.792793             6   \n",
       "2        26.148077           27.0   [3, 30, 50]    6.014423             6   \n",
       "3        25.340351           26.0            23    6.381579             6   \n",
       "4        25.887500           25.5            24    5.678571             5   \n",
       "5        25.176471           26.0            26    5.991597             6   \n",
       "6        25.342609           25.0            39    5.786957             6   \n",
       "7        25.114050           24.0      [23, 49]    5.859504             6   \n",
       "8        25.811864           26.0            42    6.016949             6   \n",
       "9        25.813793           27.0   [6, 14, 38]    5.750000             6   \n",
       "10       25.351304           25.0            23    6.000000             6   \n",
       "11       24.411215           23.0  [14, 23, 36]    5.738318             5   \n",
       "12       25.057658           25.0  [31, 43, 44]    5.554054             5   \n",
       "\n",
       "     mode_stars  \n",
       "date             \n",
       "1             8  \n",
       "2             9  \n",
       "3             6  \n",
       "4             5  \n",
       "5             6  \n",
       "6             1  \n",
       "7             3  \n",
       "8             5  \n",
       "9        [1, 9]  \n",
       "10            8  \n",
       "11            2  \n",
       "12            2  "
      ]
     },
     "execution_count": 11,
     "metadata": {},
     "output_type": "execute_result"
    }
   ],
   "source": [
    "results_month = (\n",
    "    df_numbers.groupby(df_numbers[\"date\"].dt.month).mean() # media de los números\n",
    "    .merge(df_numbers.groupby(df_numbers[\"date\"].dt.month).median(), on=\"date\") # mediana\n",
    "    .merge(\n",
    "        df_numbers.groupby(df_numbers[\"date\"].dt.month) # moda\n",
    "        .numbers.agg(pd.Series.mode)\n",
    "        .rename(\"mode\"),\n",
    "        on=\"date\",\n",
    "    )\n",
    "    .merge(df_stars.groupby(df_stars[\"date\"].dt.month).mean(), on=\"date\") # media de las estrellas\n",
    "    .merge(df_stars.groupby(df_stars[\"date\"].dt.month).median(), on=\"date\")  # mediana\n",
    "    .merge(\n",
    "        df_stars.groupby(df_stars[\"date\"].dt.month)  # moda\n",
    "        .stars.agg(pd.Series.mode)\n",
    "        .rename(\"mode\"),\n",
    "        on=\"date\",\n",
    "    )\n",
    ")\n",
    "\n",
    "results_month.columns = [\n",
    "    \"mean_numbers\",\n",
    "    \"median_number\",\n",
    "    \"mode_numbers\",\n",
    "    \"mean_stars\",\n",
    "    \"median_stars\",\n",
    "    \"mode_stars\",\n",
    "]\n",
    "results_month"
   ]
  },
  {
   "cell_type": "markdown",
   "metadata": {},
   "source": [
    "**3. ¿Cuáles han sido los 5 números más repetidos? ¿y las 2 estrellas?\n",
    "Responde a las mismas preguntas para cada año y cada mes (entendiendo\n",
    "mes igual que en el ejercicio anterior).\n",
    "Escribe el código asociado para realizar todos los cálculos.**"
   ]
  },
  {
   "cell_type": "markdown",
   "metadata": {},
   "source": [
    "Para contestar a estas preguntas se ha escrito dos funciones para contar los números y estrellas más repetidos. La única diferencia entre las funciones es que para los números busca los 5 más repetidos y para las estrellas busca solo 2. La funcionalidad especial de estas funciones es que si hay empate devuelve todos los números empatados, y por eso es que se han escrito estas funciones y no se han usado otras funciones más estándar."
   ]
  },
  {
   "cell_type": "code",
   "execution_count": 12,
   "metadata": {},
   "outputs": [],
   "source": [
    "from collections import Counter\n",
    "def most_frec_numbers(x):\n",
    "    sol = []\n",
    "    prev = 0 # frecuencia previa\n",
    "    # Clave: número, valor: frecuencia\n",
    "    # iteramos para añadir los 5 más frecuentes\n",
    "    # si hay empate sigue añadiendo\n",
    "    # si hemos superado el umbral (5) deja de iterar\n",
    "    for number in Counter(x).most_common():\n",
    "        if number[1] >= prev: # seguir añadiendo si hay empate\n",
    "            prev = number[1]\n",
    "            sol.append(number[0])\n",
    "        elif number[1] < prev and len(sol) < 5: # añade si hay menos de 5\n",
    "            prev = number[1]\n",
    "            sol.append(number[0])\n",
    "        elif number[1] < prev and len(sol) >= 5: # se ha llegado ya a 5 números\n",
    "            break\n",
    "    return sol\n",
    "\n",
    "def most_frec_stars(x):\n",
    "    sol = []\n",
    "    prev = 0 # frecuencia previa\n",
    "    # Clave: estrella, valor: frecuencia\n",
    "    # iteramos para añadir los 2 más frecuentes\n",
    "    # si hay empate sigue añadiendo\n",
    "    # si hemos superado el umbral (2) deja de iterar\n",
    "    for number in Counter(x).most_common():\n",
    "        if number[1] >= prev: # seguir añadiendo si hay empate\n",
    "            prev = number[1]\n",
    "            sol.append(number[0])\n",
    "        elif number[1] < prev and len(sol) < 2: # añade si hay menos de 2\n",
    "            prev = number[1]\n",
    "            sol.append(number[0])\n",
    "        elif number[1] < prev and len(sol) >= 2: # se ha llegado ya a 2 números\n",
    "            break\n",
    "    return sol\n"
   ]
  },
  {
   "cell_type": "markdown",
   "metadata": {},
   "source": [
    "Usamos las funciones anteriores para encontrar los números y estrellas más frecuentes:"
   ]
  },
  {
   "cell_type": "code",
   "execution_count": 13,
   "metadata": {},
   "outputs": [
    {
     "data": {
      "text/plain": [
       "[23, 44, 50, 19, 4]"
      ]
     },
     "execution_count": 13,
     "metadata": {},
     "output_type": "execute_result"
    }
   ],
   "source": [
    "most_frec_numbers(df_numbers.numbers)"
   ]
  },
  {
   "cell_type": "code",
   "execution_count": 14,
   "metadata": {},
   "outputs": [
    {
     "data": {
      "text/plain": [
       "[2, 8]"
      ]
     },
     "execution_count": 14,
     "metadata": {},
     "output_type": "execute_result"
    }
   ],
   "source": [
    "most_frec_stars(df_stars.stars)"
   ]
  },
  {
   "cell_type": "markdown",
   "metadata": {},
   "source": [
    "Para encontrar los números y estrellas más frecuentes agrupados por meses y años, agrupamos como en el apartado anterior y aplicamos las funciones escritas para este apartado usando el método agg: `agg(repetidos_numbers)`"
   ]
  },
  {
   "cell_type": "code",
   "execution_count": 15,
   "metadata": {},
   "outputs": [
    {
     "data": {
      "text/plain": [
       "date\n",
       "2004                                   [1, 15, 4, 37, 10]\n",
       "2005                                  [11, 50, 3, 47, 26]\n",
       "2006                          [50, 9, 12, 8, 5, 49, 3, 1]\n",
       "2007    [41, 22, 25, 20, 45, 7, 37, 30, 36, 48, 19, 29...\n",
       "2008                                  [50, 19, 45, 7, 37]\n",
       "2009                           [20, 30, 4, 5, 14, 35, 29]\n",
       "2010                                   [38, 46, 36, 4, 9]\n",
       "2011                                 [12, 50, 23, 28, 14]\n",
       "2012                             [10, 44, 27, 23, 28, 25]\n",
       "2013                                 [13, 28, 42, 43, 11]\n",
       "2014                               [13, 38, 26, 25, 3, 4]\n",
       "2015                         [30, 29, 39, 17, 18, 45, 14]\n",
       "2016                                 [37, 10, 32, 27, 28]\n",
       "2017          [17, 30, 20, 4, 44, 31, 29, 19, 10, 27, 49]\n",
       "2018                                 [15, 48, 23, 17, 44]\n",
       "2019                                   [1, 39, 42, 3, 32]\n",
       "2020                                  [11, 5, 46, 15, 27]\n",
       "Name: numbers, dtype: object"
      ]
     },
     "execution_count": 15,
     "metadata": {},
     "output_type": "execute_result"
    }
   ],
   "source": [
    "# Números más frecuentes por año\n",
    "df_numbers.groupby(df_numbers[\"date\"].dt.year).numbers.agg(most_frec_numbers)"
   ]
  },
  {
   "cell_type": "code",
   "execution_count": 16,
   "metadata": {},
   "outputs": [
    {
     "data": {
      "text/plain": [
       "date\n",
       "2004           [5, 6]\n",
       "2005        [1, 7, 3]\n",
       "2006     [3, 7, 1, 6]\n",
       "2007           [6, 8]\n",
       "2008        [7, 5, 4]\n",
       "2009           [5, 3]\n",
       "2010           [7, 3]\n",
       "2011        [2, 8, 5]\n",
       "2012    [2, 10, 8, 9]\n",
       "2013           [2, 5]\n",
       "2014          [10, 1]\n",
       "2015          [8, 10]\n",
       "2016          [2, 10]\n",
       "2017           [3, 9]\n",
       "2018      [12, 4, 11]\n",
       "2019           [2, 6]\n",
       "2020           [6, 2]\n",
       "Name: stars, dtype: object"
      ]
     },
     "execution_count": 16,
     "metadata": {},
     "output_type": "execute_result"
    }
   ],
   "source": [
    "# Estrellas más frecuentes por año\n",
    "df_stars.groupby(df_stars[\"date\"].dt.year).stars.agg(most_frec_stars)"
   ]
  },
  {
   "cell_type": "code",
   "execution_count": 17,
   "metadata": {},
   "outputs": [
    {
     "data": {
      "text/plain": [
       "date\n",
       "1                [10, 27, 44, 30, 19]\n",
       "2             [30, 3, 50, 38, 14, 28]\n",
       "3     [23, 44, 36, 4, 17, 24, 26, 43]\n",
       "4                [24, 26, 50, 25, 44]\n",
       "5          [26, 20, 5, 7, 27, 25, 45]\n",
       "6                 [39, 11, 17, 34, 7]\n",
       "7                 [49, 23, 15, 11, 4]\n",
       "8         [42, 31, 37, 50, 16, 30, 5]\n",
       "9             [14, 38, 6, 44, 45, 35]\n",
       "10               [23, 21, 20, 12, 32]\n",
       "11               [23, 14, 36, 10, 17]\n",
       "12         [31, 43, 44, 8, 1, 18, 29]\n",
       "Name: numbers, dtype: object"
      ]
     },
     "execution_count": 17,
     "metadata": {},
     "output_type": "execute_result"
    }
   ],
   "source": [
    "# Números más frecuentes por mes\n",
    "df_numbers.groupby(df_numbers[\"date\"].dt.month).numbers.agg(most_frec_numbers)"
   ]
  },
  {
   "cell_type": "code",
   "execution_count": 18,
   "metadata": {},
   "outputs": [
    {
     "data": {
      "text/plain": [
       "date\n",
       "1     [8, 4, 6]\n",
       "2     [9, 2, 7]\n",
       "3        [6, 9]\n",
       "4        [5, 2]\n",
       "5        [6, 9]\n",
       "6     [1, 2, 9]\n",
       "7        [3, 8]\n",
       "8        [5, 8]\n",
       "9        [1, 9]\n",
       "10       [8, 3]\n",
       "11       [2, 3]\n",
       "12    [2, 3, 7]\n",
       "Name: stars, dtype: object"
      ]
     },
     "execution_count": 18,
     "metadata": {},
     "output_type": "execute_result"
    }
   ],
   "source": [
    "# Estrellas más frecuentes por mes\n",
    "df_stars.groupby(df_stars[\"date\"].dt.month).stars.agg(most_frec_stars)"
   ]
  },
  {
   "cell_type": "markdown",
   "metadata": {},
   "source": [
    "En los casos en los que hay más de 5 números o más de 2 estrellas es porque hay empate en el número de veces que están repetidos algunos de los más frecuentes y por tanto se ha incluido ambos."
   ]
  },
  {
   "cell_type": "markdown",
   "metadata": {},
   "source": [
    "**4. Para realizar todos estos procesamientos de cálculo de estadísticas y\n",
    "elementos más repetidos, ¿has exportado la estructura inicial a alguna otra\n",
    "estructura que te facilite el procesamiento? Justifica la respuesta**"
   ]
  },
  {
   "cell_type": "markdown",
   "metadata": {},
   "source": [
    "Se ha usado como estructura para realizar los calculos los dataframes preparados en el apartado 1. Estos dataframes ya fueron especialmente diseñados para realizar con facilidad los cálculos de los apartados 2 y 3. Los dataframes son una estructura de datos muy flexible para los que ya existe una gran variedad de funciones para realizar transformaciones, agrupaciones y cálculos estadísticos. Cuando ha sido posible se han utilizado funciones ya preparadas. Sin embargo, cuando ha sido necesario preparar funciones personalizadas, los dataframe también permiten aplicar funciones personalizadas con mucha facilidad como en el caso explorado en el apartado 3. Por tanto, no ha sido necesario el uso de estructuras adicionales para la contestación de estos apartado gracias a la flexibilidad y funcionalidad de los dataframes."
   ]
  },
  {
   "cell_type": "markdown",
   "metadata": {},
   "source": [
    "**5. Implementa una función que dada una apuesta, genere una tabla de\n",
    "posibles premios que dicha apuesta hubiera obtenido en los sorteos de los\n",
    "que se dispone de información. Se deberá indicar tanto la categoría de\n",
    "premio como la fecha del sorteo y se omitirán aquellos sorteos en los que\n",
    "la apuesta no hubiera resultado premiada. La función debe de comprobar\n",
    "que la apuesta sea válida antes de buscar los premios.**"
   ]
  },
  {
   "cell_type": "markdown",
   "metadata": {},
   "source": [
    "Para contestar a esta pregunta primero se van a volver a cargar los datos para tenerlos en un dataframe con una estructura diferente. En este caso vamos a crear un dataframe en el que cada fila consista en la fecha del sorteo, un set con los 5 números ganadores, y otro set con las dos estrellas. Este será el dataframe que la función usará para comparar la apuesta que le hemos proporcionado con el historial."
   ]
  },
  {
   "cell_type": "code",
   "execution_count": 19,
   "metadata": {},
   "outputs": [
    {
     "data": {
      "text/html": [
       "<div>\n",
       "<style scoped>\n",
       "    .dataframe tbody tr th:only-of-type {\n",
       "        vertical-align: middle;\n",
       "    }\n",
       "\n",
       "    .dataframe tbody tr th {\n",
       "        vertical-align: top;\n",
       "    }\n",
       "\n",
       "    .dataframe thead th {\n",
       "        text-align: right;\n",
       "    }\n",
       "</style>\n",
       "<table border=\"1\" class=\"dataframe\">\n",
       "  <thead>\n",
       "    <tr style=\"text-align: right;\">\n",
       "      <th></th>\n",
       "      <th>date</th>\n",
       "      <th>numbers</th>\n",
       "      <th>stars</th>\n",
       "    </tr>\n",
       "  </thead>\n",
       "  <tbody>\n",
       "    <tr>\n",
       "      <th>0</th>\n",
       "      <td>2020-10-13</td>\n",
       "      <td>{5, 38, 41, 14, 46}</td>\n",
       "      <td>{1, 10}</td>\n",
       "    </tr>\n",
       "    <tr>\n",
       "      <th>1</th>\n",
       "      <td>2020-10-09</td>\n",
       "      <td>{35, 41, 11, 15, 50}</td>\n",
       "      <td>{8, 5}</td>\n",
       "    </tr>\n",
       "    <tr>\n",
       "      <th>2</th>\n",
       "      <td>2020-10-06</td>\n",
       "      <td>{4, 36, 41, 47, 21}</td>\n",
       "      <td>{9, 11}</td>\n",
       "    </tr>\n",
       "    <tr>\n",
       "      <th>3</th>\n",
       "      <td>2020-10-02</td>\n",
       "      <td>{6, 40, 12, 45, 15}</td>\n",
       "      <td>{9, 3}</td>\n",
       "    </tr>\n",
       "    <tr>\n",
       "      <th>4</th>\n",
       "      <td>2020-09-29</td>\n",
       "      <td>{4, 41, 44, 14, 16}</td>\n",
       "      <td>{11, 12}</td>\n",
       "    </tr>\n",
       "  </tbody>\n",
       "</table>\n",
       "</div>"
      ],
      "text/plain": [
       "        date               numbers     stars\n",
       "0 2020-10-13   {5, 38, 41, 14, 46}   {1, 10}\n",
       "1 2020-10-09  {35, 41, 11, 15, 50}    {8, 5}\n",
       "2 2020-10-06   {4, 36, 41, 47, 21}   {9, 11}\n",
       "3 2020-10-02   {6, 40, 12, 45, 15}    {9, 3}\n",
       "4 2020-09-29   {4, 41, 44, 14, 16}  {11, 12}"
      ]
     },
     "execution_count": 19,
     "metadata": {},
     "output_type": "execute_result"
    }
   ],
   "source": [
    "f = open(\"historicoEuromillones.csv\")\n",
    "dates = []\n",
    "f.readline()\n",
    "for line in f: # Por cada fecha:\n",
    "    temp = line.strip().split(\",\")\n",
    "    # lista con la fecha, set de los números y set con las estrellas\n",
    "    sorteo = [temp[0], set([int(x)for x in temp[1:6]]),set([int(x)for x in temp[-2:]])]\n",
    "    # lista con todos los sorteos\n",
    "    dates.append(sorteo)\n",
    "f.close()\n",
    "\n",
    "# Se pasa a dataframe, se nombran las columnas y se pasa a datetime la columna date\n",
    "sorteos = pd.DataFrame(dates,columns=[\"date\", \"numbers\", \"stars\"])\n",
    "sorteos[\"date\"] = pd.to_datetime(sorteos[\"date\"], dayfirst=True)\n",
    "sorteos.head()"
   ]
  },
  {
   "cell_type": "markdown",
   "metadata": {},
   "source": [
    "Las diferentes categorías de los premios se almacenan en un diccionario, usando como clave una tupla formado por los números acertados y las estrellas acertadas, el valor es la categoría del premio. Se construye este objeto porque creo que no hay ningún patrón en como se premian las categorías y se debe observar la tabla para conocer el premio."
   ]
  },
  {
   "cell_type": "code",
   "execution_count": 20,
   "metadata": {},
   "outputs": [],
   "source": [
    "## Diccionario con tabla de las categorrías\n",
    "# Clave: (Números acertados, Estrellas acertadas)\n",
    "# Valor: Categoría\n",
    "\n",
    "D = {\n",
    "    (5,2) : 1,\n",
    "    (5,1) : 2,\n",
    "    (5,0) : 3,\n",
    "    (4,2) : 4,\n",
    "    (4,1) : 5,\n",
    "    (3,2) : 6,\n",
    "    (4,0) : 7,\n",
    "    (2,2) : 8,\n",
    "    (3,1) : 9,\n",
    "    (3,0) : 10,\n",
    "    (1,2) : 11,\n",
    "    (2,1) : 12,\n",
    "    (2,0) : 13,\n",
    "}"
   ]
  },
  {
   "cell_type": "markdown",
   "metadata": {},
   "source": [
    "Creamos una función auxiliar que dados unos valores para el número de aciertos de números y estrellas observa en el diccionario D si la combinación está premiada y devuelve la categoría. Si no está premiada devuelve el objeto nan."
   ]
  },
  {
   "cell_type": "code",
   "execution_count": 21,
   "metadata": {},
   "outputs": [],
   "source": [
    "import numpy as np\n",
    "\n",
    "\n",
    "def categoria_premio(row):\n",
    "    aciertos = (row['numbers'],row['stars'])\n",
    "    if aciertos in D: # premiado\n",
    "        return D[aciertos]\n",
    "    else: # no premiado\n",
    "        return np.nan"
   ]
  },
  {
   "cell_type": "markdown",
   "metadata": {},
   "source": [
    "Finalmente, construimos la función que genera la tabla con los posibles premios que se habrían obtenido en el historial de sorteos. La función recibe una lista con los números y otra lista con las estrellas.\n",
    "\n",
    "La primera parte de la función comprueba que la apuesta es válidad. Primero comprueba que todos los números introducidos son enteros. Después comprueba que se han introducido exactamente 5 números y 2 estrellas. Y también se comprueba que los números estén entre 1 y 50 y las estrellas entre 1 y 12. Si no se cumple alguna de estas condiciones la función envía un mensaje de error y termina su ejecución.\n",
    "\n",
    "Para preparar la tabla de salida, primero coge la columna con las fechas de la tabla con todos los sorteos. \n",
    "Luego se pasan los números de la apuesta a un set y se calcula la intersección con los números de las apuestas ganadoras, para ello se usa la función apply que propaga la intersección por todos los sorteos del historial. Esto genera una series que se almacena como la columna numbers. Se realiza el mismo cálculo para las estrellas.\n",
    "Con las intersecciones estamos viendo cuantos números y estrellas de nuestra apuesta coincide con el sorteo de cada día.\n",
    "\n",
    "Usando la función auxiliar ``categoría_premio`` calculamos a que categoría corresponde cada apuesta. Si no esta premiada devuelve NaN. Estos valores se guardan en la columna category.\n",
    "\n",
    "Finalmenta se devuelve la tabla solo con las columnas que indican la fecha y la categoría del premio que habría recibido ese día. Se eliminan las filas en las que no se huebiese recibido premio desechando los NaN."
   ]
  },
  {
   "cell_type": "code",
   "execution_count": 22,
   "metadata": {},
   "outputs": [],
   "source": [
    "def posibles_premios(num,stars):\n",
    "    ## comprobar que la apuesta es valida\n",
    "    # comprobar que todos los números son enteros\n",
    "    for item in list(num)+list(stars):\n",
    "        if not isinstance(item, int):\n",
    "            print('Error. Introduce solo números enteros.')\n",
    "            return\n",
    "    # comprobar que se han introducido 5 números y 2 estrellas    \n",
    "    if len(num) != 5 or len(stars) != 2:\n",
    "        print('Error. Deben ser 5 números y 2 estrellas sin repetir.')\n",
    "        return\n",
    "    # comprobar que 1 <= números <= 50 y 1 <= estrellas <= 12 \n",
    "    if max(num) > 50 or min(num) < 1 or max(stars) > 12 or min(stars) < 1:\n",
    "        print('Error. 1<= Números => 50 y 1 <= estrellas => 12')\n",
    "        return\n",
    "    \n",
    "    # Columna con las fechas\n",
    "    premios = pd.DataFrame(sorteos.date)\n",
    "    premios[\"date\"] = pd.to_datetime(premios[\"date\"], dayfirst=True)\n",
    "    # intersección de la apuesta con el sorteo ganador para los números\n",
    "    premios['numbers'] = sorteos.numbers.apply(lambda x:len(set(num).intersection(x)))\n",
    "    # intersección de la apuesta con el sorteo ganador para las estrellas\n",
    "    premios['stars'] = sorteos.stars.apply(lambda x:len(set(stars).intersection(x)))\n",
    "    # Categoría a la que pertenece la apuesta (nan si no hubiese sido premiada)\n",
    "    premios['category'] = premios.apply(categoria_premio, axis=1)\n",
    "    # eliminamos cuando no recibe ningún premio\n",
    "    # eliminamos las columnas de numbers y stars, nos quedamos solo con la fecha y la categoría\n",
    "    return premios.dropna().drop(['numbers','stars'],axis=1).reset_index(drop=True)"
   ]
  },
  {
   "cell_type": "markdown",
   "metadata": {},
   "source": [
    "**6. Crea una apuesta formada por los 5 números y las 2 estrellas más\n",
    "repetidas obtenidas en el ejercicio 3. ¿Qué premios habría obtenido dicha\n",
    "apuesta en todos los sorteos?**"
   ]
  },
  {
   "cell_type": "markdown",
   "metadata": {},
   "source": [
    "Obtenemos las listas con los números y estrellas más repetidos usando las funciones creadas en el apartado 3."
   ]
  },
  {
   "cell_type": "markdown",
   "metadata": {},
   "source": [
    "Pasamos estos números a la función preparada en el apartado 5 y vemos cuantos premios se hubiesen obtenido por categoría."
   ]
  },
  {
   "cell_type": "code",
   "execution_count": 23,
   "metadata": {},
   "outputs": [
    {
     "data": {
      "text/html": [
       "<div>\n",
       "<style scoped>\n",
       "    .dataframe tbody tr th:only-of-type {\n",
       "        vertical-align: middle;\n",
       "    }\n",
       "\n",
       "    .dataframe tbody tr th {\n",
       "        vertical-align: top;\n",
       "    }\n",
       "\n",
       "    .dataframe thead th {\n",
       "        text-align: right;\n",
       "    }\n",
       "</style>\n",
       "<table border=\"1\" class=\"dataframe\">\n",
       "  <thead>\n",
       "    <tr style=\"text-align: right;\">\n",
       "      <th></th>\n",
       "      <th>date</th>\n",
       "      <th>category</th>\n",
       "    </tr>\n",
       "  </thead>\n",
       "  <tbody>\n",
       "    <tr>\n",
       "      <th>0</th>\n",
       "      <td>2020-09-29</td>\n",
       "      <td>13.0</td>\n",
       "    </tr>\n",
       "    <tr>\n",
       "      <th>1</th>\n",
       "      <td>2020-09-25</td>\n",
       "      <td>13.0</td>\n",
       "    </tr>\n",
       "    <tr>\n",
       "      <th>2</th>\n",
       "      <td>2020-08-21</td>\n",
       "      <td>13.0</td>\n",
       "    </tr>\n",
       "    <tr>\n",
       "      <th>3</th>\n",
       "      <td>2020-05-29</td>\n",
       "      <td>12.0</td>\n",
       "    </tr>\n",
       "    <tr>\n",
       "      <th>4</th>\n",
       "      <td>2020-04-03</td>\n",
       "      <td>12.0</td>\n",
       "    </tr>\n",
       "  </tbody>\n",
       "</table>\n",
       "</div>"
      ],
      "text/plain": [
       "        date  category\n",
       "0 2020-09-29      13.0\n",
       "1 2020-09-25      13.0\n",
       "2 2020-08-21      13.0\n",
       "3 2020-05-29      12.0\n",
       "4 2020-04-03      12.0"
      ]
     },
     "execution_count": 23,
     "metadata": {},
     "output_type": "execute_result"
    }
   ],
   "source": [
    "num = most_frec_numbers(df_numbers.numbers)\n",
    "stars = most_frec_stars(df_stars.stars)\n",
    "posibles_premios(num,stars).head()"
   ]
  },
  {
   "cell_type": "code",
   "execution_count": 24,
   "metadata": {},
   "outputs": [
    {
     "data": {
      "text/plain": [
       "13.0    71\n",
       "12.0    49\n",
       "11.0    10\n",
       "10.0     6\n",
       "9.0      6\n",
       "8.0      2\n",
       "6.0      1\n",
       "Name: category, dtype: int64"
      ]
     },
     "execution_count": 24,
     "metadata": {},
     "output_type": "execute_result"
    }
   ],
   "source": [
    "posibles_premios(num,stars).category.value_counts()"
   ]
  },
  {
   "cell_type": "markdown",
   "metadata": {},
   "source": [
    "Vemos que la categoría más alta que se hubiese alcanzado es la categoría 6, habiendose obtenido este premio en solo 1 ocasión. Por otro lado, vemos que la categoría menor, la 13, se habría obtenido 71 veces. Esto tiene sentido ya que al bajar de categoría se requiere un número menor de coincidencias con el número ganador, por tanto, es normal que las categorías menores se hayan premiado más veces."
   ]
  },
  {
   "cell_type": "markdown",
   "metadata": {},
   "source": [
    "**7. Queremos generar aleatoriamente 100 apuestas y guardarlas en un\n",
    "fichero. ¿Qué estructura de datos, de entre las estudiadas, usarías y cómo\n",
    "lo harías? Justifica tus decisiones (entre ellas el formato de salida usado\n",
    "en el fichero). Escribe el código necesario para crear la estructura y\n",
    "generar las distintas combinaciones. También escribe el código para\n",
    "guardar el contenido en un fichero.**"
   ]
  },
  {
   "cell_type": "markdown",
   "metadata": {},
   "source": [
    "Para almacenar las apuestar generadas aleatoriamente se va a usar un archivo de tipo csv. Al ser solo 100 apuestas y cada apuesta 7 números no va a ser un archivo pesado y se puede almacenar facilmente en formato csv y sin comprimir. El cual es un formato muy práctico porque un humano puede ver el archivo y fácilmente entender su contenido y también se puede importar muy fácilmente a otras estructuras como dataframes para trabajar con los datos.\n",
    "\n",
    "Para crear el archivo se van a ir generando apuestas de una en una con números aleatarios proporcionados por numpy. Se va a usar np.random.seed para que los números aleatorios sean iguales durante las multiples ejecuciones mientras se prepara el código lo cual facilita el debugging.\n",
    "Las apuestas se escriben de una en una en el archivo, por tanto solo se necesita en memoria el espacio que ocupa una apuesta. Esto podría permitir añadir millones de apuestas al archivo sin preocuparnos por la memoria que utilizamos durante la ejecución."
   ]
  },
  {
   "cell_type": "code",
   "execution_count": 25,
   "metadata": {},
   "outputs": [],
   "source": [
    "np.random.seed(155)\n",
    "\n",
    "f = open(\"apuestas.csv\",'w') # archivo con las apuestas\n",
    "f.write(\"numero_1,numero_2,numero_3,numero_4,numero_5,estrella_1,estrella_2\\n\") # cabecera\n",
    "for _ in range(100): # 100 apuestas aleatorias\n",
    "    apuesta = np.append(np.random.randint(1, 51, size=5),np.random.randint(1, 13, size=2))\n",
    "    str_apuesta = ''\n",
    "    for num in apuesta: # se pasa la apuesta a string y se escribe en el archivo\n",
    "        str_apuesta+=str(num)+','\n",
    "    f.write(str_apuesta[:-1]+'\\n')\n",
    "f.close()\n"
   ]
  },
  {
   "cell_type": "markdown",
   "metadata": {},
   "source": [
    "**8. A partir de los datos generados en el ejercicio 7, obtén los números y las\n",
    "estrellas más repetidos.**"
   ]
  },
  {
   "cell_type": "markdown",
   "metadata": {},
   "source": [
    "Podemos leer el archivo con las apuestas como un dataframe de pandas y ver las primeras filas."
   ]
  },
  {
   "cell_type": "code",
   "execution_count": 26,
   "metadata": {},
   "outputs": [
    {
     "data": {
      "text/html": [
       "<div>\n",
       "<style scoped>\n",
       "    .dataframe tbody tr th:only-of-type {\n",
       "        vertical-align: middle;\n",
       "    }\n",
       "\n",
       "    .dataframe tbody tr th {\n",
       "        vertical-align: top;\n",
       "    }\n",
       "\n",
       "    .dataframe thead th {\n",
       "        text-align: right;\n",
       "    }\n",
       "</style>\n",
       "<table border=\"1\" class=\"dataframe\">\n",
       "  <thead>\n",
       "    <tr style=\"text-align: right;\">\n",
       "      <th></th>\n",
       "      <th>numero_1</th>\n",
       "      <th>numero_2</th>\n",
       "      <th>numero_3</th>\n",
       "      <th>numero_4</th>\n",
       "      <th>numero_5</th>\n",
       "      <th>estrella_1</th>\n",
       "      <th>estrella_2</th>\n",
       "    </tr>\n",
       "  </thead>\n",
       "  <tbody>\n",
       "    <tr>\n",
       "      <th>0</th>\n",
       "      <td>24</td>\n",
       "      <td>33</td>\n",
       "      <td>6</td>\n",
       "      <td>23</td>\n",
       "      <td>2</td>\n",
       "      <td>4</td>\n",
       "      <td>11</td>\n",
       "    </tr>\n",
       "    <tr>\n",
       "      <th>1</th>\n",
       "      <td>23</td>\n",
       "      <td>45</td>\n",
       "      <td>10</td>\n",
       "      <td>10</td>\n",
       "      <td>42</td>\n",
       "      <td>7</td>\n",
       "      <td>7</td>\n",
       "    </tr>\n",
       "    <tr>\n",
       "      <th>2</th>\n",
       "      <td>7</td>\n",
       "      <td>41</td>\n",
       "      <td>37</td>\n",
       "      <td>19</td>\n",
       "      <td>6</td>\n",
       "      <td>9</td>\n",
       "      <td>7</td>\n",
       "    </tr>\n",
       "    <tr>\n",
       "      <th>3</th>\n",
       "      <td>48</td>\n",
       "      <td>11</td>\n",
       "      <td>44</td>\n",
       "      <td>12</td>\n",
       "      <td>41</td>\n",
       "      <td>8</td>\n",
       "      <td>2</td>\n",
       "    </tr>\n",
       "    <tr>\n",
       "      <th>4</th>\n",
       "      <td>24</td>\n",
       "      <td>27</td>\n",
       "      <td>44</td>\n",
       "      <td>44</td>\n",
       "      <td>9</td>\n",
       "      <td>9</td>\n",
       "      <td>3</td>\n",
       "    </tr>\n",
       "  </tbody>\n",
       "</table>\n",
       "</div>"
      ],
      "text/plain": [
       "   numero_1  numero_2  numero_3  numero_4  numero_5  estrella_1  estrella_2\n",
       "0        24        33         6        23         2           4          11\n",
       "1        23        45        10        10        42           7           7\n",
       "2         7        41        37        19         6           9           7\n",
       "3        48        11        44        12        41           8           2\n",
       "4        24        27        44        44         9           9           3"
      ]
     },
     "execution_count": 26,
     "metadata": {},
     "output_type": "execute_result"
    }
   ],
   "source": [
    "apuestas = pd.read_csv(\"apuestas.csv\")\n",
    "apuestas.head(5)"
   ]
  },
  {
   "cell_type": "markdown",
   "metadata": {},
   "source": [
    "Para calcular los números y estrellas más repetidos vamos a usar las funciones preparadas para ello en el apartado 3. Sin embargo, hay que preparar los datos como un array plano para introducirlos en la función. Para ello, seleccionamos las columnas correspondiente a los números o estrellas, respectivamente, del dataframe con las apuestas, convertimos las columnas seleccionadas a un array de numpy y usamos el método flatten para pasar el array a 1 dimensión. Tras este proceso los datos están preparados para ser introducido en la función y obtener el resultado. "
   ]
  },
  {
   "cell_type": "code",
   "execution_count": 27,
   "metadata": {},
   "outputs": [
    {
     "name": "stdout",
     "output_type": "stream",
     "text": [
      "Números más repetidos:\n"
     ]
    },
    {
     "data": {
      "text/plain": [
       "[45, 10, 4, 24, 9]"
      ]
     },
     "execution_count": 27,
     "metadata": {},
     "output_type": "execute_result"
    }
   ],
   "source": [
    "# 5 números más repetidos. Si hay empate se añaden todos\n",
    "print('Números más repetidos:')\n",
    "most_frec_numbers(np.array(apuestas.iloc[:,[0,1,2,3,4]]).flatten())"
   ]
  },
  {
   "cell_type": "code",
   "execution_count": 28,
   "metadata": {},
   "outputs": [
    {
     "name": "stdout",
     "output_type": "stream",
     "text": [
      "Estrellas más repetidas:\n"
     ]
    },
    {
     "data": {
      "text/plain": [
       "[10, 3]"
      ]
     },
     "execution_count": 28,
     "metadata": {},
     "output_type": "execute_result"
    }
   ],
   "source": [
    "# 2 estrellas más repetidas. Si hay empate se aádem todos\n",
    "print('Estrellas más repetidas:')\n",
    "most_frec_stars(np.array(apuestas.iloc[:,[5,6]]).flatten())"
   ]
  },
  {
   "cell_type": "markdown",
   "metadata": {},
   "source": [
    "**9. Supongamos que jugamos con las 100 apuestas generadas\n",
    "aleatoriamente. ¿Qué premios, y en qué fechas, habríamos obtenido con\n",
    "respecto al histórico que teníamos del principio? Piensa en al menos dos\n",
    "formas distintas de mostrar la información, discutiendo las ventajas e\n",
    "inconvenientes de cada una de ellas.**"
   ]
  },
  {
   "cell_type": "markdown",
   "metadata": {},
   "source": [
    "Para crear la tabla con todos los premio y la fecha del premio se ha usado la función preparada en el apartado 5. Se ha creado un dataframe vacío donde se van a añadir los premios de cada apuesta. Para ello, iteramos en el dataframe con las 100 apuestas aleatorias y para cada apuesta calculamos los premios que habría obtenido con la función del apartado 5 ``posibles_premios``. Se concatena los resultados de cada apuesta para que esten todos en el dataframe premios."
   ]
  },
  {
   "cell_type": "code",
   "execution_count": 29,
   "metadata": {},
   "outputs": [
    {
     "data": {
      "text/html": [
       "<div>\n",
       "<style scoped>\n",
       "    .dataframe tbody tr th:only-of-type {\n",
       "        vertical-align: middle;\n",
       "    }\n",
       "\n",
       "    .dataframe tbody tr th {\n",
       "        vertical-align: top;\n",
       "    }\n",
       "\n",
       "    .dataframe thead th {\n",
       "        text-align: right;\n",
       "    }\n",
       "</style>\n",
       "<table border=\"1\" class=\"dataframe\">\n",
       "  <thead>\n",
       "    <tr style=\"text-align: right;\">\n",
       "      <th></th>\n",
       "      <th>date</th>\n",
       "      <th>category</th>\n",
       "    </tr>\n",
       "  </thead>\n",
       "  <tbody>\n",
       "    <tr>\n",
       "      <th>0</th>\n",
       "      <td>2020-07-07</td>\n",
       "      <td>13.0</td>\n",
       "    </tr>\n",
       "    <tr>\n",
       "      <th>1</th>\n",
       "      <td>2020-06-12</td>\n",
       "      <td>12.0</td>\n",
       "    </tr>\n",
       "    <tr>\n",
       "      <th>2</th>\n",
       "      <td>2020-04-14</td>\n",
       "      <td>11.0</td>\n",
       "    </tr>\n",
       "    <tr>\n",
       "      <th>3</th>\n",
       "      <td>2020-02-04</td>\n",
       "      <td>13.0</td>\n",
       "    </tr>\n",
       "    <tr>\n",
       "      <th>4</th>\n",
       "      <td>2020-01-24</td>\n",
       "      <td>13.0</td>\n",
       "    </tr>\n",
       "    <tr>\n",
       "      <th>5</th>\n",
       "      <td>2019-10-22</td>\n",
       "      <td>13.0</td>\n",
       "    </tr>\n",
       "    <tr>\n",
       "      <th>6</th>\n",
       "      <td>2019-09-24</td>\n",
       "      <td>13.0</td>\n",
       "    </tr>\n",
       "    <tr>\n",
       "      <th>7</th>\n",
       "      <td>2019-08-20</td>\n",
       "      <td>12.0</td>\n",
       "    </tr>\n",
       "    <tr>\n",
       "      <th>8</th>\n",
       "      <td>2019-05-31</td>\n",
       "      <td>12.0</td>\n",
       "    </tr>\n",
       "    <tr>\n",
       "      <th>9</th>\n",
       "      <td>2018-08-17</td>\n",
       "      <td>13.0</td>\n",
       "    </tr>\n",
       "  </tbody>\n",
       "</table>\n",
       "</div>"
      ],
      "text/plain": [
       "        date  category\n",
       "0 2020-07-07      13.0\n",
       "1 2020-06-12      12.0\n",
       "2 2020-04-14      11.0\n",
       "3 2020-02-04      13.0\n",
       "4 2020-01-24      13.0\n",
       "5 2019-10-22      13.0\n",
       "6 2019-09-24      13.0\n",
       "7 2019-08-20      12.0\n",
       "8 2019-05-31      12.0\n",
       "9 2018-08-17      13.0"
      ]
     },
     "execution_count": 29,
     "metadata": {},
     "output_type": "execute_result"
    }
   ],
   "source": [
    "premios = pd.DataFrame() # almacenar todos los premios\n",
    "for row in apuestas.itertuples(): #  por las apuestas aleatorias\n",
    "    nums, stars = row[1:6], row[6:] # extracción de los números y estrellas\n",
    "    # cálculo de los posibles premios y concatenación\n",
    "    premios = pd.concat([premios,posibles_premios(nums, stars)])\n",
    "premios = premios.reset_index(drop=True)\n",
    "premios.head(10)"
   ]
  },
  {
   "cell_type": "code",
   "execution_count": 30,
   "metadata": {},
   "outputs": [
    {
     "data": {
      "text/plain": [
       "(9728, 2)"
      ]
     },
     "execution_count": 30,
     "metadata": {},
     "output_type": "execute_result"
    }
   ],
   "source": [
    "premios.shape"
   ]
  },
  {
   "cell_type": "markdown",
   "metadata": {},
   "source": [
    "Las apuestas habrían sido premiadas 9728 veces."
   ]
  },
  {
   "cell_type": "markdown",
   "metadata": {},
   "source": [
    "En la forma tabular sería muy dificil de entender y visualizar toda la información que contiene la tabla ya que tenemos muchísimas filas. Podemos probar otras formas de visualizar la información."
   ]
  },
  {
   "cell_type": "code",
   "execution_count": 31,
   "metadata": {},
   "outputs": [
    {
     "data": {
      "text/plain": [
       "13.0    5939\n",
       "12.0    2410\n",
       "11.0     675\n",
       "10.0     414\n",
       "9.0      158\n",
       "8.0      111\n",
       "7.0        9\n",
       "6.0        7\n",
       "5.0        5\n",
       "Name: category, dtype: int64"
      ]
     },
     "execution_count": 31,
     "metadata": {},
     "output_type": "execute_result"
    }
   ],
   "source": [
    "premios.category.value_counts()"
   ]
  },
  {
   "cell_type": "markdown",
   "metadata": {},
   "source": [
    "Podemos agrupar por categoría y ver cuantas veces ha sido premiada cada categoría. Vemos que la 13 es la categoría que más se ha ganado, más del 50% de las veces, mientras que la categoría más alta ha sido la 5 que se ha obtenido 5 veces."
   ]
  },
  {
   "cell_type": "markdown",
   "metadata": {},
   "source": [
    "También podemos visualizar los datos anteriores con un diagrama de barras o circular para entender mejor sus proporciones relativas."
   ]
  },
  {
   "cell_type": "code",
   "execution_count": 32,
   "metadata": {},
   "outputs": [
    {
     "data": {
      "text/plain": [
       "<AxesSubplot:>"
      ]
     },
     "execution_count": 32,
     "metadata": {},
     "output_type": "execute_result"
    },
    {
     "data": {
      "image/png": "[encoded data removed]",
      "text/plain": [
       "<Figure size 432x288 with 1 Axes>"
      ]
     },
     "metadata": {
      "needs_background": "light"
     },
     "output_type": "display_data"
    }
   ],
   "source": [
    "premios.category.value_counts().plot(kind='bar')"
   ]
  },
  {
   "cell_type": "code",
   "execution_count": 33,
   "metadata": {},
   "outputs": [
    {
     "data": {
      "text/plain": [
       "<AxesSubplot:ylabel='category'>"
      ]
     },
     "execution_count": 33,
     "metadata": {},
     "output_type": "execute_result"
    },
    {
     "data": {
      "image/png": "[encoded data removed]",
      "text/plain": [
       "<Figure size 432x288 with 1 Axes>"
      ]
     },
     "metadata": {},
     "output_type": "display_data"
    }
   ],
   "source": [
    "premios.category.value_counts().plot(kind='pie')"
   ]
  },
  {
   "cell_type": "markdown",
   "metadata": {},
   "source": [
    "Vemos que la mayoría claramente son los premios de categoría menor, y que los premios de categoría alta son inapreciables."
   ]
  },
  {
   "cell_type": "markdown",
   "metadata": {},
   "source": [
    "Podemos graficar los premios con respecto al tiempo para ver si hay alguna relación, pero parece que la distribución temporal es aleatoria y no existe nigún patrón."
   ]
  },
  {
   "cell_type": "markdown",
   "metadata": {},
   "source": [
    "Podemos usar un scatter plot para visualizar la distribución de los premios con respecto a las fecha, aunque parece que en este caso no existe ningún patrón y la distribución es aleatoria, como era de esperar."
   ]
  },
  {
   "cell_type": "code",
   "execution_count": 34,
   "metadata": {},
   "outputs": [
    {
     "data": {
      "text/plain": [
       "<AxesSubplot:xlabel='date', ylabel='category'>"
      ]
     },
     "execution_count": 34,
     "metadata": {},
     "output_type": "execute_result"
    },
    {
     "data": {
      "image/png": "[encoded data removed]",
      "text/plain": [
       "<Figure size 432x288 with 1 Axes>"
      ]
     },
     "metadata": {
      "needs_background": "light"
     },
     "output_type": "display_data"
    }
   ],
   "source": [
    "premios.plot(x='date', y='category', kind='scatter')"
   ]
  },
  {
   "cell_type": "markdown",
   "metadata": {},
   "source": [
    "Podemos agrupar los datos por año y ver en que año hubiesemos obtenido el mayor número de premios, en este caso parece que en los años 2012, 2013 y 2014 hubiesemos tenido una buena racha."
   ]
  },
  {
   "cell_type": "code",
   "execution_count": 35,
   "metadata": {},
   "outputs": [
    {
     "data": {
      "text/plain": [
       "date\n",
       "2012    784\n",
       "2014    768\n",
       "2013    767\n",
       "2018    750\n",
       "2019    727\n",
       "2016    724\n",
       "2015    723\n",
       "2017    721\n",
       "2011    635\n",
       "2020    600\n",
       "2010    401\n",
       "2005    364\n",
       "2007    361\n",
       "2004    356\n",
       "2008    352\n",
       "2009    351\n",
       "2006    344\n",
       "Name: category, dtype: int64"
      ]
     },
     "execution_count": 35,
     "metadata": {},
     "output_type": "execute_result"
    }
   ],
   "source": [
    "premios.groupby(premios[\"date\"].dt.year).category.count().sort_values(ascending=False)"
   ]
  }
 ],
 "metadata": {
  "kernelspec": {
   "display_name": "Python 3",
   "language": "python",
   "name": "python3"
  },
  "language_info": {
   "codemirror_mode": {
    "name": "ipython",
    "version": 3
   },
   "file_extension": ".py",
   "mimetype": "text/x-python",
   "name": "python",
   "nbconvert_exporter": "python",
   "pygments_lexer": "ipython3",
   "version": "3.7.9"
  }
 },
 "nbformat": 4,
 "nbformat_minor": 4
}
