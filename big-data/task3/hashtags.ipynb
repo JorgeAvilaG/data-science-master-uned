{
 "cells": [
  {
   "cell_type": "markdown",
   "metadata": {},
   "source": [
    "## Jorge Pablo Ávila Gómez"
   ]
  },
  {
   "cell_type": "markdown",
   "metadata": {},
   "source": [
    "# Ejercicio 2 (hashtags más utilizados): (2 puntos)\n",
    "\n",
    "Desarrollar un notebook de Jupyter, denominado “hashtags.ipynb”, en el que se utilice como fuente de datos Kafka, y en concreto el topic kafkaTwitter. La duración del batch será de 5 segundos. Se procesarán los tweets que lleguen para extraer  los hashtags que contengan (tener en cuenta que todos los hashtags comienzan por el carácter ‘#’). Se irán mostrando, \n",
    "cada vez que se procese el batch (5 segundos) los diez hashtags más utilizados desde el inicio del programa hasta ese momento y el número total de apariciones de cada uno, ordenados de mayor a menor frecuencia."
   ]
  },
  {
   "cell_type": "code",
   "execution_count": 1,
   "metadata": {},
   "outputs": [],
   "source": [
    "import findspark\n",
    "\n",
    "# Se indica la ruta de spark:\n",
    "findspark.init(\"C:\\\\Users\\\\JorgeAvila\\\\Documents\\\\spark-2.4.7-bin-hadoop2.7\")\n",
    "\n",
    "import os\n",
    "\n",
    "os.environ[\n",
    "    \"PYSPARK_SUBMIT_ARGS\"\n",
    "] = \"--packages org.apache.spark:spark-streaming-kafka-0-8_2.11:2.4.7 pyspark-shell\""
   ]
  },
  {
   "cell_type": "code",
   "execution_count": 2,
   "metadata": {},
   "outputs": [],
   "source": [
    "# Se importan los diferentes paquetes necesarios:\n",
    "import pyspark\n",
    "import pyspark.streaming\n",
    "from pyspark import SparkConf, SparkContext\n",
    "from pyspark.streaming import StreamingContext\n",
    "from pyspark.streaming.kafka import KafkaUtils"
   ]
  },
  {
   "cell_type": "markdown",
   "metadata": {},
   "source": [
    "### Preparación del entorno Spark Streaming"
   ]
  },
  {
   "cell_type": "code",
   "execution_count": 3,
   "metadata": {},
   "outputs": [],
   "source": [
    "sc = SparkContext(\"local[*]\")\n",
    "# Se inicializa SparkContext con la opción \"local[*]\" para que use todos los núcleos del equipo\n",
    "ssc = StreamingContext(sc, batchDuration=5)\n",
    "# Se crea el StreamingContext indicando que la duración del batch es 5s como pide el enunciado.\n",
    "ssc.checkpoint(\"checkpoint\")\n",
    "# El uso de checkpoints es necesario cuando se van a utilizar la función updateStateByKey, para ir almacenando los estados anteriores."
   ]
  },
  {
   "cell_type": "markdown",
   "metadata": {},
   "source": [
    "### Conexión con kafka e introducción de los datos"
   ]
  },
  {
   "cell_type": "code",
   "execution_count": 4,
   "metadata": {},
   "outputs": [],
   "source": [
    "# Para crear el stream de datos utilizamos la siguiente función:\n",
    "tweetsDS = KafkaUtils.createDirectStream(\n",
    "    ssc,  # StreamingContext con el que conectar kafka\n",
    "    topics=[\"kafkaTwitter\"],  # El topic con el que queremos conectar.\n",
    "    kafkaParams={\n",
    "        \"bootstrap.servers\": \"192.168.1.100:9092, 192.168.1.100:9093\"\n",
    "    },  # Las direcciones de los brokers.\n",
    ")"
   ]
  },
  {
   "cell_type": "markdown",
   "metadata": {},
   "source": [
    "Se va a usar el transformador 'updateStateByKey' para mantener una cuenta de cuantas veces ha aparecido cada tweet. Para ello necesitamos especificar la siguiente función, que mantiene la suma para cada tweet."
   ]
  },
  {
   "cell_type": "code",
   "execution_count": 5,
   "metadata": {},
   "outputs": [],
   "source": [
    "# Función para actualizar las cuentas totales de los hashtags\n",
    "def updateFunction(newValues, runningCount):\n",
    "    return sum(newValues) + (runningCount or 0)"
   ]
  },
  {
   "cell_type": "markdown",
   "metadata": {},
   "source": [
    "El funcionamiento básico propuesto es el dividir el tweet en palabras, filtrar las palabras para quedarnos solo con los hashtags. Y finalmente, actualizar la cuenta de hashtags totales que tenemos, ordenarlos por frecuencia e imprimir los 10 primeros."
   ]
  },
  {
   "cell_type": "code",
   "execution_count": 6,
   "metadata": {},
   "outputs": [],
   "source": [
    "# Extraemos el texto del tweet que se encuentra en la posición 1 de una tupla.\n",
    "tweets = tweetsDS.map(lambda tweet: tweet[1])\n",
    "# Separamos cada tweet en las palabras que lo forman, dividiendo por los espacios en blanco.\n",
    "words = tweets.flatMap(lambda line: line.strip().split(\" \"))\n",
    "# Usamos una expresión regular para filtrar los hashtags, y los ponemos en forma de tupla (#hashtag,1)\n",
    "import re\n",
    "\n",
    "p = re.compile(\"\\#[a-zA-Z0-9]+\")\n",
    "hashtags = words.filter(lambda word: p.match(word) != None).map(lambda x: (x, 1))\n",
    "# Utilizamos el transformador 'updateStateByKey' con la función 'updateFunction', para mantener la cuenta de cuantas veces\n",
    "# ha salido cada tweet.\n",
    "total = hashtags.updateStateByKey(updateFunction)\n",
    "# Ordenamos todas las entradas por el número de veces que ha salido, en orden descendente. Imprimimos las 10 primeras.\n",
    "total.transform(lambda rdd: rdd.sortBy(lambda x: x[1], ascending=False)).pprint(10)"
   ]
  },
  {
   "cell_type": "markdown",
   "metadata": {},
   "source": [
    "### Ejecución del programa"
   ]
  },
  {
   "cell_type": "code",
   "execution_count": 7,
   "metadata": {
    "scrolled": true
   },
   "outputs": [
    {
     "name": "stdout",
     "output_type": "stream",
     "text": [
      "-------------------------------------------\n",
      "Time: 2021-01-10 10:06:20\n",
      "-------------------------------------------\n",
      "('#peoresserorian', 1)\n",
      "('#PresidentaCospedal', 1)\n",
      "('#GALAXYNoteEdge', 1)\n",
      "('#FelizJueves', 1)\n",
      "('#UAM', 1)\n",
      "('#videojuegos', 1)\n",
      "('#xbox', 1)\n",
      "('#nds', 1)\n",
      "('#L6Nratopalma', 1)\n",
      "('#PedroSanchezARV', 1)\n",
      "...\n",
      "\n",
      "-------------------------------------------\n",
      "Time: 2021-01-10 10:06:30\n",
      "-------------------------------------------\n",
      "('#UAM', 5)\n",
      "('#ForoCambio11J', 5)\n",
      "('#OSX', 3)\n",
      "('#Ciencia', 3)\n",
      "('#Apple', 3)\n",
      "('#RutaDelCambio', 3)\n",
      "('#videojuegos', 2)\n",
      "('#TuitUtil', 2)\n",
      "('#Latch', 2)\n",
      "('#PSOE24M', 2)\n",
      "...\n",
      "\n",
      "-------------------------------------------\n",
      "Time: 2021-01-10 10:06:40\n",
      "-------------------------------------------\n",
      "('#ForoCambio11J', 7)\n",
      "('#UAM', 5)\n",
      "('#UniDeVerano', 5)\n",
      "('#OSX', 4)\n",
      "('#Ciencia', 4)\n",
      "('#Apple', 4)\n",
      "('#digoSIvotoPSOE', 4)\n",
      "('#EnPodemosTúDecides', 3)\n",
      "('#xelFuturodeEspaña', 3)\n",
      "('#PGE2016', 3)\n",
      "...\n",
      "\n",
      "-------------------------------------------\n",
      "Time: 2021-01-10 10:06:50\n",
      "-------------------------------------------\n",
      "('#ForoCambio11J', 10)\n",
      "('#UAM', 9)\n",
      "('#UniDeVerano', 7)\n",
      "('#Ciencia', 7)\n",
      "('#Apple', 5)\n",
      "('#xelFuturodeEspaña', 5)\n",
      "('#FelizMiercoles', 5)\n",
      "('#RutaDelCambio', 5)\n",
      "('#OSX', 4)\n",
      "('#EnPodemosTúDecides', 4)\n",
      "...\n",
      "\n",
      "-------------------------------------------\n",
      "Time: 2021-01-10 10:07:00\n",
      "-------------------------------------------\n",
      "('#UAM', 13)\n",
      "('#ForoCambio11J', 12)\n",
      "('#Ciencia', 9)\n",
      "('#UniDeVerano', 8)\n",
      "('#FelizMiercoles', 7)\n",
      "('#TuitUtil', 5)\n",
      "('#Apple', 5)\n",
      "('#xelFuturodeEspaña', 5)\n",
      "('#digoSIvotoPSOE', 5)\n",
      "('#RutaDelCambio', 5)\n",
      "...\n",
      "\n",
      "-------------------------------------------\n",
      "Time: 2021-01-10 10:07:10\n",
      "-------------------------------------------\n",
      "('#UAM', 15)\n",
      "('#ForoCambio11J', 14)\n",
      "('#UniDeVerano', 9)\n",
      "('#Ciencia', 9)\n",
      "('#Apple', 7)\n",
      "('#xelFuturodeEspaña', 7)\n",
      "('#FelizMiercoles', 7)\n",
      "('#TuitUtil', 5)\n",
      "('#OSX', 5)\n",
      "('#CMin', 5)\n",
      "...\n",
      "\n",
      "-------------------------------------------\n",
      "Time: 2021-01-10 10:07:20\n",
      "-------------------------------------------\n",
      "('#UAM', 17)\n",
      "('#ForoCambio11J', 17)\n",
      "('#Ciencia', 11)\n",
      "('#UniDeVerano', 10)\n",
      "('#xelFuturodeEspaña', 8)\n",
      "('#FelizMiercoles', 8)\n",
      "('#TrabajarHacerCrecer', 7)\n",
      "('#CMin', 7)\n",
      "('#Apple', 7)\n",
      "('#EnPodemosTúDecides', 6)\n",
      "...\n",
      "\n"
     ]
    }
   ],
   "source": [
    "ssc.start()"
   ]
  },
  {
   "cell_type": "code",
   "execution_count": 8,
   "metadata": {
    "scrolled": true
   },
   "outputs": [
    {
     "name": "stdout",
     "output_type": "stream",
     "text": [
      "-------------------------------------------\n",
      "Time: 2021-01-10 10:07:30\n",
      "-------------------------------------------\n",
      "('#UAM', 19)\n",
      "('#ForoCambio11J', 19)\n",
      "('#UniDeVerano', 12)\n",
      "('#Ciencia', 11)\n",
      "('#Apple', 11)\n",
      "('#TuitUtil', 9)\n",
      "('#TrabajarHacerCrecer', 9)\n",
      "('#xelFuturodeEspaña', 9)\n",
      "('#FelizMiercoles', 8)\n",
      "('#OSX', 7)\n",
      "...\n",
      "\n",
      "-------------------------------------------\n",
      "Time: 2021-01-10 10:07:40\n",
      "-------------------------------------------\n",
      "('#ForoCambio11J', 23)\n",
      "('#UAM', 20)\n",
      "('#UniDeVerano', 15)\n",
      "('#Ciencia', 12)\n",
      "('#Apple', 12)\n",
      "('#TrabajarHacerCrecer', 11)\n",
      "('#TuitUtil', 9)\n",
      "('#xelFuturodeEspaña', 9)\n",
      "('#FelizMiercoles', 8)\n",
      "('#RutaDelCambio', 8)\n",
      "...\n",
      "\n",
      "-------------------------------------------\n",
      "Time: 2021-01-10 10:07:50\n",
      "-------------------------------------------\n",
      "('#ForoCambio11J', 24)\n",
      "('#UAM', 22)\n",
      "('#UniDeVerano', 17)\n",
      "('#TrabajarHacerCrecer', 15)\n",
      "('#xelFuturodeEspaña', 14)\n",
      "('#Ciencia', 13)\n",
      "('#Apple', 13)\n",
      "('#TuitUtil', 10)\n",
      "('#CMin', 9)\n",
      "('#FelizMiercoles', 8)\n",
      "...\n",
      "\n"
     ]
    }
   ],
   "source": [
    "ssc.stop(stopSparkContext=True, stopGraceFully=True)"
   ]
  },
  {
   "cell_type": "markdown",
   "metadata": {},
   "source": [
    "Se puede ver que el programa funciona correctamente. Nos imprime la lista de los 10 hashtags que más han aparecido hasta el momento. Se puede ver que la lista es la misma y se va actualizando, aumentando la frecuencia de los hashtags más populares."
   ]
  },
  {
   "cell_type": "markdown",
   "metadata": {},
   "source": [
    "El único detalle que se desconoce porque pasa es que se recibe una actualización de la lista cada 10 segundos. Cuando en el StreamingContext se ha indicado una duración de batch de 5 segundos. Se ha intentado incluso usar una ventana de 5 segundos con desplazamiento de 5 segundos y sigue pasando igual. Además, se ha intentado modificar otros parámetros como el número de núcleos y no se soluciona ese problema. El problema no ocurre si el número de operaciones por bach es menor, así que puede que sea un problema de que hay muchas operaciones que hacer y no da tiempo a terminarlas todas en 5 segundos."
   ]
  },
  {
   "cell_type": "code",
   "execution_count": null,
   "metadata": {},
   "outputs": [],
   "source": []
  }
 ],
 "metadata": {
  "kernelspec": {
   "display_name": "Python 3",
   "language": "python",
   "name": "python3"
  },
  "language_info": {
   "codemirror_mode": {
    "name": "ipython",
    "version": 3
   },
   "file_extension": ".py",
   "mimetype": "text/x-python",
   "name": "python",
   "nbconvert_exporter": "python",
   "pygments_lexer": "ipython3",
   "version": "3.7.9"
  }
 },
 "nbformat": 4,
 "nbformat_minor": 4
}
