{
 "cells": [
  {
   "cell_type": "markdown",
   "metadata": {},
   "source": [
    "# TP2 Módulo 2: Apache Spark\n",
    "## Ejercicio 1\n",
    "## Jorge Pablo Ávila Gómez"
   ]
  },
  {
   "cell_type": "markdown",
   "metadata": {},
   "source": [
    "# PARTE 1: Uso de Spark para análisis de datos, Dataframes #"
   ]
  },
  {
   "cell_type": "code",
   "execution_count": 1,
   "metadata": {},
   "outputs": [
    {
     "data": {
      "text/html": [
       "\n",
       "            <div>\n",
       "                <p><b>SparkSession - hive</b></p>\n",
       "                \n",
       "        <div>\n",
       "            <p><b>SparkContext</b></p>\n",
       "\n",
       "            <p><a href=\"http://192.168.1.115:4040\">Spark UI</a></p>\n",
       "\n",
       "            <dl>\n",
       "              <dt>Version</dt>\n",
       "                <dd><code>v3.0.1</code></dd>\n",
       "              <dt>Master</dt>\n",
       "                <dd><code>local[*]</code></dd>\n",
       "              <dt>AppName</dt>\n",
       "                <dd><code>PySparkShell</code></dd>\n",
       "            </dl>\n",
       "        </div>\n",
       "        \n",
       "            </div>\n",
       "        "
      ],
      "text/plain": [
       "<pyspark.sql.session.SparkSession at 0x15036107190>"
      ]
     },
     "execution_count": 1,
     "metadata": {},
     "output_type": "execute_result"
    }
   ],
   "source": [
    "# Mostrar la versión de Spark usada\n",
    "\n",
    "# Datos de la sesión spark\n",
    "spark"
   ]
  },
  {
   "cell_type": "code",
   "execution_count": 2,
   "metadata": {},
   "outputs": [],
   "source": [
    "# Cargar el dataset en un Dataframe\n",
    "data = spark.read.csv(\n",
    "    \"../RecursosdelTema2.2/dataset_descriptor.csv\",\n",
    "    mode=\"DROPMALFORMED\",\n",
    "    inferSchema=True,\n",
    "    header=True,\n",
    ")"
   ]
  },
  {
   "cell_type": "code",
   "execution_count": 3,
   "metadata": {
    "scrolled": true
   },
   "outputs": [
    {
     "name": "stdout",
     "output_type": "stream",
     "text": [
      "root\n",
      " |-- ip_proto: double (nullable = true)\n",
      " |-- ip_len_mean: double (nullable = true)\n",
      " |-- ip_len_median: double (nullable = true)\n",
      " |-- ip_len_var: double (nullable = true)\n",
      " |-- ip_len_std: double (nullable = true)\n",
      " |-- ip_len_entropy: double (nullable = true)\n",
      " |-- ip_len_cv: double (nullable = true)\n",
      " |-- ip_len_cvq: double (nullable = true)\n",
      " |-- ip_len_rte: double (nullable = true)\n",
      " |-- ip_ttl_mean: double (nullable = true)\n",
      " |-- ip_ttl_median: double (nullable = true)\n",
      " |-- ip_ttl_var: double (nullable = true)\n",
      " |-- ip_ttl_std: double (nullable = true)\n",
      " |-- ip_ttl_entropy: double (nullable = true)\n",
      " |-- ip_ttl_cv: double (nullable = true)\n",
      " |-- ip_ttl_cvq: double (nullable = true)\n",
      " |-- ip_ttl_rte: double (nullable = true)\n",
      " |-- sport_mean: double (nullable = true)\n",
      " |-- sport_median: double (nullable = true)\n",
      " |-- sport_var: double (nullable = true)\n",
      " |-- sport_std: double (nullable = true)\n",
      " |-- sport_entropy: double (nullable = true)\n",
      " |-- sport_cv: double (nullable = true)\n",
      " |-- sport_cvq: double (nullable = true)\n",
      " |-- sport_rte: double (nullable = true)\n",
      " |-- dport_mean: double (nullable = true)\n",
      " |-- dport_median: double (nullable = true)\n",
      " |-- dport_var: double (nullable = true)\n",
      " |-- dport_std: double (nullable = true)\n",
      " |-- dport_entropy: double (nullable = true)\n",
      " |-- dport_cv: double (nullable = true)\n",
      " |-- dport_cvq: double (nullable = true)\n",
      " |-- dport_rte: double (nullable = true)\n",
      " |-- tcp_seq_median: double (nullable = true)\n",
      " |-- tcp_seq_mean: double (nullable = true)\n",
      " |-- tcp_seq_var: double (nullable = true)\n",
      " |-- tcp_seq_std: double (nullable = true)\n",
      " |-- tcp_seq_entropy: double (nullable = true)\n",
      " |-- tcp_seq_cv: double (nullable = true)\n",
      " |-- tcp_seq_cvq: double (nullable = true)\n",
      " |-- tcp_seq_rte: double (nullable = true)\n",
      " |-- tcp_ack_mean: double (nullable = true)\n",
      " |-- tcp_ack_median: double (nullable = true)\n",
      " |-- tcp_ack_var: double (nullable = true)\n",
      " |-- tcp_ack_std: double (nullable = true)\n",
      " |-- tcp_ack_entropy: double (nullable = true)\n",
      " |-- tcp_ack_cv: double (nullable = true)\n",
      " |-- tcp_ack_cvq: double (nullable = true)\n",
      " |-- tcp_ack_rte: double (nullable = true)\n",
      " |-- tcp_dataofs_mean: double (nullable = true)\n",
      " |-- tcp_dataofs_median: double (nullable = true)\n",
      " |-- tcp_dataofs_var: double (nullable = true)\n",
      " |-- tcp_dataofs_std: double (nullable = true)\n",
      " |-- tcp_dataofs_entropy: double (nullable = true)\n",
      " |-- tcp_dataofs_cv: double (nullable = true)\n",
      " |-- tcp_dataofs_cvq: double (nullable = true)\n",
      " |-- tcp_dataofs_rte: double (nullable = true)\n",
      " |-- tcp_flags_mean: double (nullable = true)\n",
      " |-- tcp_flags_median: double (nullable = true)\n",
      " |-- tcp_flags_var: double (nullable = true)\n",
      " |-- tcp_flags_std: double (nullable = true)\n",
      " |-- tcp_flags_entropy: double (nullable = true)\n",
      " |-- tcp_flags_cv: double (nullable = true)\n",
      " |-- tcp_flags_cvq: double (nullable = true)\n",
      " |-- tcp_flags_rte: double (nullable = true)\n",
      " |-- tcp_window_mean: double (nullable = true)\n",
      " |-- tcp_window_median: double (nullable = true)\n",
      " |-- tcp_window_var: double (nullable = true)\n",
      " |-- tcp_window_std: double (nullable = true)\n",
      " |-- tcp_window_entropy: double (nullable = true)\n",
      " |-- tcp_window_cv: double (nullable = true)\n",
      " |-- tcp_window_cvq: double (nullable = true)\n",
      " |-- tcp_window_rte: double (nullable = true)\n",
      " |-- Label1: string (nullable = true)\n",
      " |-- Label2: string (nullable = true)\n",
      " |-- Label3: string (nullable = true)\n",
      "\n"
     ]
    }
   ],
   "source": [
    "# Mostrar el schema heredado\n",
    "data.printSchema()"
   ]
  },
  {
   "cell_type": "code",
   "execution_count": 4,
   "metadata": {},
   "outputs": [
    {
     "data": {
      "text/plain": [
       "45500"
      ]
     },
     "execution_count": 4,
     "metadata": {},
     "output_type": "execute_result"
    }
   ],
   "source": [
    "# Mostrar el número de registros del dataset\n",
    "data.count()"
   ]
  },
  {
   "cell_type": "code",
   "execution_count": 5,
   "metadata": {},
   "outputs": [
    {
     "name": "stdout",
     "output_type": "stream",
     "text": [
      "+-----------------+\n",
      "|           label1|\n",
      "+-----------------+\n",
      "|       http_flood|\n",
      "|   http_slow_body|\n",
      "|    tcp_fin_flood|\n",
      "|  http_slow_range|\n",
      "|           normal|\n",
      "|        udp_flood|\n",
      "|   http_slow_read|\n",
      "|tcp_syn_ack_flood|\n",
      "|    tcp_syn_flood|\n",
      "|    tcp_ack_flood|\n",
      "|http_slow_headers|\n",
      "+-----------------+\n",
      "\n"
     ]
    }
   ],
   "source": [
    "# Q1. ¿Cuantas clases de tipo de tráfico hay clasificadas en el campo label1?\n",
    "data.select(\"label1\").distinct().show()\n",
    "# Vemos que tenemos el tráfico normal y diferentes tipos de ataques."
   ]
  },
  {
   "cell_type": "code",
   "execution_count": 6,
   "metadata": {},
   "outputs": [
    {
     "name": "stdout",
     "output_type": "stream",
     "text": [
      "+----------+\n",
      "|    label3|\n",
      "+----------+\n",
      "|http_flood|\n",
      "| tcp_flood|\n",
      "|    normal|\n",
      "| udp_flood|\n",
      "| http_slow|\n",
      "+----------+\n",
      "\n"
     ]
    }
   ],
   "source": [
    "# Q2. ¿Cuantas clases de tipo de tráfico hay clasificadas en el campo label3?\n",
    "data.select(\"label3\").distinct().show()\n",
    "# Tenemos el tráfico normal y los tipos de ataque se han clasificado en categorías más generales."
   ]
  },
  {
   "cell_type": "code",
   "execution_count": 7,
   "metadata": {},
   "outputs": [
    {
     "name": "stdout",
     "output_type": "stream",
     "text": [
      "49.26%\n"
     ]
    }
   ],
   "source": [
    "# Q3 ¿Que porcentaje de tráfico está catalogado como anormal? Entiendase por anormal aquel que no está etiquetado como normal.\n",
    "sol = (\n",
    "    data.filter(data[\"label3\"] != \"normal\").count() / data.select(\"label3\").count()\n",
    ")  # Contamos el tráfico no normal y lo dividimos por el total\n",
    "print(f\"{sol*100:0.2f}%\")"
   ]
  },
  {
   "cell_type": "code",
   "execution_count": 8,
   "metadata": {},
   "outputs": [
    {
     "data": {
      "text/plain": [
       "Label3\n",
       "http_flood     0.762637\n",
       "http_slow      0.402198\n",
       "normal        50.742857\n",
       "tcp_flood     32.940659\n",
       "udp_flood     15.151648\n",
       "Name: percentage, dtype: float64"
      ]
     },
     "execution_count": 8,
     "metadata": {},
     "output_type": "execute_result"
    }
   ],
   "source": [
    "# Q4 Mostrar los porcentajes de trafico sobre el total asociados a cada tipo de etiqueta de tráfico\n",
    "# (usar el campo genérico Label3 y no el detallado Label 1)\n",
    "# Mostrar un diagrama con estos porcentajes (bar plot)\n",
    "\n",
    "Q4 = (\n",
    "    data.toPandas()\n",
    "    .groupby(\"Label3\")\n",
    "    .count()\n",
    "    .apply(lambda x: x * 100 / data.select(\"Label3\").count())\n",
    "    .Label1.rename(\"percentage\")\n",
    ")\n",
    "Q4"
   ]
  },
  {
   "cell_type": "code",
   "execution_count": 9,
   "metadata": {},
   "outputs": [
    {
     "data": {
      "image/png": "[encoded data removed]",
      "text/plain": [
       "<Figure size 432x288 with 1 Axes>"
      ]
     },
     "metadata": {
      "needs_background": "light"
     },
     "output_type": "display_data"
    }
   ],
   "source": [
    "import matplotlib.pyplot as plt\n",
    "\n",
    "Q4.plot(kind=\"bar\")\n",
    "plt.show()"
   ]
  },
  {
   "cell_type": "code",
   "execution_count": 10,
   "metadata": {},
   "outputs": [
    {
     "name": "stdout",
     "output_type": "stream",
     "text": [
      "+------------+\n",
      "|ip_proto_int|\n",
      "+------------+\n",
      "|        17.0|\n",
      "|         6.0|\n",
      "+------------+\n",
      "\n"
     ]
    }
   ],
   "source": [
    "# Q5 Identificar que tipo de tráfico de red está incluido en el dataset (usar el campo ip_proto y convertir\n",
    "# ese valor al real que debería tener, es decir, un entero en el rango definido por el IANA)\n",
    "# https://www.iana.org/assignments/protocol-numbers/protocol-numbers.xhtml\n",
    "data = data.withColumn(\"ip_proto\", data[\"ip_proto\"] * 1000).withColumnRenamed(\n",
    "    \"ip_proto\", \"ip_proto_int\"\n",
    ")\n",
    "# Multiplicamos por 1000 para obtener los valores correctos de los protocolos, 17 para UDP y 6 para TCP.\n",
    "data.select(data[\"ip_proto_int\"]).distinct().show()"
   ]
  },
  {
   "cell_type": "code",
   "execution_count": 11,
   "metadata": {},
   "outputs": [
    {
     "name": "stdout",
     "output_type": "stream",
     "text": [
      "+------------+-----------------+\n",
      "|ip_proto_int| sum(ip_len_mean)|\n",
      "+------------+-----------------+\n",
      "|        17.0|7064.346040678179|\n",
      "|         6.0| 26867.1914740567|\n",
      "+------------+-----------------+\n",
      "\n"
     ]
    }
   ],
   "source": [
    "# Q6 Calcular la cantidad total (suponer que el dato a aculumar para cada paquete es ip_len_mean)\n",
    "# de bytes transmitidos agrupados por protocolo\n",
    "Q6 = data.groupby(\"ip_proto_int\").sum(\"ip_len_mean\")\n",
    "Q6.show()\n",
    "# Agrupamos por protocolo y sumamos por la columna de longitud media."
   ]
  },
  {
   "cell_type": "code",
   "execution_count": 12,
   "metadata": {},
   "outputs": [
    {
     "data": {
      "image/png": "[encoded data removed]",
      "text/plain": [
       "<Figure size 432x288 with 1 Axes>"
      ]
     },
     "metadata": {
      "needs_background": "light"
     },
     "output_type": "display_data"
    }
   ],
   "source": [
    "Q6.toPandas().set_index([\"ip_proto_int\"]).plot(kind=\"bar\")\n",
    "plt.show()"
   ]
  },
  {
   "cell_type": "code",
   "execution_count": 13,
   "metadata": {},
   "outputs": [
    {
     "name": "stdout",
     "output_type": "stream",
     "text": [
      "+---------+------------------+\n",
      "|   label1|  sum(ip_len_mean)|\n",
      "+---------+------------------+\n",
      "|udp_flood|            6894.0|\n",
      "|   normal|170.34604067817844|\n",
      "+---------+------------------+\n",
      "\n"
     ]
    }
   ],
   "source": [
    "# Q7 Indicar cual es tráfico anómalo en UDP que usa más tráfico de red. Presentar los resultados en orden demayor a menor\n",
    "Q7 = (\n",
    "    data.filter(data[\"ip_proto_int\"] == 17)\n",
    "    .groupby(\"label1\")\n",
    "    .sum(\"ip_len_mean\")\n",
    "    .orderBy(\"sum(ip_len_mean)\", ascending=False)\n",
    ")\n",
    "Q7.show()\n",
    "# Filtramos por el protocolo 17 correspondiente a UDP.\n",
    "# Agrupamos por los tipos de trafico en 'label1' y sumamos por la columna de longitud media de paquete.\n",
    "# Por último ordenamos de mayor a menor.\n",
    "# Vemos que el tráfico total debido a ataques 'udp_flood' es sustancialmente mayor al tráfico normal."
   ]
  },
  {
   "cell_type": "code",
   "execution_count": 14,
   "metadata": {},
   "outputs": [
    {
     "data": {
      "image/png": "[encoded data removed]",
      "text/plain": [
       "<Figure size 432x288 with 1 Axes>"
      ]
     },
     "metadata": {
      "needs_background": "light"
     },
     "output_type": "display_data"
    }
   ],
   "source": [
    "Q7.toPandas().set_index([\"label1\"]).plot(kind=\"bar\")\n",
    "plt.show()"
   ]
  },
  {
   "cell_type": "code",
   "execution_count": 15,
   "metadata": {},
   "outputs": [
    {
     "name": "stdout",
     "output_type": "stream",
     "text": [
      "+-----------------+------------------+\n",
      "|           label1|  sum(ip_len_mean)|\n",
      "+-----------------+------------------+\n",
      "|           normal|11615.053998509025|\n",
      "|    tcp_syn_flood| 5713.195544936026|\n",
      "|tcp_syn_ack_flood| 5273.157952268173|\n",
      "|    tcp_ack_flood|            2000.0|\n",
      "|    tcp_fin_flood|            2000.0|\n",
      "|       http_flood| 90.88054677859463|\n",
      "|  http_slow_range| 44.20993791090954|\n",
      "|http_slow_headers|44.157370741482964|\n",
      "|   http_slow_read|43.283366733466934|\n",
      "|   http_slow_body|43.252756179024715|\n",
      "+-----------------+------------------+\n",
      "\n"
     ]
    }
   ],
   "source": [
    "# Q8 Indicar cual es tráfico anómalo en TCP que usa más tráfico de red. Presentar los resultados en orden demayor a menor\n",
    "Q8 = (\n",
    "    data.filter(data[\"ip_proto_int\"] == 6)\n",
    "    .groupby(\"label1\")\n",
    "    .sum(\"ip_len_mean\")\n",
    "    .orderBy(\"sum(ip_len_mean)\", ascending=False)\n",
    ")\n",
    "Q8.show()\n",
    "# Filtramos por el protocolo 6 correspondiente a TCP.\n",
    "# Agrupamos por los tipos de trafico en 'label1' y sumamos por la columna de longitud media de paquete.\n",
    "# Por último ordenamos de mayor a menor.\n",
    "# Vemos que el tráfico total debido al tráfico normal es el más alto para este protocolo, seguido de los ataques tipo flood y luego slow."
   ]
  },
  {
   "cell_type": "code",
   "execution_count": 16,
   "metadata": {},
   "outputs": [
    {
     "data": {
      "image/png": "[encoded data removed]",
      "text/plain": [
       "<Figure size 432x288 with 1 Axes>"
      ]
     },
     "metadata": {
      "needs_background": "light"
     },
     "output_type": "display_data"
    }
   ],
   "source": [
    "Q8.toPandas().set_index([\"label1\"]).plot(kind=\"bar\")\n",
    "plt.show()"
   ]
  },
  {
   "cell_type": "markdown",
   "metadata": {},
   "source": [
    "# PARTE 2: Uso de Spark para análisis de datos, Spark SQL #\n",
    "\n",
    "Contestar a las cuestiones anteriores empleando Spark SQL"
   ]
  },
  {
   "cell_type": "code",
   "execution_count": 17,
   "metadata": {},
   "outputs": [],
   "source": [
    "data = spark.read.csv(\n",
    "    \"../RecursosdelTema2.2/dataset_descriptor.csv\",\n",
    "    mode=\"DROPMALFORMED\",\n",
    "    inferSchema=True,\n",
    "    header=True,\n",
    ")"
   ]
  },
  {
   "cell_type": "code",
   "execution_count": 18,
   "metadata": {},
   "outputs": [],
   "source": [
    "# Crear la vista en memoria y añadir una celda por cada cuestión que se debe responder\n",
    "data.registerTempTable(\"data\")"
   ]
  },
  {
   "cell_type": "code",
   "execution_count": 19,
   "metadata": {},
   "outputs": [
    {
     "name": "stdout",
     "output_type": "stream",
     "text": [
      "+-----------------+\n",
      "|           label1|\n",
      "+-----------------+\n",
      "|       http_flood|\n",
      "|   http_slow_body|\n",
      "|    tcp_fin_flood|\n",
      "|  http_slow_range|\n",
      "|           normal|\n",
      "|        udp_flood|\n",
      "|   http_slow_read|\n",
      "|tcp_syn_ack_flood|\n",
      "|    tcp_syn_flood|\n",
      "|    tcp_ack_flood|\n",
      "|http_slow_headers|\n",
      "+-----------------+\n",
      "\n"
     ]
    }
   ],
   "source": [
    "# Q1. ¿Cuantas clases de tipo de tráfico hay clasificadas en el campo label1?\n",
    "\n",
    "spark.sql(\n",
    "    \"\"\"\n",
    "    SELECT DISTINCT label1 \n",
    "    FROM data\n",
    "    \"\"\"\n",
    ").show()"
   ]
  },
  {
   "cell_type": "code",
   "execution_count": 20,
   "metadata": {},
   "outputs": [
    {
     "name": "stdout",
     "output_type": "stream",
     "text": [
      "+----------+\n",
      "|    label3|\n",
      "+----------+\n",
      "|http_flood|\n",
      "| tcp_flood|\n",
      "|    normal|\n",
      "| udp_flood|\n",
      "| http_slow|\n",
      "+----------+\n",
      "\n"
     ]
    }
   ],
   "source": [
    "# Q2. ¿Cuantas clases de tipo de tráfico hay clasificadas en el campo label3?\n",
    "\n",
    "spark.sql(\n",
    "    \"\"\"\n",
    "    SELECT DISTINCT label3 \n",
    "    FROM data\n",
    "    \"\"\"\n",
    ").show()"
   ]
  },
  {
   "cell_type": "code",
   "execution_count": 21,
   "metadata": {},
   "outputs": [
    {
     "name": "stdout",
     "output_type": "stream",
     "text": [
      "+----------+\n",
      "|percentage|\n",
      "+----------+\n",
      "|     49.26|\n",
      "+----------+\n",
      "\n"
     ]
    }
   ],
   "source": [
    "# Q3 ¿Que porcentaje de tráfico está catalogado como anormal? Entiendase por anormal aquel que no está etiquetado como normal.\n",
    "\n",
    "spark.sql(\n",
    "    \"\"\"\n",
    "    WITH\n",
    "    total_t AS (\n",
    "        SELECT count(label3) total\n",
    "        FROM data),\n",
    "   fitered_t AS(\n",
    "        SELECT count(label3) filtered\n",
    "        FROM data\n",
    "        WHERE label3 != 'normal')\n",
    "    SELECT ROUND(filtered*100/total, 2) percentage\n",
    "    FROM total_t, fitered_t     \n",
    "    \"\"\"\n",
    ").show()"
   ]
  },
  {
   "cell_type": "code",
   "execution_count": 22,
   "metadata": {},
   "outputs": [
    {
     "name": "stdout",
     "output_type": "stream",
     "text": [
      "+----------+----------+\n",
      "|    trafic|percentage|\n",
      "+----------+----------+\n",
      "|http_flood|    0.7626|\n",
      "| tcp_flood|   32.9407|\n",
      "|    normal|   50.7429|\n",
      "| udp_flood|   15.1516|\n",
      "| http_slow|    0.4022|\n",
      "+----------+----------+\n",
      "\n"
     ]
    }
   ],
   "source": [
    "# Q4 Mostrar los porcentajes de trafico sobre el total asociados a cada tipo de etiqueta de tráfico\n",
    "# (usar el campo genérico Label3 y no el detallado Label 1)\n",
    "# Mostrar un diagrama con estos porcentajes (bar plot)\n",
    "\n",
    "Q4 = spark.sql(\n",
    "    \"\"\"\n",
    "    WITH\n",
    "    total_t AS (\n",
    "        SELECT count(label3) total\n",
    "        FROM data),\n",
    "    fitered_t AS (\n",
    "        SELECT label3, count(label3) filtered\n",
    "        FROM data\n",
    "        GROUP BY label3)\n",
    "    SELECT label3 as trafic, ROUND(filtered*100/total, 4) percentage\n",
    "    FROM total_t, fitered_t     \n",
    "    \"\"\"\n",
    ")\n",
    "Q4.show()"
   ]
  },
  {
   "cell_type": "code",
   "execution_count": 23,
   "metadata": {},
   "outputs": [
    {
     "data": {
      "image/png": "[encoded data removed]",
      "text/plain": [
       "<Figure size 432x288 with 1 Axes>"
      ]
     },
     "metadata": {
      "needs_background": "light"
     },
     "output_type": "display_data"
    }
   ],
   "source": [
    "Q4.toPandas().set_index([\"trafic\"]).plot(kind=\"bar\")\n",
    "plt.show()"
   ]
  },
  {
   "cell_type": "code",
   "execution_count": 24,
   "metadata": {},
   "outputs": [
    {
     "name": "stdout",
     "output_type": "stream",
     "text": [
      "+------------+\n",
      "|ip_proto_int|\n",
      "+------------+\n",
      "|        17.0|\n",
      "|         6.0|\n",
      "+------------+\n",
      "\n"
     ]
    }
   ],
   "source": [
    "# Q5 Identificar que tipo de tráfico de red está incluido en el dataset (usar el campo ip_proto y convertir\n",
    "# ese valor al real que debería tener, es decir, un entero en el rango definido por el IANA)\n",
    "# https://www.iana.org/assignments/protocol-numbers/protocol-numbers.xhtml\n",
    "\n",
    "spark.sql(\n",
    "    \"\"\"\n",
    "    SELECT DISTINCT ip_proto * 1000 ip_proto_int\n",
    "    FROM data  \n",
    "    \"\"\"\n",
    ").show()"
   ]
  },
  {
   "cell_type": "code",
   "execution_count": 25,
   "metadata": {},
   "outputs": [
    {
     "name": "stdout",
     "output_type": "stream",
     "text": [
      "+------------+-----------------+\n",
      "|ip_proto_int|    trafico_total|\n",
      "+------------+-----------------+\n",
      "|        17.0|7064.346040678179|\n",
      "|         6.0| 26867.1914740567|\n",
      "+------------+-----------------+\n",
      "\n"
     ]
    }
   ],
   "source": [
    "# Q6 Calcular la cantidad total (suponer que el dato a aculumar para cada paquete es ip_len_mean)\n",
    "# de bytes transmitidos agrupados por protocolo\n",
    "\n",
    "Q6 = spark.sql(\n",
    "    \"\"\"\n",
    "    SELECT ip_proto * 1000 ip_proto_int, SUM(ip_len_mean) trafico_total\n",
    "    FROM data \n",
    "    GROUP BY ip_proto_int\n",
    "    \"\"\"\n",
    ")\n",
    "Q6.show()"
   ]
  },
  {
   "cell_type": "code",
   "execution_count": 26,
   "metadata": {},
   "outputs": [
    {
     "data": {
      "image/png": "[encoded data removed]",
      "text/plain": [
       "<Figure size 432x288 with 1 Axes>"
      ]
     },
     "metadata": {
      "needs_background": "light"
     },
     "output_type": "display_data"
    }
   ],
   "source": [
    "Q6.toPandas().set_index([\"ip_proto_int\"]).plot(kind=\"bar\")\n",
    "plt.show()"
   ]
  },
  {
   "cell_type": "code",
   "execution_count": 27,
   "metadata": {},
   "outputs": [
    {
     "name": "stdout",
     "output_type": "stream",
     "text": [
      "+---------+------------------+\n",
      "|   label1|     trafico_total|\n",
      "+---------+------------------+\n",
      "|udp_flood|            6894.0|\n",
      "|   normal|170.34604067817844|\n",
      "+---------+------------------+\n",
      "\n"
     ]
    }
   ],
   "source": [
    "# Q7 Indicar cual es tráfico anómalo en UDP que usa más tráfico de red. Presentar los resultados en orden demayor a menor\n",
    "\n",
    "Q7 = spark.sql(\n",
    "    \"\"\"\n",
    "    SELECT label1, SUM(ip_len_mean) trafico_total\n",
    "    FROM data\n",
    "    WHERE ip_proto * 1000 = 17\n",
    "    GROUP BY label1\n",
    "    ORDER BY trafico_total DESC\n",
    "    \"\"\"\n",
    ")\n",
    "Q7.show()"
   ]
  },
  {
   "cell_type": "code",
   "execution_count": 28,
   "metadata": {},
   "outputs": [
    {
     "data": {
      "image/png": "[encoded data removed]",
      "text/plain": [
       "<Figure size 432x288 with 1 Axes>"
      ]
     },
     "metadata": {
      "needs_background": "light"
     },
     "output_type": "display_data"
    }
   ],
   "source": [
    "Q7.toPandas().set_index([\"label1\"]).plot(kind=\"bar\")\n",
    "plt.show()"
   ]
  },
  {
   "cell_type": "code",
   "execution_count": 29,
   "metadata": {},
   "outputs": [
    {
     "name": "stdout",
     "output_type": "stream",
     "text": [
      "+-----------------+------------------+\n",
      "|           label1|     trafico_total|\n",
      "+-----------------+------------------+\n",
      "|           normal|11615.053998509025|\n",
      "|    tcp_syn_flood| 5713.195544936026|\n",
      "|tcp_syn_ack_flood| 5273.157952268173|\n",
      "|    tcp_fin_flood|            2000.0|\n",
      "|    tcp_ack_flood|            2000.0|\n",
      "|       http_flood| 90.88054677859463|\n",
      "|  http_slow_range| 44.20993791090954|\n",
      "|http_slow_headers|44.157370741482964|\n",
      "|   http_slow_read|43.283366733466934|\n",
      "|   http_slow_body|43.252756179024715|\n",
      "+-----------------+------------------+\n",
      "\n"
     ]
    }
   ],
   "source": [
    "# Q8 Indicar cual es tráfico anómalo en TCP que usa más tráfico de red. Presentar los resultados en orden demayor a menor\n",
    "Q8 = spark.sql(\n",
    "    \"\"\"\n",
    "    SELECT label1, SUM(ip_len_mean) trafico_total\n",
    "    FROM data\n",
    "    WHERE ip_proto * 1000 = 6\n",
    "    GROUP BY label1\n",
    "    ORDER BY trafico_total DESC\n",
    "    \"\"\"\n",
    ")\n",
    "Q8.show()"
   ]
  },
  {
   "cell_type": "code",
   "execution_count": 30,
   "metadata": {},
   "outputs": [
    {
     "data": {
      "image/png": "[encoded data removed]",
      "text/plain": [
       "<Figure size 432x288 with 1 Axes>"
      ]
     },
     "metadata": {
      "needs_background": "light"
     },
     "output_type": "display_data"
    }
   ],
   "source": [
    "Q8.toPandas().set_index([\"label1\"]).plot(kind=\"bar\")\n",
    "plt.show()"
   ]
  },
  {
   "cell_type": "code",
   "execution_count": null,
   "metadata": {},
   "outputs": [],
   "source": []
  }
 ],
 "metadata": {
  "kernelspec": {
   "display_name": "Python 3",
   "language": "python",
   "name": "python3"
  },
  "language_info": {
   "codemirror_mode": {
    "name": "ipython",
    "version": 3
   },
   "file_extension": ".py",
   "mimetype": "text/x-python",
   "name": "python",
   "nbconvert_exporter": "python",
   "pygments_lexer": "ipython3",
   "version": "3.8.1"
  }
 },
 "nbformat": 4,
 "nbformat_minor": 2
}
