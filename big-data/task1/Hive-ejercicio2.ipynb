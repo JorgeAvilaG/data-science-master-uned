{
 "cells": [
  {
   "cell_type": "markdown",
   "metadata": {},
   "source": [
    "# Ejercicio 2\n",
    "## Jorge Pablo Ávila Gómez"
   ]
  },
  {
   "cell_type": "markdown",
   "metadata": {},
   "source": [
    "## Ejercicio 2: Hive\n",
    "En este trabajo se van a utilizar ficheros (disponibles en el curso virtual)\n",
    "descargados de la Kaggle (https://www.kaggle.com/sp1thas/book-depository-dataset) y contienen información sobre libros y sus autores. Son los archivos\n",
    "authors.csv y dataset.csv, con una serie de campos separados por ; donde su\n",
    "estructura es la siguiente:\n",
    "\n",
    "- authors.csv: author_id; author_name.\n",
    "- datasets.csv: title; author_id; bestsellers-rank; imprint; publication-date;rating-avg; rating-count\n",
    "\n",
    "Partiendo de este dataset, desarrolla las órdenes de HiveQL que implementen las\n",
    "siguientes tareas."
   ]
  },
  {
   "cell_type": "markdown",
   "metadata": {},
   "source": [
    "#### 1. (2 puntos) Crea las tablas necesarias para almacenar datos. Pueden ser internas o externas en función de los datos que se desee. La decisión de interna o externa debe estar razonada.\n",
    "#### 2. (1 puntos) Importa los datos en las tablas creadas.\n",
    "Se van a crear dos tablas externas ya que tenemos los datos en unos archivos en HDFS y vamos a usar la tabla de Hive solo para consultarlos y responder ciertas consultas pero los datos originales permanecerán en sus correspondientes archivos en HDFS."
   ]
  },
  {
   "cell_type": "code",
   "execution_count": 1,
   "metadata": {
    "collapsed": false
   },
   "outputs": [
    {
     "name": "stdout",
     "output_type": "stream",
     "text": [
      "/media/notebooks/hive-tp1\r\n"
     ]
    }
   ],
   "source": [
    "! mkdir -p hive-tp1\n",
    "import os\n",
    "os.chdir(\"hive-tp1\")\n",
    "! pwd"
   ]
  },
  {
   "cell_type": "code",
   "execution_count": 2,
   "metadata": {
    "collapsed": false,
    "scrolled": true
   },
   "outputs": [
    {
     "name": "stdout",
     "output_type": "stream",
     "text": [
      "mkdir: `/user/root/datostp1': File exists\n",
      "mkdir: `/user/root/datostp1/authors': File exists\n",
      "mkdir: `/user/root/datostp1/dataset': File exists\n",
      "put: `datostp1/authors/authors.csv': File exists\n",
      "put: `datostp1/dataset/dataset.csv': File exists\n"
     ]
    }
   ],
   "source": [
    "! hadoop fs -mkdir /user/$(whoami)/datostp1\n",
    "! hadoop fs -mkdir /user/$(whoami)/datostp1/authors\n",
    "! hadoop fs -mkdir /user/$(whoami)/datostp1/dataset\n",
    "! hadoop fs -put ../tp1-book-depository-dataset/authors.csv datostp1/authors/\n",
    "! hadoop fs -put ../tp1-book-depository-dataset/dataset.csv datostp1/dataset/"
   ]
  },
  {
   "cell_type": "markdown",
   "metadata": {},
   "source": [
    "#### Crear la base de datos"
   ]
  },
  {
   "cell_type": "code",
   "execution_count": 3,
   "metadata": {
    "collapsed": false
   },
   "outputs": [
    {
     "name": "stdout",
     "output_type": "stream",
     "text": [
      "Overwriting ej2.hql\n"
     ]
    }
   ],
   "source": [
    "%%writefile ej2.hql\n",
    "\n",
    "create database if not exists ej2\n",
    "Comment 'BD para ejercicio2 de la tp1'\n",
    "Location '/user/cloudera/ej2'\n",
    "With dbproperties ('Creada por'='User','Creada el'='31-Oct-2020');\n",
    "\n",
    "use ej2;"
   ]
  },
  {
   "cell_type": "code",
   "execution_count": 4,
   "metadata": {
    "collapsed": false,
    "scrolled": true
   },
   "outputs": [
    {
     "name": "stdout",
     "output_type": "stream",
     "text": [
      "2020-10-31 12:31:46,802 WARN  [main] mapreduce.TableMapReduceUtil: The hbase-prefix-tree module jar containing PrefixTreeCodec is not present.  Continuing without it.\n",
      "scan complete in 2ms\n",
      "Connecting to jdbc:hive2://localhost:10000/default\n",
      "Connected to: Apache Hive (version 1.1.0-cdh5.7.0)\n",
      "Driver: Hive JDBC (version 1.1.0-cdh5.7.0)\n",
      "Transaction isolation: TRANSACTION_REPEATABLE_READ\n",
      "0: jdbc:hive2://localhost:10000/default> \n",
      "0: jdbc:hive2://localhost:10000/default> create database if not exists ej2\n",
      "0: jdbc:hive2://localhost:10000/default> Comment 'BD para ejercicio2 de la tp1'\n",
      "0: jdbc:hive2://localhost:10000/default> Location '/user/cloudera/ej2'\n",
      "'Creada el'='31-Oct-2020');0000/default> With dbproperties ('Creada por'='User', \n",
      "INFO  : Compiling command(queryId=hive_20201031123131_edfbbd71-ea1a-4e4c-989e-11b0e49dec7d): create database if not exists ej2\n",
      "Comment 'BD para ejercicio2 de la tp1'\n",
      "Location '/user/cloudera/ej2'\n",
      "With dbproperties ('Creada por'='User','Creada el'='31-Oct-2020')\n",
      "INFO  : Semantic Analysis Completed\n",
      "INFO  : Returning Hive schema: Schema(fieldSchemas:null, properties:null)\n",
      "INFO  : Completed compiling command(queryId=hive_20201031123131_edfbbd71-ea1a-4e4c-989e-11b0e49dec7d); Time taken: 0.003 seconds\n",
      "INFO  : Concurrency mode is disabled, not creating a lock manager\n",
      "INFO  : Executing command(queryId=hive_20201031123131_edfbbd71-ea1a-4e4c-989e-11b0e49dec7d): create database if not exists ej2\n",
      "Comment 'BD para ejercicio2 de la tp1'\n",
      "Location '/user/cloudera/ej2'\n",
      "With dbproperties ('Creada por'='User','Creada el'='31-Oct-2020')\n",
      "INFO  : Starting task [Stage-0:DDL] in serial mode\n",
      "INFO  : Completed executing command(queryId=hive_20201031123131_edfbbd71-ea1a-4e4c-989e-11b0e49dec7d); Time taken: 0.008 seconds\n",
      "INFO  : OK\n",
      "No rows affected (0.055 seconds)\n",
      "0: jdbc:hive2://localhost:10000/default> \n",
      "0: jdbc:hive2://localhost:10000/default> use ej2;\n",
      "INFO  : Compiling command(queryId=hive_20201031123131_773e1442-338e-4686-9aba-218194f307a8): use ej2\n",
      "INFO  : Semantic Analysis Completed\n",
      "INFO  : Returning Hive schema: Schema(fieldSchemas:null, properties:null)\n",
      "INFO  : Completed compiling command(queryId=hive_20201031123131_773e1442-338e-4686-9aba-218194f307a8); Time taken: 0.004 seconds\n",
      "INFO  : Concurrency mode is disabled, not creating a lock manager\n",
      "INFO  : Executing command(queryId=hive_20201031123131_773e1442-338e-4686-9aba-218194f307a8): use ej2\n",
      "INFO  : Starting task [Stage-0:DDL] in serial mode\n",
      "INFO  : Completed executing command(queryId=hive_20201031123131_773e1442-338e-4686-9aba-218194f307a8); Time taken: 0.004 seconds\n",
      "INFO  : OK\n",
      "No rows affected (0.013 seconds)\n",
      "0: jdbc:hive2://localhost:10000/default> \n",
      "Closing: 0: jdbc:hive2://localhost:10000/default\n"
     ]
    }
   ],
   "source": [
    "! beeline -u \"jdbc:hive2://localhost:10000/default\" -f ej2.hql"
   ]
  },
  {
   "cell_type": "markdown",
   "metadata": {},
   "source": [
    "#### Tablas externas"
   ]
  },
  {
   "cell_type": "markdown",
   "metadata": {},
   "source": [
    "En las dos tablas que se van a crear es importante usar el parametro `TBLPROPERTIES (\"skip.header.line.count\"=\"1\");` para que nos saltemos la primera líneas de los documentos que es donde se incluye el nombre de cada columna.\n",
    "\n",
    "Especificamente para la segunda tabla correspodiente al documento dataset.csv he usado el siguiente comando: \n",
    "\n",
    "```ALTER TABLE dataset\n",
    "SET SERDEPROPERTIES (\"timestamp.formats\"=\"DD/MM/YYYY\");\n",
    "```\n",
    "\n",
    "para que pueda leer correctamente el formato de la columna publication_date y se almacene correctamente como tipo timestamp."
   ]
  },
  {
   "cell_type": "code",
   "execution_count": 5,
   "metadata": {
    "collapsed": false
   },
   "outputs": [
    {
     "name": "stdout",
     "output_type": "stream",
     "text": [
      "Overwriting ej2.hql\n"
     ]
    }
   ],
   "source": [
    "%%writefile ej2.hql\n",
    "\n",
    "create external table authors (\n",
    "  author_id  INT,   \n",
    "  author_name  STRING) \n",
    "ROW FORMAT DELIMITED FIELDS TERMINATED BY '\\;' \n",
    "LOCATION '/user/root/datostp1/authors'\n",
    "TBLPROPERTIES (\"skip.header.line.count\"=\"1\");\n"
   ]
  },
  {
   "cell_type": "code",
   "execution_count": 6,
   "metadata": {
    "collapsed": false,
    "scrolled": true
   },
   "outputs": [
    {
     "name": "stdout",
     "output_type": "stream",
     "text": [
      "2020-10-31 12:31:49,236 WARN  [main] mapreduce.TableMapReduceUtil: The hbase-prefix-tree module jar containing PrefixTreeCodec is not present.  Continuing without it.\n",
      "scan complete in 2ms\n",
      "Connecting to jdbc:hive2://localhost:10000/ej2\n",
      "Connected to: Apache Hive (version 1.1.0-cdh5.7.0)\n",
      "Driver: Hive JDBC (version 1.1.0-cdh5.7.0)\n",
      "Transaction isolation: TRANSACTION_REPEATABLE_READ\n",
      "0: jdbc:hive2://localhost:10000/ej2> \n",
      "0: jdbc:hive2://localhost:10000/ej2> create external table authors (\n",
      "0: jdbc:hive2://localhost:10000/ej2>   author_id  INT,   \n",
      "0: jdbc:hive2://localhost:10000/ej2>   author_name  STRING) \n",
      "\\;' dbc:hive2://localhost:10000/ej2> ROW FORMAT DELIMITED FIELDS TERMINATED BY ' \n",
      "0: jdbc:hive2://localhost:10000/ej2> LOCATION '/user/root/datostp1/authors'\n",
      "); jdbc:hive2://localhost:10000/ej2> TBLPROPERTIES (\"skip.header.line.count\"=\"1\" \n",
      "INFO  : Compiling command(queryId=hive_20201031123131_9d716162-2216-433d-b15e-6f26ca73e0ec): create external table authors (\n",
      "  author_id  INT,   \n",
      "  author_name  STRING) \n",
      "ROW FORMAT DELIMITED FIELDS TERMINATED BY ';' \n",
      "LOCATION '/user/root/datostp1/authors'\n",
      "TBLPROPERTIES (\"skip.header.line.count\"=\"1\")\n",
      "INFO  : Semantic Analysis Completed\n",
      "INFO  : Returning Hive schema: Schema(fieldSchemas:null, properties:null)\n",
      "INFO  : Completed compiling command(queryId=hive_20201031123131_9d716162-2216-433d-b15e-6f26ca73e0ec); Time taken: 0.009 seconds\n",
      "INFO  : Concurrency mode is disabled, not creating a lock manager\n",
      "INFO  : Executing command(queryId=hive_20201031123131_9d716162-2216-433d-b15e-6f26ca73e0ec): create external table authors (\n",
      "  author_id  INT,   \n",
      "  author_name  STRING) \n",
      "ROW FORMAT DELIMITED FIELDS TERMINATED BY ';' \n",
      "LOCATION '/user/root/datostp1/authors'\n",
      "TBLPROPERTIES (\"skip.header.line.count\"=\"1\")\n",
      "INFO  : Starting task [Stage-0:DDL] in serial mode\n",
      "INFO  : Completed executing command(queryId=hive_20201031123131_9d716162-2216-433d-b15e-6f26ca73e0ec); Time taken: 0.024 seconds\n",
      "INFO  : OK\n",
      "No rows affected (0.072 seconds)\n",
      "0: jdbc:hive2://localhost:10000/ej2> \n",
      "Closing: 0: jdbc:hive2://localhost:10000/ej2\n"
     ]
    }
   ],
   "source": [
    "! beeline -u \"jdbc:hive2://localhost:10000/ej2\" -f ej2.hql"
   ]
  },
  {
   "cell_type": "code",
   "execution_count": 7,
   "metadata": {
    "collapsed": false,
    "scrolled": true
   },
   "outputs": [
    {
     "name": "stdout",
     "output_type": "stream",
     "text": [
      "Overwriting ej2.hql\n"
     ]
    }
   ],
   "source": [
    "%%writefile ej2.hql\n",
    "\n",
    "create external table dataset (\n",
    "  title  STRING,  \n",
    "  author_id  INT,\n",
    "  bestseller_rank  INT,\n",
    "  imprint  STRING,\n",
    "  publication_date TIMESTAMP,\n",
    "  rating_avg  FLOAT,\n",
    "  rating_count INT) \n",
    "ROW FORMAT DELIMITED FIELDS TERMINATED BY '\\;' \n",
    "LOCATION '/user/root/datostp1/dataset'\n",
    "TBLPROPERTIES (\"skip.header.line.count\"=\"1\");\n",
    "\n",
    "ALTER TABLE dataset\n",
    "SET SERDEPROPERTIES (\"timestamp.formats\" = \"dd/MM/yyyy\");"
   ]
  },
  {
   "cell_type": "code",
   "execution_count": 8,
   "metadata": {
    "collapsed": false,
    "scrolled": true
   },
   "outputs": [
    {
     "name": "stdout",
     "output_type": "stream",
     "text": [
      "2020-10-31 12:31:51,706 WARN  [main] mapreduce.TableMapReduceUtil: The hbase-prefix-tree module jar containing PrefixTreeCodec is not present.  Continuing without it.\n",
      "scan complete in 2ms\n",
      "Connecting to jdbc:hive2://localhost:10000/ej2\n",
      "Connected to: Apache Hive (version 1.1.0-cdh5.7.0)\n",
      "Driver: Hive JDBC (version 1.1.0-cdh5.7.0)\n",
      "Transaction isolation: TRANSACTION_REPEATABLE_READ\n",
      "0: jdbc:hive2://localhost:10000/ej2> \n",
      "0: jdbc:hive2://localhost:10000/ej2> create external table dataset (\n",
      "0: jdbc:hive2://localhost:10000/ej2>   title  STRING,  \n",
      "0: jdbc:hive2://localhost:10000/ej2>   author_id  INT,\n",
      "0: jdbc:hive2://localhost:10000/ej2>   bestseller_rank  INT,\n",
      "0: jdbc:hive2://localhost:10000/ej2>   imprint  STRING,\n",
      "0: jdbc:hive2://localhost:10000/ej2>   publication_date TIMESTAMP,\n",
      "0: jdbc:hive2://localhost:10000/ej2>   rating_avg  FLOAT,\n",
      "0: jdbc:hive2://localhost:10000/ej2>   rating_count INT) \n",
      "\\;' dbc:hive2://localhost:10000/ej2> ROW FORMAT DELIMITED FIELDS TERMINATED BY ' \n",
      "0: jdbc:hive2://localhost:10000/ej2> LOCATION '/user/root/datostp1/dataset'\n",
      "); jdbc:hive2://localhost:10000/ej2> TBLPROPERTIES (\"skip.header.line.count\"=\"1\" \n",
      "INFO  : Compiling command(queryId=hive_20201031123131_9b335145-6722-4b7d-9ef7-f916b2a425f4): create external table dataset (\n",
      "  title  STRING,  \n",
      "  author_id  INT,\n",
      "  bestseller_rank  INT,\n",
      "  imprint  STRING,\n",
      "  publication_date TIMESTAMP,\n",
      "  rating_avg  FLOAT,\n",
      "  rating_count INT) \n",
      "ROW FORMAT DELIMITED FIELDS TERMINATED BY ';' \n",
      "LOCATION '/user/root/datostp1/dataset'\n",
      "TBLPROPERTIES (\"skip.header.line.count\"=\"1\")\n",
      "INFO  : Semantic Analysis Completed\n",
      "INFO  : Returning Hive schema: Schema(fieldSchemas:null, properties:null)\n",
      "INFO  : Completed compiling command(queryId=hive_20201031123131_9b335145-6722-4b7d-9ef7-f916b2a425f4); Time taken: 0.01 seconds\n",
      "INFO  : Concurrency mode is disabled, not creating a lock manager\n",
      "INFO  : Executing command(queryId=hive_20201031123131_9b335145-6722-4b7d-9ef7-f916b2a425f4): create external table dataset (\n",
      "  title  STRING,  \n",
      "  author_id  INT,\n",
      "  bestseller_rank  INT,\n",
      "  imprint  STRING,\n",
      "  publication_date TIMESTAMP,\n",
      "  rating_avg  FLOAT,\n",
      "  rating_count INT) \n",
      "ROW FORMAT DELIMITED FIELDS TERMINATED BY ';' \n",
      "LOCATION '/user/root/datostp1/dataset'\n",
      "TBLPROPERTIES (\"skip.header.line.count\"=\"1\")\n",
      "INFO  : Starting task [Stage-0:DDL] in serial mode\n",
      "INFO  : Completed executing command(queryId=hive_20201031123131_9b335145-6722-4b7d-9ef7-f916b2a425f4); Time taken: 0.033 seconds\n",
      "INFO  : OK\n",
      "No rows affected (0.082 seconds)\n",
      "0: jdbc:hive2://localhost:10000/ej2> \n",
      "0: jdbc:hive2://localhost:10000/ej2> ALTER TABLE dataset\n",
      "\"dd/MM/yyyy\");//localhost:10000/ej2> SET SERDEPROPERTIES (\"timestamp.formats\" =  \n",
      "INFO  : Compiling command(queryId=hive_20201031123131_08b1a4ca-a5a0-436c-be81-b1c7e3e845b3): ALTER TABLE dataset\n",
      "SET SERDEPROPERTIES (\"timestamp.formats\" = \"dd/MM/yyyy\")\n",
      "INFO  : Semantic Analysis Completed\n",
      "INFO  : Returning Hive schema: Schema(fieldSchemas:null, properties:null)\n",
      "INFO  : Completed compiling command(queryId=hive_20201031123131_08b1a4ca-a5a0-436c-be81-b1c7e3e845b3); Time taken: 0.079 seconds\n",
      "INFO  : Concurrency mode is disabled, not creating a lock manager\n",
      "INFO  : Executing command(queryId=hive_20201031123131_08b1a4ca-a5a0-436c-be81-b1c7e3e845b3): ALTER TABLE dataset\n",
      "SET SERDEPROPERTIES (\"timestamp.formats\" = \"dd/MM/yyyy\")\n",
      "INFO  : Starting task [Stage-0:DDL] in serial mode\n",
      "INFO  : Completed executing command(queryId=hive_20201031123131_08b1a4ca-a5a0-436c-be81-b1c7e3e845b3); Time taken: 0.044 seconds\n",
      "INFO  : OK\n",
      "No rows affected (0.127 seconds)\n",
      "0: jdbc:hive2://localhost:10000/ej2> \n",
      "Closing: 0: jdbc:hive2://localhost:10000/ej2\n"
     ]
    }
   ],
   "source": [
    "! beeline -u \"jdbc:hive2://localhost:10000/ej2\" -f ej2.hql"
   ]
  },
  {
   "cell_type": "code",
   "execution_count": 9,
   "metadata": {
    "collapsed": false,
    "scrolled": true
   },
   "outputs": [
    {
     "name": "stdout",
     "output_type": "stream",
     "text": [
      "2020-10-31 12:31:54,200 WARN  [main] mapreduce.TableMapReduceUtil: The hbase-prefix-tree module jar containing PrefixTreeCodec is not present.  Continuing without it.\n",
      "scan complete in 2ms\n",
      "Connecting to jdbc:hive2://localhost:10000/ej2\n",
      "Connected to: Apache Hive (version 1.1.0-cdh5.7.0)\n",
      "Driver: Hive JDBC (version 1.1.0-cdh5.7.0)\n",
      "Transaction isolation: TRANSACTION_REPEATABLE_READ\n",
      "INFO  : Compiling command(queryId=hive_20201031123131_7d7e0de6-5751-4460-9de0-a6d325c515e0): SELECT * FROM authors LIMIT 10\n",
      "INFO  : Semantic Analysis Completed\n",
      "INFO  : Returning Hive schema: Schema(fieldSchemas:[FieldSchema(name:authors.author_id, type:int, comment:null), FieldSchema(name:authors.author_name, type:string, comment:null)], properties:null)\n",
      "INFO  : Completed compiling command(queryId=hive_20201031123131_7d7e0de6-5751-4460-9de0-a6d325c515e0); Time taken: 0.032 seconds\n",
      "INFO  : Concurrency mode is disabled, not creating a lock manager\n",
      "INFO  : Executing command(queryId=hive_20201031123131_7d7e0de6-5751-4460-9de0-a6d325c515e0): SELECT * FROM authors LIMIT 10\n",
      "INFO  : Completed executing command(queryId=hive_20201031123131_7d7e0de6-5751-4460-9de0-a6d325c515e0); Time taken: 0.001 seconds\n",
      "INFO  : OK\n",
      "+--------------------+----------------------+--+\n",
      "| authors.author_id  | authors.author_name  |\n",
      "+--------------------+----------------------+--+\n",
      "| 3                  | Cecelia Mecca        |\n",
      "| 4                  | Ana Maria Spagna     |\n",
      "| 5                  | Mark Vanhoenacker    |\n",
      "| 6                  | Jen Gale             |\n",
      "| 7                  | Giles Chapman        |\n",
      "| 10                 | Brian Cosgrove       |\n",
      "| 17                 | David Nash           |\n",
      "| 18                 | Mike Gould           |\n",
      "| 19                 | Cy Tymony            |\n",
      "| 20                 | Haynes Publishing    |\n",
      "+--------------------+----------------------+--+\n",
      "10 rows selected (0.114 seconds)\n",
      "Beeline version 1.1.0-cdh5.7.0 by Apache Hive\n",
      "Closing: 0: jdbc:hive2://localhost:10000/ej2\n"
     ]
    }
   ],
   "source": [
    "! beeline -u \"jdbc:hive2://localhost:10000/ej2\" -e 'SELECT * FROM authors LIMIT 10'"
   ]
  },
  {
   "cell_type": "code",
   "execution_count": 10,
   "metadata": {
    "collapsed": false,
    "scrolled": true
   },
   "outputs": [
    {
     "name": "stdout",
     "output_type": "stream",
     "text": [
      "2020-10-31 12:31:56,603 WARN  [main] mapreduce.TableMapReduceUtil: The hbase-prefix-tree module jar containing PrefixTreeCodec is not present.  Continuing without it.\n",
      "scan complete in 3ms\n",
      "Connecting to jdbc:hive2://localhost:10000/ej2\n",
      "Connected to: Apache Hive (version 1.1.0-cdh5.7.0)\n",
      "Driver: Hive JDBC (version 1.1.0-cdh5.7.0)\n",
      "Transaction isolation: TRANSACTION_REPEATABLE_READ\n",
      "INFO  : Compiling command(queryId=hive_20201031123131_e14b6a13-d906-40ff-84b3-bdef81823e67): SELECT * FROM dataset LIMIT 10\n",
      "INFO  : Semantic Analysis Completed\n",
      "INFO  : Returning Hive schema: Schema(fieldSchemas:[FieldSchema(name:dataset.title, type:string, comment:null), FieldSchema(name:dataset.author_id, type:int, comment:null), FieldSchema(name:dataset.bestseller_rank, type:int, comment:null), FieldSchema(name:dataset.imprint, type:string, comment:null), FieldSchema(name:dataset.publication_date, type:timestamp, comment:null), FieldSchema(name:dataset.rating_avg, type:float, comment:null), FieldSchema(name:dataset.rating_count, type:int, comment:null)], properties:null)\n",
      "INFO  : Completed compiling command(queryId=hive_20201031123131_e14b6a13-d906-40ff-84b3-bdef81823e67); Time taken: 0.038 seconds\n",
      "INFO  : Concurrency mode is disabled, not creating a lock manager\n",
      "INFO  : Executing command(queryId=hive_20201031123131_e14b6a13-d906-40ff-84b3-bdef81823e67): SELECT * FROM dataset LIMIT 10\n",
      "INFO  : Completed executing command(queryId=hive_20201031123131_e14b6a13-d906-40ff-84b3-bdef81823e67); Time taken: 0.001 seconds\n",
      "INFO  : OK\n",
      "+-------------------------------------------------------------------------------------------------------------------+--------------------+--------------------------+------------------+---------------------------+---------------------+-----------------------+--+\n",
      "|                                                   dataset.title                                                   | dataset.author_id  | dataset.bestseller_rank  | dataset.imprint  | dataset.publication_date  | dataset.rating_avg  | dataset.rating_count  |\n",
      "+-------------------------------------------------------------------------------------------------------------------+--------------------+--------------------------+------------------+---------------------------+---------------------+-----------------------+--+\n",
      "| The Mercenary : Order of the Broken Blade                                                                         | 3                  | 51517                    |                  | 2019-09-17 00:00:00.0     | 4.489999771118164   | 211                   |\n",
      "| 100 Skills You'll Need for the End of the World (as We Know It)                                                   | 4                  | 162985                   |                  | 2015-05-05 00:00:00.0     | 2.9600000381469727  | 139                   |\n",
      "| How to Land a Plane                                                                                               | 5                  | 41520                    |                  | 2017-09-21 00:00:00.0     | 4.210000038146973   | 158                   |\n",
      "| Skyfaring : A Journey with a Pilot                                                                                | 5                  | 870385                   |                  | 2016-05-03 00:00:00.0     | 3.940000057220459   | 2684                  |\n",
      "| How to Land a Plane                                                                                               | 5                  | 882451                   |                  | 2019-04-30 00:00:00.0     | 4.210000038146973   | 158                   |\n",
      "| The Sustainable(ish) Living Guide : Everything you need to know to make small changes that make a big difference  | 6                  | 3885                     | Green Tree       | 2020-03-10 00:00:00.0     | 0.0                 | 0                     |\n",
      "| Mini : 60 Years                                                                                                   | 7                  | 75224                    |                  | 2019-05-09 00:00:00.0     | 4.75                | 4                     |\n",
      "| 100 Cars Britain Can Be Proud Of                                                                                  | 7                  | 522932                   |                  | 2010-12-01 00:00:00.0     | 4.329999923706055   | 6                     |\n",
      "| Microlight Pilot's Handbook                                                                                       | 10                 | 108                      |                  | 2013-11-01 00:00:00.0     | 4.380000114440918   | 26                    |\n",
      "| Pilot's Weather : A commonsense approach to meteorology                                                           | 10                 | 215038                   |                  | 2005-04-09 00:00:00.0     | 4.0                 | 8                     |\n",
      "+-------------------------------------------------------------------------------------------------------------------+--------------------+--------------------------+------------------+---------------------------+---------------------+-----------------------+--+\n",
      "10 rows selected (0.125 seconds)\n",
      "Beeline version 1.1.0-cdh5.7.0 by Apache Hive\n",
      "Closing: 0: jdbc:hive2://localhost:10000/ej2\n"
     ]
    }
   ],
   "source": [
    "! beeline -u \"jdbc:hive2://localhost:10000/ej2\" -e 'SELECT * FROM dataset LIMIT 10'"
   ]
  },
  {
   "cell_type": "markdown",
   "metadata": {},
   "source": [
    "#### 3. (2 puntos) Crea una vista sobre las tablas creadas. Esta vista tendrá para cada título, el nombre del autor, fecha de publicación, y valoración media."
   ]
  },
  {
   "cell_type": "code",
   "execution_count": 11,
   "metadata": {
    "collapsed": false
   },
   "outputs": [
    {
     "name": "stdout",
     "output_type": "stream",
     "text": [
      "Overwriting ej2.hql\n"
     ]
    }
   ],
   "source": [
    "%%writefile ej2.hql\n",
    "\n",
    "Create view if not exists vista_ejhive\n",
    "    AS SELECT d.title, a.author_name, d.publication_date, d.rating_avg\n",
    "    FROM authors a JOIN dataset d \n",
    "    ON a.author_id = d.author_id;"
   ]
  },
  {
   "cell_type": "code",
   "execution_count": 12,
   "metadata": {
    "collapsed": false,
    "scrolled": true
   },
   "outputs": [
    {
     "name": "stdout",
     "output_type": "stream",
     "text": [
      "2020-10-31 12:31:59,171 WARN  [main] mapreduce.TableMapReduceUtil: The hbase-prefix-tree module jar containing PrefixTreeCodec is not present.  Continuing without it.\n",
      "scan complete in 2ms\n",
      "Connecting to jdbc:hive2://localhost:10000/ej2\n",
      "Connected to: Apache Hive (version 1.1.0-cdh5.7.0)\n",
      "Driver: Hive JDBC (version 1.1.0-cdh5.7.0)\n",
      "Transaction isolation: TRANSACTION_REPEATABLE_READ\n",
      "0: jdbc:hive2://localhost:10000/ej2> \n",
      "0: jdbc:hive2://localhost:10000/ej2> Create view if not exists vista_ejhive\n",
      "lication_date, d.rating_avg0000/ej2>     AS SELECT d.title, a.author_name, d.pub \n",
      "0: jdbc:hive2://localhost:10000/ej2>     FROM authors a JOIN dataset d \n",
      "0: jdbc:hive2://localhost:10000/ej2>     ON a.author_id = d.author_id;\n",
      "INFO  : Compiling command(queryId=hive_20201031123232_7ce753cb-09ab-4c93-a843-8c36301deed1): Create view if not exists vista_ejhive\n",
      "    AS SELECT d.title, a.author_name, d.publication_date, d.rating_avg\n",
      "    FROM authors a JOIN dataset d \n",
      "    ON a.author_id = d.author_id\n",
      "INFO  : Semantic Analysis Completed\n",
      "INFO  : Returning Hive schema: Schema(fieldSchemas:[FieldSchema(name:title, type:string, comment:null), FieldSchema(name:author_name, type:string, comment:null), FieldSchema(name:publication_date, type:timestamp, comment:null), FieldSchema(name:rating_avg, type:float, comment:null)], properties:null)\n",
      "INFO  : Completed compiling command(queryId=hive_20201031123232_7ce753cb-09ab-4c93-a843-8c36301deed1); Time taken: 0.057 seconds\n",
      "INFO  : Concurrency mode is disabled, not creating a lock manager\n",
      "INFO  : Executing command(queryId=hive_20201031123232_7ce753cb-09ab-4c93-a843-8c36301deed1): Create view if not exists vista_ejhive\n",
      "    AS SELECT d.title, a.author_name, d.publication_date, d.rating_avg\n",
      "    FROM authors a JOIN dataset d \n",
      "    ON a.author_id = d.author_id\n",
      "INFO  : Starting task [Stage-0:DDL] in serial mode\n",
      "INFO  : Completed executing command(queryId=hive_20201031123232_7ce753cb-09ab-4c93-a843-8c36301deed1); Time taken: 0.019 seconds\n",
      "INFO  : OK\n",
      "No rows affected (0.113 seconds)\n",
      "0: jdbc:hive2://localhost:10000/ej2> \n",
      "Closing: 0: jdbc:hive2://localhost:10000/ej2\n"
     ]
    }
   ],
   "source": [
    "! beeline -u \"jdbc:hive2://localhost:10000/ej2\" -f ej2.hql"
   ]
  },
  {
   "cell_type": "code",
   "execution_count": 13,
   "metadata": {
    "collapsed": false,
    "scrolled": true
   },
   "outputs": [
    {
     "name": "stdout",
     "output_type": "stream",
     "text": [
      "2020-10-31 12:32:01,663 WARN  [main] mapreduce.TableMapReduceUtil: The hbase-prefix-tree module jar containing PrefixTreeCodec is not present.  Continuing without it.\n",
      "scan complete in 2ms\n",
      "Connecting to jdbc:hive2://localhost:10000/ej2\n",
      "Connected to: Apache Hive (version 1.1.0-cdh5.7.0)\n",
      "Driver: Hive JDBC (version 1.1.0-cdh5.7.0)\n",
      "Transaction isolation: TRANSACTION_REPEATABLE_READ\n",
      "INFO  : Compiling command(queryId=hive_20201031123232_942a5992-e099-4843-8e4a-e786cb3d92fd): SELECT * FROM vista_ejhive LIMIT 10\n",
      "INFO  : Semantic Analysis Completed\n",
      "INFO  : Returning Hive schema: Schema(fieldSchemas:[FieldSchema(name:vista_ejhive.title, type:string, comment:null), FieldSchema(name:vista_ejhive.author_name, type:string, comment:null), FieldSchema(name:vista_ejhive.publication_date, type:timestamp, comment:null), FieldSchema(name:vista_ejhive.rating_avg, type:float, comment:null)], properties:null)\n",
      "INFO  : Completed compiling command(queryId=hive_20201031123232_942a5992-e099-4843-8e4a-e786cb3d92fd); Time taken: 0.06 seconds\n",
      "INFO  : Concurrency mode is disabled, not creating a lock manager\n",
      "INFO  : Executing command(queryId=hive_20201031123232_942a5992-e099-4843-8e4a-e786cb3d92fd): SELECT * FROM vista_ejhive LIMIT 10\n",
      "INFO  : Query ID = hive_20201031123232_942a5992-e099-4843-8e4a-e786cb3d92fd\n",
      "INFO  : Total jobs = 1\n",
      "INFO  : Starting task [Stage-4:MAPREDLOCAL] in serial mode\n",
      "INFO  : Execution completed successfully\n",
      "INFO  : MapredLocal task succeeded\n",
      "INFO  : Launching Job 1 out of 1\n",
      "INFO  : Starting task [Stage-3:MAPRED] in serial mode\n",
      "INFO  : Number of reduce tasks is set to 0 since there's no reduce operator\n",
      "INFO  : Starting Job = job_1604136524346_0034, Tracking URL = http://quickstart.cloudera:8088/proxy/application_1604136524346_0034/\n",
      "INFO  : Kill Command = /usr/lib/hadoop/bin/hadoop job  -kill job_1604136524346_0034\n",
      "INFO  : Hadoop job information for Stage-3: number of mappers: 1; number of reducers: 0\n",
      "INFO  : 2020-10-31 12:32:10,162 Stage-3 map = 0%,  reduce = 0%\n",
      "INFO  : 2020-10-31 12:32:14,365 Stage-3 map = 100%,  reduce = 0%, Cumulative CPU 1.4 sec\n",
      "INFO  : MapReduce Total cumulative CPU time: 1 seconds 400 msec\n",
      "INFO  : Ended Job = job_1604136524346_0034\n",
      "INFO  : MapReduce Jobs Launched: \n",
      "INFO  : Stage-Stage-3: Map: 1   Cumulative CPU: 1.4 sec   HDFS Read: 10685 HDFS Write: 827 SUCCESS\n",
      "INFO  : Total MapReduce CPU Time Spent: 1 seconds 400 msec\n",
      "INFO  : Completed executing command(queryId=hive_20201031123232_942a5992-e099-4843-8e4a-e786cb3d92fd); Time taken: 12.655 seconds\n",
      "INFO  : OK\n",
      "+-------------------------------------------------------------------------------------------------------------------+---------------------------+--------------------------------+--------------------------+--+\n",
      "|                                                vista_ejhive.title                                                 | vista_ejhive.author_name  | vista_ejhive.publication_date  | vista_ejhive.rating_avg  |\n",
      "+-------------------------------------------------------------------------------------------------------------------+---------------------------+--------------------------------+--------------------------+--+\n",
      "| The Mercenary : Order of the Broken Blade                                                                         | Cecelia Mecca             | 2019-09-17 00:00:00.0          | 4.489999771118164        |\n",
      "| 100 Skills You'll Need for the End of the World (as We Know It)                                                   | Ana Maria Spagna          | 2015-05-05 00:00:00.0          | 2.9600000381469727       |\n",
      "| How to Land a Plane                                                                                               | Mark Vanhoenacker         | 2017-09-21 00:00:00.0          | 4.210000038146973        |\n",
      "| Skyfaring : A Journey with a Pilot                                                                                | Mark Vanhoenacker         | 2016-05-03 00:00:00.0          | 3.940000057220459        |\n",
      "| How to Land a Plane                                                                                               | Mark Vanhoenacker         | 2019-04-30 00:00:00.0          | 4.210000038146973        |\n",
      "| The Sustainable(ish) Living Guide : Everything you need to know to make small changes that make a big difference  | Jen Gale                  | 2020-03-10 00:00:00.0          | 0.0                      |\n",
      "| Mini : 60 Years                                                                                                   | Giles Chapman             | 2019-05-09 00:00:00.0          | 4.75                     |\n",
      "| 100 Cars Britain Can Be Proud Of                                                                                  | Giles Chapman             | 2010-12-01 00:00:00.0          | 4.329999923706055        |\n",
      "| Microlight Pilot's Handbook                                                                                       | Brian Cosgrove            | 2013-11-01 00:00:00.0          | 4.380000114440918        |\n",
      "| Pilot's Weather : A commonsense approach to meteorology                                                           | Brian Cosgrove            | 2005-04-09 00:00:00.0          | 4.0                      |\n",
      "+-------------------------------------------------------------------------------------------------------------------+---------------------------+--------------------------------+--------------------------+--+\n",
      "10 rows selected (12.774 seconds)\n",
      "Beeline version 1.1.0-cdh5.7.0 by Apache Hive\n",
      "Closing: 0: jdbc:hive2://localhost:10000/ej2\n"
     ]
    }
   ],
   "source": [
    "! beeline -u \"jdbc:hive2://localhost:10000/ej2\" -e 'SELECT * FROM vista_ejhive LIMIT 10'"
   ]
  },
  {
   "cell_type": "markdown",
   "metadata": {},
   "source": [
    "#### 4. (3 puntos) Crea las consultas de Hive necesarias para responder las siguientes cuestiones:"
   ]
  },
  {
   "cell_type": "markdown",
   "metadata": {},
   "source": [
    "- ¿Cuál es el título del libro con mejor valoración media de la autora Ana Maria Spagna?"
   ]
  },
  {
   "cell_type": "code",
   "execution_count": 14,
   "metadata": {
    "collapsed": false
   },
   "outputs": [
    {
     "name": "stdout",
     "output_type": "stream",
     "text": [
      "Overwriting ej2.hql\n"
     ]
    }
   ],
   "source": [
    "%%writefile ej2.hql\n",
    "\n",
    "WITH t1 AS (\n",
    "SELECT title, rating_avg\n",
    "FROM vista_ejhive \n",
    "WHERE author_name = 'Ana Maria Spagna'\n",
    "ORDER BY rating_avg DESC\n",
    "LIMIT 1\n",
    ")\n",
    "SELECT title \n",
    "FROM t1;"
   ]
  },
  {
   "cell_type": "code",
   "execution_count": 15,
   "metadata": {
    "collapsed": false,
    "scrolled": true
   },
   "outputs": [
    {
     "name": "stdout",
     "output_type": "stream",
     "text": [
      "2020-10-31 12:32:16,850 WARN  [main] mapreduce.TableMapReduceUtil: The hbase-prefix-tree module jar containing PrefixTreeCodec is not present.  Continuing without it.\n",
      "scan complete in 2ms\n",
      "Connecting to jdbc:hive2://localhost:10000/ej2\n",
      "Connected to: Apache Hive (version 1.1.0-cdh5.7.0)\n",
      "Driver: Hive JDBC (version 1.1.0-cdh5.7.0)\n",
      "Transaction isolation: TRANSACTION_REPEATABLE_READ\n",
      "0: jdbc:hive2://localhost:10000/ej2> \n",
      "0: jdbc:hive2://localhost:10000/ej2> WITH t1 AS (\n",
      "0: jdbc:hive2://localhost:10000/ej2> SELECT title, rating_avg\n",
      "0: jdbc:hive2://localhost:10000/ej2> FROM vista_ejhive \n",
      "0: jdbc:hive2://localhost:10000/ej2> WHERE author_name = 'Ana Maria Spagna'\n",
      "0: jdbc:hive2://localhost:10000/ej2> ORDER BY rating_avg DESC\n",
      "0: jdbc:hive2://localhost:10000/ej2> LIMIT 1\n",
      "0: jdbc:hive2://localhost:10000/ej2> )\n",
      "0: jdbc:hive2://localhost:10000/ej2> SELECT title \n",
      "0: jdbc:hive2://localhost:10000/ej2> FROM t1;\n",
      "INFO  : Compiling command(queryId=hive_20201031123232_24679d83-2bc7-47a4-929d-2621aa3e5c75): WITH t1 AS (\n",
      "SELECT title, rating_avg\n",
      "FROM vista_ejhive \n",
      "WHERE author_name = 'Ana Maria Spagna'\n",
      "ORDER BY rating_avg DESC\n",
      "LIMIT 1\n",
      ")\n",
      "SELECT title \n",
      "FROM t1\n",
      "INFO  : Semantic Analysis Completed\n",
      "INFO  : Returning Hive schema: Schema(fieldSchemas:[FieldSchema(name:title, type:string, comment:null)], properties:null)\n",
      "INFO  : Completed compiling command(queryId=hive_20201031123232_24679d83-2bc7-47a4-929d-2621aa3e5c75); Time taken: 0.071 seconds\n",
      "INFO  : Concurrency mode is disabled, not creating a lock manager\n",
      "INFO  : Executing command(queryId=hive_20201031123232_24679d83-2bc7-47a4-929d-2621aa3e5c75): WITH t1 AS (\n",
      "SELECT title, rating_avg\n",
      "FROM vista_ejhive \n",
      "WHERE author_name = 'Ana Maria Spagna'\n",
      "ORDER BY rating_avg DESC\n",
      "LIMIT 1\n",
      ")\n",
      "SELECT title \n",
      "FROM t1\n",
      "INFO  : Query ID = hive_20201031123232_24679d83-2bc7-47a4-929d-2621aa3e5c75\n",
      "INFO  : Total jobs = 1\n",
      "INFO  : Starting task [Stage-5:MAPREDLOCAL] in serial mode\n",
      "INFO  : Execution completed successfully\n",
      "INFO  : MapredLocal task succeeded\n",
      "INFO  : Launching Job 1 out of 1\n",
      "INFO  : Starting task [Stage-2:MAPRED] in serial mode\n",
      "INFO  : Number of reduce tasks determined at compile time: 1\n",
      "INFO  : In order to change the average load for a reducer (in bytes):\n",
      "INFO  :   set hive.exec.reducers.bytes.per.reducer=<number>\n",
      "INFO  : In order to limit the maximum number of reducers:\n",
      "INFO  :   set hive.exec.reducers.max=<number>\n",
      "INFO  : In order to set a constant number of reducers:\n",
      "INFO  :   set mapreduce.job.reduces=<number>\n",
      "INFO  : Starting Job = job_1604136524346_0035, Tracking URL = http://quickstart.cloudera:8088/proxy/application_1604136524346_0035/\n",
      "INFO  : Kill Command = /usr/lib/hadoop/bin/hadoop job  -kill job_1604136524346_0035\n",
      "INFO  : Hadoop job information for Stage-2: number of mappers: 1; number of reducers: 1\n",
      "INFO  : 2020-10-31 12:32:24,303 Stage-2 map = 0%,  reduce = 0%\n",
      "INFO  : 2020-10-31 12:32:29,490 Stage-2 map = 100%,  reduce = 0%, Cumulative CPU 1.6 sec\n",
      "INFO  : 2020-10-31 12:32:33,654 Stage-2 map = 100%,  reduce = 100%, Cumulative CPU 2.55 sec\n",
      "INFO  : MapReduce Total cumulative CPU time: 2 seconds 550 msec\n",
      "INFO  : Ended Job = job_1604136524346_0035\n",
      "INFO  : MapReduce Jobs Launched: \n",
      "INFO  : Stage-Stage-2: Map: 1  Reduce: 1   Cumulative CPU: 2.55 sec   HDFS Read: 3401381 HDFS Write: 64 SUCCESS\n",
      "INFO  : Total MapReduce CPU Time Spent: 2 seconds 550 msec\n",
      "INFO  : Completed executing command(queryId=hive_20201031123232_24679d83-2bc7-47a4-929d-2621aa3e5c75); Time taken: 16.737 seconds\n",
      "INFO  : OK\n",
      "+------------------------------------------------------------------+--+\n",
      "|                              title                               |\n",
      "+------------------------------------------------------------------+--+\n",
      "| 100 Skills You'll Need for the End of the World (as We Know It)  |\n",
      "+------------------------------------------------------------------+--+\n",
      "1 row selected (16.858 seconds)\n",
      "0: jdbc:hive2://localhost:10000/ej2> \n",
      "Closing: 0: jdbc:hive2://localhost:10000/ej2\n"
     ]
    }
   ],
   "source": [
    "! beeline -u \"jdbc:hive2://localhost:10000/ej2\" -f ej2.hql"
   ]
  },
  {
   "cell_type": "markdown",
   "metadata": {},
   "source": [
    "- ¿Cuáles son los cinco autores que han escrito más libros?"
   ]
  },
  {
   "cell_type": "code",
   "execution_count": 16,
   "metadata": {
    "collapsed": false
   },
   "outputs": [
    {
     "name": "stdout",
     "output_type": "stream",
     "text": [
      "Overwriting ej2.hql\n"
     ]
    }
   ],
   "source": [
    "%%writefile ej2.hql\n",
    "\n",
    "SELECT author_name, COUNT(title) n_books\n",
    "FROM vista_ejhive \n",
    "GROUP BY author_name\n",
    "ORDER BY n_books DESC \n",
    "LIMIT 5"
   ]
  },
  {
   "cell_type": "code",
   "execution_count": 17,
   "metadata": {
    "collapsed": false,
    "scrolled": true
   },
   "outputs": [
    {
     "name": "stdout",
     "output_type": "stream",
     "text": [
      "2020-10-31 12:32:36,136 WARN  [main] mapreduce.TableMapReduceUtil: The hbase-prefix-tree module jar containing PrefixTreeCodec is not present.  Continuing without it.\n",
      "scan complete in 2ms\n",
      "Connecting to jdbc:hive2://localhost:10000/ej2\n",
      "Connected to: Apache Hive (version 1.1.0-cdh5.7.0)\n",
      "Driver: Hive JDBC (version 1.1.0-cdh5.7.0)\n",
      "Transaction isolation: TRANSACTION_REPEATABLE_READ\n",
      "0: jdbc:hive2://localhost:10000/ej2> \n",
      "0: jdbc:hive2://localhost:10000/ej2> SELECT author_name, COUNT(title) n_books\n",
      "0: jdbc:hive2://localhost:10000/ej2> FROM vista_ejhive \n",
      "0: jdbc:hive2://localhost:10000/ej2> GROUP BY author_name\n",
      "0: jdbc:hive2://localhost:10000/ej2> ORDER BY n_books DESC \n",
      "0: jdbc:hive2://localhost:10000/ej2> LIMIT 5\n",
      "0: jdbc:hive2://localhost:10000/ej2> INFO  : Compiling command(queryId=hive_20201031123232_2339d90a-53f9-4fb0-a2b2-b16f23c936ca): SELECT author_name, COUNT(title) n_books\n",
      "FROM vista_ejhive \n",
      "GROUP BY author_name\n",
      "ORDER BY n_books DESC \n",
      "LIMIT 5\n",
      "INFO  : Semantic Analysis Completed\n",
      "INFO  : Returning Hive schema: Schema(fieldSchemas:[FieldSchema(name:author_name, type:string, comment:null), FieldSchema(name:n_books, type:bigint, comment:null)], properties:null)\n",
      "INFO  : Completed compiling command(queryId=hive_20201031123232_2339d90a-53f9-4fb0-a2b2-b16f23c936ca); Time taken: 0.063 seconds\n",
      "INFO  : Concurrency mode is disabled, not creating a lock manager\n",
      "INFO  : Executing command(queryId=hive_20201031123232_2339d90a-53f9-4fb0-a2b2-b16f23c936ca): SELECT author_name, COUNT(title) n_books\n",
      "FROM vista_ejhive \n",
      "GROUP BY author_name\n",
      "ORDER BY n_books DESC \n",
      "LIMIT 5\n",
      "INFO  : Query ID = hive_20201031123232_2339d90a-53f9-4fb0-a2b2-b16f23c936ca\n",
      "INFO  : Total jobs = 2\n",
      "INFO  : Starting task [Stage-6:MAPREDLOCAL] in serial mode\n",
      "INFO  : Execution completed successfully\n",
      "INFO  : MapredLocal task succeeded\n",
      "INFO  : Launching Job 1 out of 2\n",
      "INFO  : Starting task [Stage-2:MAPRED] in serial mode\n",
      "INFO  : Number of reduce tasks not specified. Estimated from input data size: 1\n",
      "INFO  : In order to change the average load for a reducer (in bytes):\n",
      "INFO  :   set hive.exec.reducers.bytes.per.reducer=<number>\n",
      "INFO  : In order to limit the maximum number of reducers:\n",
      "INFO  :   set hive.exec.reducers.max=<number>\n",
      "INFO  : In order to set a constant number of reducers:\n",
      "INFO  :   set mapreduce.job.reduces=<number>\n",
      "INFO  : Starting Job = job_1604136524346_0036, Tracking URL = http://quickstart.cloudera:8088/proxy/application_1604136524346_0036/\n",
      "INFO  : Kill Command = /usr/lib/hadoop/bin/hadoop job  -kill job_1604136524346_0036\n",
      "INFO  : Hadoop job information for Stage-2: number of mappers: 1; number of reducers: 1\n",
      "INFO  : 2020-10-31 12:32:43,363 Stage-2 map = 0%,  reduce = 0%\n",
      "INFO  : 2020-10-31 12:32:48,548 Stage-2 map = 100%,  reduce = 0%, Cumulative CPU 2.69 sec\n",
      "INFO  : 2020-10-31 12:32:53,768 Stage-2 map = 100%,  reduce = 100%, Cumulative CPU 4.84 sec\n",
      "INFO  : MapReduce Total cumulative CPU time: 4 seconds 840 msec\n",
      "INFO  : Ended Job = job_1604136524346_0036\n",
      "INFO  : Launching Job 2 out of 2\n",
      "INFO  : Starting task [Stage-3:MAPRED] in serial mode\n",
      "INFO  : Number of reduce tasks determined at compile time: 1\n",
      "INFO  : In order to change the average load for a reducer (in bytes):\n",
      "INFO  :   set hive.exec.reducers.bytes.per.reducer=<number>\n",
      "INFO  : In order to limit the maximum number of reducers:\n",
      "INFO  :   set hive.exec.reducers.max=<number>\n",
      "INFO  : In order to set a constant number of reducers:\n",
      "INFO  :   set mapreduce.job.reduces=<number>\n",
      "INFO  : Starting Job = job_1604136524346_0037, Tracking URL = http://quickstart.cloudera:8088/proxy/application_1604136524346_0037/\n",
      "INFO  : Kill Command = /usr/lib/hadoop/bin/hadoop job  -kill job_1604136524346_0037\n",
      "INFO  : Hadoop job information for Stage-3: number of mappers: 1; number of reducers: 1\n",
      "INFO  : 2020-10-31 12:32:59,248 Stage-3 map = 0%,  reduce = 0%\n",
      "INFO  : 2020-10-31 12:33:03,535 Stage-3 map = 100%,  reduce = 0%, Cumulative CPU 2.37 sec\n",
      "INFO  : 2020-10-31 12:33:08,656 Stage-3 map = 100%,  reduce = 100%, Cumulative CPU 3.65 sec\n",
      "INFO  : MapReduce Total cumulative CPU time: 3 seconds 650 msec\n",
      "INFO  : Ended Job = job_1604136524346_0037\n",
      "INFO  : MapReduce Jobs Launched: \n",
      "INFO  : Stage-Stage-2: Map: 1  Reduce: 1   Cumulative CPU: 4.84 sec   HDFS Read: 3401842 HDFS Write: 701140 SUCCESS\n",
      "INFO  : Stage-Stage-3: Map: 1  Reduce: 1   Cumulative CPU: 3.65 sec   HDFS Read: 705892 HDFS Write: 105 SUCCESS\n",
      "INFO  : Total MapReduce CPU Time Spent: 8 seconds 490 msec\n",
      "INFO  : Completed executing command(queryId=hive_20201031123232_2339d90a-53f9-4fb0-a2b2-b16f23c936ca); Time taken: 32.495 seconds\n",
      "INFO  : OK\n",
      "+-----------------------+----------+--+\n",
      "|      author_name      | n_books  |\n",
      "+-----------------------+----------+--+\n",
      "| Rand McNally          | 539      |\n",
      "| Gregory a Boyd J D    | 445      |\n",
      "| AA Publishing         | 285      |\n",
      "| Molly Elodie Rose     | 282      |\n",
      "| Distinctive Journals  | 279      |\n",
      "+-----------------------+----------+--+\n",
      "5 rows selected (32.606 seconds)\n",
      "0: jdbc:hive2://localhost:10000/ej2> \n",
      "Closing: 0: jdbc:hive2://localhost:10000/ej2\n"
     ]
    }
   ],
   "source": [
    "! beeline -u \"jdbc:hive2://localhost:10000/ej2\" -f ej2.hql"
   ]
  },
  {
   "cell_type": "markdown",
   "metadata": {},
   "source": [
    "- ¿Cuáles son los dos libros más recientes de la autora Ana Maria Spagna?"
   ]
  },
  {
   "cell_type": "code",
   "execution_count": 18,
   "metadata": {
    "collapsed": false
   },
   "outputs": [
    {
     "name": "stdout",
     "output_type": "stream",
     "text": [
      "Overwriting ej2.hql\n"
     ]
    }
   ],
   "source": [
    "%%writefile ej2.hql\n",
    "\n",
    "SELECT publication_date, title\n",
    "FROM vista_ejhive \n",
    "WHERE author_name = 'Ana Maria Spagna'\n",
    "ORDER BY publication_date DESC\n",
    "LIMIT 2"
   ]
  },
  {
   "cell_type": "code",
   "execution_count": 19,
   "metadata": {
    "collapsed": false,
    "scrolled": true
   },
   "outputs": [
    {
     "name": "stdout",
     "output_type": "stream",
     "text": [
      "2020-10-31 12:33:11,204 WARN  [main] mapreduce.TableMapReduceUtil: The hbase-prefix-tree module jar containing PrefixTreeCodec is not present.  Continuing without it.\n",
      "scan complete in 2ms\n",
      "Connecting to jdbc:hive2://localhost:10000/ej2\n",
      "Connected to: Apache Hive (version 1.1.0-cdh5.7.0)\n",
      "Driver: Hive JDBC (version 1.1.0-cdh5.7.0)\n",
      "Transaction isolation: TRANSACTION_REPEATABLE_READ\n",
      "0: jdbc:hive2://localhost:10000/ej2> \n",
      "0: jdbc:hive2://localhost:10000/ej2> SELECT publication_date, title\n",
      "0: jdbc:hive2://localhost:10000/ej2> FROM vista_ejhive \n",
      "0: jdbc:hive2://localhost:10000/ej2> WHERE author_name = 'Ana Maria Spagna'\n",
      "0: jdbc:hive2://localhost:10000/ej2> ORDER BY publication_date DESC\n",
      "0: jdbc:hive2://localhost:10000/ej2> LIMIT 2\n",
      "0: jdbc:hive2://localhost:10000/ej2> INFO  : Compiling command(queryId=hive_20201031123333_e75499da-e56c-49d8-8bb5-1508ae513aa6): SELECT publication_date, title\n",
      "FROM vista_ejhive \n",
      "WHERE author_name = 'Ana Maria Spagna'\n",
      "ORDER BY publication_date DESC\n",
      "LIMIT 2\n",
      "INFO  : Semantic Analysis Completed\n",
      "INFO  : Returning Hive schema: Schema(fieldSchemas:[FieldSchema(name:publication_date, type:timestamp, comment:null), FieldSchema(name:title, type:string, comment:null)], properties:null)\n",
      "INFO  : Completed compiling command(queryId=hive_20201031123333_e75499da-e56c-49d8-8bb5-1508ae513aa6); Time taken: 0.065 seconds\n",
      "INFO  : Concurrency mode is disabled, not creating a lock manager\n",
      "INFO  : Executing command(queryId=hive_20201031123333_e75499da-e56c-49d8-8bb5-1508ae513aa6): SELECT publication_date, title\n",
      "FROM vista_ejhive \n",
      "WHERE author_name = 'Ana Maria Spagna'\n",
      "ORDER BY publication_date DESC\n",
      "LIMIT 2\n",
      "INFO  : Query ID = hive_20201031123333_e75499da-e56c-49d8-8bb5-1508ae513aa6\n",
      "INFO  : Total jobs = 1\n",
      "INFO  : Starting task [Stage-5:MAPREDLOCAL] in serial mode\n",
      "INFO  : Execution completed successfully\n",
      "INFO  : MapredLocal task succeeded\n",
      "INFO  : Launching Job 1 out of 1\n",
      "INFO  : Starting task [Stage-2:MAPRED] in serial mode\n",
      "INFO  : Number of reduce tasks determined at compile time: 1\n",
      "INFO  : In order to change the average load for a reducer (in bytes):\n",
      "INFO  :   set hive.exec.reducers.bytes.per.reducer=<number>\n",
      "INFO  : In order to limit the maximum number of reducers:\n",
      "INFO  :   set hive.exec.reducers.max=<number>\n",
      "INFO  : In order to set a constant number of reducers:\n",
      "INFO  :   set mapreduce.job.reduces=<number>\n",
      "INFO  : Starting Job = job_1604136524346_0038, Tracking URL = http://quickstart.cloudera:8088/proxy/application_1604136524346_0038/\n",
      "INFO  : Kill Command = /usr/lib/hadoop/bin/hadoop job  -kill job_1604136524346_0038\n",
      "INFO  : Hadoop job information for Stage-2: number of mappers: 1; number of reducers: 1\n",
      "INFO  : 2020-10-31 12:33:19,775 Stage-2 map = 0%,  reduce = 0%\n",
      "INFO  : 2020-10-31 12:33:24,995 Stage-2 map = 100%,  reduce = 0%, Cumulative CPU 1.66 sec\n",
      "INFO  : 2020-10-31 12:33:29,168 Stage-2 map = 100%,  reduce = 100%, Cumulative CPU 2.68 sec\n",
      "INFO  : MapReduce Total cumulative CPU time: 2 seconds 680 msec\n",
      "INFO  : Ended Job = job_1604136524346_0038\n",
      "INFO  : MapReduce Jobs Launched: \n",
      "INFO  : Stage-Stage-2: Map: 1  Reduce: 1   Cumulative CPU: 2.68 sec   HDFS Read: 3401446 HDFS Write: 84 SUCCESS\n",
      "INFO  : Total MapReduce CPU Time Spent: 2 seconds 680 msec\n",
      "INFO  : Completed executing command(queryId=hive_20201031123333_e75499da-e56c-49d8-8bb5-1508ae513aa6); Time taken: 17.798 seconds\n",
      "INFO  : OK\n",
      "+------------------------+------------------------------------------------------------------+--+\n",
      "|    publication_date    |                              title                               |\n",
      "+------------------------+------------------------------------------------------------------+--+\n",
      "| 2015-05-05 00:00:00.0  | 100 Skills You'll Need for the End of the World (as We Know It)  |\n",
      "+------------------------+------------------------------------------------------------------+--+\n",
      "1 row selected (17.916 seconds)\n",
      "0: jdbc:hive2://localhost:10000/ej2> \n",
      "Closing: 0: jdbc:hive2://localhost:10000/ej2\n"
     ]
    }
   ],
   "source": [
    "! beeline -u \"jdbc:hive2://localhost:10000/ej2\" -f ej2.hql"
   ]
  }
 ],
 "metadata": {
  "kernelspec": {
   "display_name": "Python 2",
   "language": "python",
   "name": "python2"
  },
  "language_info": {
   "codemirror_mode": {
    "name": "ipython",
    "version": 2
   },
   "file_extension": ".py",
   "mimetype": "text/x-python",
   "name": "python",
   "nbconvert_exporter": "python",
   "pygments_lexer": "ipython2",
   "version": "2.7.13"
  }
 },
 "nbformat": 4,
 "nbformat_minor": 2
}
