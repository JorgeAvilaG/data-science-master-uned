{
 "cells": [
  {
   "cell_type": "markdown",
   "metadata": {},
   "source": [
    "# Ejercicio 2 Parte 2\n",
    "## Jorge Pablo Ávila Gómez"
   ]
  },
  {
   "cell_type": "markdown",
   "metadata": {},
   "source": [
    "## Ejercicio 2: Hive\n",
    "\n",
    "Para finalizar esta parte, se propone un ejercicio valorado con hasta 2 puntos\n",
    "consistente en seleccionar un dataset, importarlo en las tablas de Hive necesarias\n",
    "e implementar al menos dos consultas sobre dicho dataset. Para realizar este\n",
    "ejercicio, es necesario seguir los siguientes pasos:"
   ]
  },
  {
   "cell_type": "markdown",
   "metadata": {},
   "source": [
    "#### 1. Selecciona un dataset públicamente disponible en Internet.\n",
    "\n",
    "Para este ejercicio se ha selecionado el dataset de kaggle: Pokemon- Weedle's Cave\n",
    "https://www.kaggle.com/terminus7/pokemon-challenge\n",
    "\n",
    "Se van a utilizar dos archivos, pokemon.csv y combats.csv.\n",
    "\n",
    "pokemon.csv contiene una descripción de 800 pokemons incluyendo datos como su nombre, tipo o velocidad.\n",
    "Esta es la lista de las diferentes columnas:\n",
    "- #: Id o número del pokemon (Int)\n",
    "- Name: Nombre del pokemon (Str)\n",
    "- Type 1: Tipo 1 del pokemon (Str)\n",
    "- Type 2: Tipo 2 del pokemon (Str)\n",
    "- HP: Puntos de vida (Int)\n",
    "- Attack: Puntos de ataque (Int)\n",
    "- Defense: Puntos de defensa (Int)\n",
    "- Sp. Atk: Puntos de ataque especial (Int)\n",
    "- Sp. Def: Puntos de defensa especial (Int)\n",
    "- Speed: Puntos de velocidad (Int)\n",
    "- Generation: Generación (Int)\n",
    "- Legendary: lengendario (Bool)\n",
    "\n",
    "En el documento combats.csv se describe el pokemon ganador de un combate.\n",
    "La lista de columnas en la siguiente:\n",
    "- First_pokemon: Id del pokemon 1 (Int)\n",
    "- Second_pokemon: Id del segundo pokemon (Int)\n",
    "- Winner: Id del pokemon ganador (Int)\n",
    "\n",
    "Los dos documentos se relacionan por la columna Id."
   ]
  },
  {
   "cell_type": "markdown",
   "metadata": {},
   "source": [
    "#### Importar los datos en Hive"
   ]
  },
  {
   "cell_type": "code",
   "execution_count": 1,
   "metadata": {
    "collapsed": false
   },
   "outputs": [
    {
     "name": "stdout",
     "output_type": "stream",
     "text": [
      "/media/notebooks/hive-tp1\r\n"
     ]
    }
   ],
   "source": [
    "! mkdir -p hive-tp1\n",
    "import os\n",
    "os.chdir(\"hive-tp1\")\n",
    "! pwd"
   ]
  },
  {
   "cell_type": "code",
   "execution_count": 2,
   "metadata": {
    "collapsed": false,
    "scrolled": true
   },
   "outputs": [
    {
     "name": "stdout",
     "output_type": "stream",
     "text": [
      "mkdir: `/user/root/datostp1': File exists\n",
      "mkdir: `/user/root/datostp1/pokemon': File exists\n",
      "mkdir: `/user/root/datostp1/combats': File exists\n",
      "put: `datostp1/pokemon/pokemon.csv': File exists\n",
      "put: `datostp1/combats/combats.csv': File exists\n"
     ]
    }
   ],
   "source": [
    "! hadoop fs -mkdir /user/$(whoami)/datostp1\n",
    "! hadoop fs -mkdir /user/$(whoami)/datostp1/pokemon\n",
    "! hadoop fs -mkdir /user/$(whoami)/datostp1/combats\n",
    "! hadoop fs -put ../tp1-dataset-pokemon/pokemon.csv datostp1/pokemon/\n",
    "! hadoop fs -put ../tp1-dataset-pokemon/combats.csv datostp1/combats/"
   ]
  },
  {
   "cell_type": "markdown",
   "metadata": {},
   "source": [
    "#### Crear la base de datos"
   ]
  },
  {
   "cell_type": "code",
   "execution_count": 3,
   "metadata": {
    "collapsed": false
   },
   "outputs": [
    {
     "name": "stdout",
     "output_type": "stream",
     "text": [
      "Overwriting ej2_pokemon.hql\n"
     ]
    }
   ],
   "source": [
    "%%writefile ej2_pokemon.hql\n",
    "\n",
    "create database if not exists ej2_pokemon\n",
    "Comment 'BD para el dataset de pokemon de la tp1'\n",
    "Location '/user/cloudera/ej2_pokemon'\n",
    "With dbproperties ('Creada por'='User','Creada el'='31-Oct-2020');\n",
    "\n",
    "use ej2_pokemon;"
   ]
  },
  {
   "cell_type": "code",
   "execution_count": 4,
   "metadata": {
    "collapsed": false,
    "scrolled": true
   },
   "outputs": [
    {
     "name": "stdout",
     "output_type": "stream",
     "text": [
      "2020-10-31 15:49:00,875 WARN  [main] mapreduce.TableMapReduceUtil: The hbase-prefix-tree module jar containing PrefixTreeCodec is not present.  Continuing without it.\n",
      "scan complete in 2ms\n",
      "Connecting to jdbc:hive2://localhost:10000/default\n",
      "Connected to: Apache Hive (version 1.1.0-cdh5.7.0)\n",
      "Driver: Hive JDBC (version 1.1.0-cdh5.7.0)\n",
      "Transaction isolation: TRANSACTION_REPEATABLE_READ\n",
      "0: jdbc:hive2://localhost:10000/default> \n",
      "on jdbc:hive2://localhost:10000/default> create database if not exists ej2_pokem \n",
      "de la tp1've2://localhost:10000/default> Comment 'BD para el dataset de pokemon  \n",
      "0: jdbc:hive2://localhost:10000/default> Location '/user/cloudera/ej2_pokemon'\n",
      "'Creada el'='31-Oct-2020');0000/default> With dbproperties ('Creada por'='User', \n",
      "INFO  : Compiling command(queryId=hive_20201031154949_904b425d-bd3b-4ddf-81af-d3c789935efb): create database if not exists ej2_pokemon\n",
      "Comment 'BD para el dataset de pokemon de la tp1'\n",
      "Location '/user/cloudera/ej2_pokemon'\n",
      "With dbproperties ('Creada por'='User','Creada el'='31-Oct-2020')\n",
      "INFO  : Semantic Analysis Completed\n",
      "INFO  : Returning Hive schema: Schema(fieldSchemas:null, properties:null)\n",
      "INFO  : Completed compiling command(queryId=hive_20201031154949_904b425d-bd3b-4ddf-81af-d3c789935efb); Time taken: 0.004 seconds\n",
      "INFO  : Concurrency mode is disabled, not creating a lock manager\n",
      "INFO  : Executing command(queryId=hive_20201031154949_904b425d-bd3b-4ddf-81af-d3c789935efb): create database if not exists ej2_pokemon\n",
      "Comment 'BD para el dataset de pokemon de la tp1'\n",
      "Location '/user/cloudera/ej2_pokemon'\n",
      "With dbproperties ('Creada por'='User','Creada el'='31-Oct-2020')\n",
      "INFO  : Starting task [Stage-0:DDL] in serial mode\n",
      "INFO  : Completed executing command(queryId=hive_20201031154949_904b425d-bd3b-4ddf-81af-d3c789935efb); Time taken: 0.01 seconds\n",
      "INFO  : OK\n",
      "No rows affected (0.059 seconds)\n",
      "0: jdbc:hive2://localhost:10000/default> \n",
      "0: jdbc:hive2://localhost:10000/default> use ej2_pokemon;\n",
      "INFO  : Compiling command(queryId=hive_20201031154949_376175d7-f644-4f3d-83e1-7cff07553ee6): use ej2_pokemon\n",
      "INFO  : Semantic Analysis Completed\n",
      "INFO  : Returning Hive schema: Schema(fieldSchemas:null, properties:null)\n",
      "INFO  : Completed compiling command(queryId=hive_20201031154949_376175d7-f644-4f3d-83e1-7cff07553ee6); Time taken: 0.003 seconds\n",
      "INFO  : Concurrency mode is disabled, not creating a lock manager\n",
      "INFO  : Executing command(queryId=hive_20201031154949_376175d7-f644-4f3d-83e1-7cff07553ee6): use ej2_pokemon\n",
      "INFO  : Starting task [Stage-0:DDL] in serial mode\n",
      "INFO  : Completed executing command(queryId=hive_20201031154949_376175d7-f644-4f3d-83e1-7cff07553ee6); Time taken: 0.005 seconds\n",
      "INFO  : OK\n",
      "No rows affected (0.012 seconds)\n",
      "0: jdbc:hive2://localhost:10000/default> \n",
      "Closing: 0: jdbc:hive2://localhost:10000/default\n"
     ]
    }
   ],
   "source": [
    "! beeline -u \"jdbc:hive2://localhost:10000/default\" -f ej2_pokemon.hql"
   ]
  },
  {
   "cell_type": "markdown",
   "metadata": {},
   "source": [
    "#### Tablas externas"
   ]
  },
  {
   "cell_type": "code",
   "execution_count": 5,
   "metadata": {
    "collapsed": false
   },
   "outputs": [
    {
     "name": "stdout",
     "output_type": "stream",
     "text": [
      "Overwriting ej2_pokemon.hql\n"
     ]
    }
   ],
   "source": [
    "%%writefile ej2_pokemon.hql\n",
    "\n",
    "create external table pokemon (\n",
    "    pokemon_id INT,\n",
    "    name STRING,\n",
    "    type1 STRING,\n",
    "    type2 STRING,\n",
    "    hp INT,\n",
    "    attack INT,\n",
    "    defense INT,\n",
    "    sp_attack INT,\n",
    "    sp_defense INT,\n",
    "    speed INT,\n",
    "    generation INT,\n",
    "    legendary BOOLEAN) \n",
    "ROW FORMAT DELIMITED FIELDS TERMINATED BY ',' \n",
    "LOCATION '/user/root/datostp1/pokemon'\n",
    "TBLPROPERTIES (\"skip.header.line.count\"=\"1\");\n"
   ]
  },
  {
   "cell_type": "code",
   "execution_count": 6,
   "metadata": {
    "collapsed": false,
    "scrolled": true
   },
   "outputs": [
    {
     "name": "stdout",
     "output_type": "stream",
     "text": [
      "2020-10-31 15:49:03,268 WARN  [main] mapreduce.TableMapReduceUtil: The hbase-prefix-tree module jar containing PrefixTreeCodec is not present.  Continuing without it.\n",
      "scan complete in 2ms\n",
      "Connecting to jdbc:hive2://localhost:10000/ej2_pokemon\n",
      "Connected to: Apache Hive (version 1.1.0-cdh5.7.0)\n",
      "Driver: Hive JDBC (version 1.1.0-cdh5.7.0)\n",
      "Transaction isolation: TRANSACTION_REPEATABLE_READ\n",
      "0: jdbc:hive2://localhost:10000/ej2_pokemon> \n",
      "0: jdbc:hive2://localhost:10000/ej2_pokemon> create external table pokemon (\n",
      "0: jdbc:hive2://localhost:10000/ej2_pokemon>     pokemon_id INT,\n",
      "0: jdbc:hive2://localhost:10000/ej2_pokemon>     name STRING,\n",
      "0: jdbc:hive2://localhost:10000/ej2_pokemon>     type1 STRING,\n",
      "0: jdbc:hive2://localhost:10000/ej2_pokemon>     type2 STRING,\n",
      "0: jdbc:hive2://localhost:10000/ej2_pokemon>     hp INT,\n",
      "0: jdbc:hive2://localhost:10000/ej2_pokemon>     attack INT,\n",
      "0: jdbc:hive2://localhost:10000/ej2_pokemon>     defense INT,\n",
      "0: jdbc:hive2://localhost:10000/ej2_pokemon>     sp_attack INT,\n",
      "0: jdbc:hive2://localhost:10000/ej2_pokemon>     sp_defense INT,\n",
      "0: jdbc:hive2://localhost:10000/ej2_pokemon>     speed INT,\n",
      "0: jdbc:hive2://localhost:10000/ej2_pokemon>     generation INT,\n",
      "0: jdbc:hive2://localhost:10000/ej2_pokemon>     legendary BOOLEAN) \n",
      "TED BY ',' e2://localhost:10000/ej2_pokemon> ROW FORMAT DELIMITED FIELDS TERMINA \n",
      "on'jdbc:hive2://localhost:10000/ej2_pokemon> LOCATION '/user/root/datostp1/pokem \n",
      "unt\"=\"1\");ve2://localhost:10000/ej2_pokemon> TBLPROPERTIES (\"skip.header.line.co \n",
      "INFO  : Compiling command(queryId=hive_20201031154949_a34d6695-684a-437e-97d1-3e82e4bdfc3b): create external table pokemon (\n",
      "    pokemon_id INT,\n",
      "    name STRING,\n",
      "    type1 STRING,\n",
      "    type2 STRING,\n",
      "    hp INT,\n",
      "    attack INT,\n",
      "    defense INT,\n",
      "    sp_attack INT,\n",
      "    sp_defense INT,\n",
      "    speed INT,\n",
      "    generation INT,\n",
      "    legendary BOOLEAN) \n",
      "ROW FORMAT DELIMITED FIELDS TERMINATED BY ',' \n",
      "LOCATION '/user/root/datostp1/pokemon'\n",
      "TBLPROPERTIES (\"skip.header.line.count\"=\"1\")\n",
      "INFO  : Semantic Analysis Completed\n",
      "INFO  : Returning Hive schema: Schema(fieldSchemas:null, properties:null)\n",
      "INFO  : Completed compiling command(queryId=hive_20201031154949_a34d6695-684a-437e-97d1-3e82e4bdfc3b); Time taken: 0.01 seconds\n",
      "INFO  : Concurrency mode is disabled, not creating a lock manager\n",
      "INFO  : Executing command(queryId=hive_20201031154949_a34d6695-684a-437e-97d1-3e82e4bdfc3b): create external table pokemon (\n",
      "    pokemon_id INT,\n",
      "    name STRING,\n",
      "    type1 STRING,\n",
      "    type2 STRING,\n",
      "    hp INT,\n",
      "    attack INT,\n",
      "    defense INT,\n",
      "    sp_attack INT,\n",
      "    sp_defense INT,\n",
      "    speed INT,\n",
      "    generation INT,\n",
      "    legendary BOOLEAN) \n",
      "ROW FORMAT DELIMITED FIELDS TERMINATED BY ',' \n",
      "LOCATION '/user/root/datostp1/pokemon'\n",
      "TBLPROPERTIES (\"skip.header.line.count\"=\"1\")\n",
      "INFO  : Starting task [Stage-0:DDL] in serial mode\n",
      "INFO  : Completed executing command(queryId=hive_20201031154949_a34d6695-684a-437e-97d1-3e82e4bdfc3b); Time taken: 0.028 seconds\n",
      "INFO  : OK\n",
      "No rows affected (0.083 seconds)\n",
      "0: jdbc:hive2://localhost:10000/ej2_pokemon> \n",
      "Closing: 0: jdbc:hive2://localhost:10000/ej2_pokemon\n"
     ]
    }
   ],
   "source": [
    "! beeline -u \"jdbc:hive2://localhost:10000/ej2_pokemon\" -f ej2_pokemon.hql"
   ]
  },
  {
   "cell_type": "code",
   "execution_count": 7,
   "metadata": {
    "collapsed": false,
    "scrolled": true
   },
   "outputs": [
    {
     "name": "stdout",
     "output_type": "stream",
     "text": [
      "Overwriting ej2_pokemon.hql\n"
     ]
    }
   ],
   "source": [
    "%%writefile ej2_pokemon.hql\n",
    "\n",
    "create external table combats (  \n",
    "  pokemon_1_id  INT,\n",
    "  pokemon_2_id  INT,\n",
    "  winner_id  INT) \n",
    "ROW FORMAT DELIMITED FIELDS TERMINATED BY ',' \n",
    "LOCATION '/user/root/datostp1/combats'\n",
    "TBLPROPERTIES (\"skip.header.line.count\"=\"1\");"
   ]
  },
  {
   "cell_type": "code",
   "execution_count": 8,
   "metadata": {
    "collapsed": false,
    "scrolled": true
   },
   "outputs": [
    {
     "name": "stdout",
     "output_type": "stream",
     "text": [
      "2020-10-31 15:49:05,678 WARN  [main] mapreduce.TableMapReduceUtil: The hbase-prefix-tree module jar containing PrefixTreeCodec is not present.  Continuing without it.\n",
      "scan complete in 3ms\n",
      "Connecting to jdbc:hive2://localhost:10000/ej2_pokemon\n",
      "Connected to: Apache Hive (version 1.1.0-cdh5.7.0)\n",
      "Driver: Hive JDBC (version 1.1.0-cdh5.7.0)\n",
      "Transaction isolation: TRANSACTION_REPEATABLE_READ\n",
      "0: jdbc:hive2://localhost:10000/ej2_pokemon> \n",
      "0: jdbc:hive2://localhost:10000/ej2_pokemon> create external table combats (  \n",
      "0: jdbc:hive2://localhost:10000/ej2_pokemon>   pokemon_1_id  INT,\n",
      "0: jdbc:hive2://localhost:10000/ej2_pokemon>   pokemon_2_id  INT,\n",
      "0: jdbc:hive2://localhost:10000/ej2_pokemon>   winner_id  INT) \n",
      "TED BY ',' e2://localhost:10000/ej2_pokemon> ROW FORMAT DELIMITED FIELDS TERMINA \n",
      "ts'jdbc:hive2://localhost:10000/ej2_pokemon> LOCATION '/user/root/datostp1/comba \n",
      "unt\"=\"1\");ve2://localhost:10000/ej2_pokemon> TBLPROPERTIES (\"skip.header.line.co \n",
      "INFO  : Compiling command(queryId=hive_20201031154949_8b816e13-caa0-46e4-8e78-ee138d0e2620): create external table combats (\n",
      "  pokemon_1_id  INT,\n",
      "  pokemon_2_id  INT,\n",
      "  winner_id  INT) \n",
      "ROW FORMAT DELIMITED FIELDS TERMINATED BY ',' \n",
      "LOCATION '/user/root/datostp1/combats'\n",
      "TBLPROPERTIES (\"skip.header.line.count\"=\"1\")\n",
      "INFO  : Semantic Analysis Completed\n",
      "INFO  : Returning Hive schema: Schema(fieldSchemas:null, properties:null)\n",
      "INFO  : Completed compiling command(queryId=hive_20201031154949_8b816e13-caa0-46e4-8e78-ee138d0e2620); Time taken: 0.009 seconds\n",
      "INFO  : Concurrency mode is disabled, not creating a lock manager\n",
      "INFO  : Executing command(queryId=hive_20201031154949_8b816e13-caa0-46e4-8e78-ee138d0e2620): create external table combats (\n",
      "  pokemon_1_id  INT,\n",
      "  pokemon_2_id  INT,\n",
      "  winner_id  INT) \n",
      "ROW FORMAT DELIMITED FIELDS TERMINATED BY ',' \n",
      "LOCATION '/user/root/datostp1/combats'\n",
      "TBLPROPERTIES (\"skip.header.line.count\"=\"1\")\n",
      "INFO  : Starting task [Stage-0:DDL] in serial mode\n",
      "INFO  : Completed executing command(queryId=hive_20201031154949_8b816e13-caa0-46e4-8e78-ee138d0e2620); Time taken: 0.022 seconds\n",
      "INFO  : OK\n",
      "No rows affected (0.075 seconds)\n",
      "0: jdbc:hive2://localhost:10000/ej2_pokemon> \n",
      "Closing: 0: jdbc:hive2://localhost:10000/ej2_pokemon\n"
     ]
    }
   ],
   "source": [
    "! beeline -u \"jdbc:hive2://localhost:10000/ej2_pokemon\" -f ej2_pokemon.hql"
   ]
  },
  {
   "cell_type": "code",
   "execution_count": 9,
   "metadata": {
    "collapsed": false,
    "scrolled": true
   },
   "outputs": [
    {
     "name": "stdout",
     "output_type": "stream",
     "text": [
      "2020-10-31 15:49:08,112 WARN  [main] mapreduce.TableMapReduceUtil: The hbase-prefix-tree module jar containing PrefixTreeCodec is not present.  Continuing without it.\n",
      "scan complete in 2ms\n",
      "Connecting to jdbc:hive2://localhost:10000/ej2_pokemon\n",
      "Connected to: Apache Hive (version 1.1.0-cdh5.7.0)\n",
      "Driver: Hive JDBC (version 1.1.0-cdh5.7.0)\n",
      "Transaction isolation: TRANSACTION_REPEATABLE_READ\n",
      "INFO  : Compiling command(queryId=hive_20201031154949_6f03e0c0-368f-4947-8643-a52f391aec94): SELECT * FROM pokemon LIMIT 10\n",
      "INFO  : Semantic Analysis Completed\n",
      "INFO  : Returning Hive schema: Schema(fieldSchemas:[FieldSchema(name:pokemon.pokemon_id, type:int, comment:null), FieldSchema(name:pokemon.name, type:string, comment:null), FieldSchema(name:pokemon.type1, type:string, comment:null), FieldSchema(name:pokemon.type2, type:string, comment:null), FieldSchema(name:pokemon.hp, type:int, comment:null), FieldSchema(name:pokemon.attack, type:int, comment:null), FieldSchema(name:pokemon.defense, type:int, comment:null), FieldSchema(name:pokemon.sp_attack, type:int, comment:null), FieldSchema(name:pokemon.sp_defense, type:int, comment:null), FieldSchema(name:pokemon.speed, type:int, comment:null), FieldSchema(name:pokemon.generation, type:int, comment:null), FieldSchema(name:pokemon.legendary, type:boolean, comment:null)], properties:null)\n",
      "INFO  : Completed compiling command(queryId=hive_20201031154949_6f03e0c0-368f-4947-8643-a52f391aec94); Time taken: 0.033 seconds\n",
      "INFO  : Concurrency mode is disabled, not creating a lock manager\n",
      "INFO  : Executing command(queryId=hive_20201031154949_6f03e0c0-368f-4947-8643-a52f391aec94): SELECT * FROM pokemon LIMIT 10\n",
      "INFO  : Completed executing command(queryId=hive_20201031154949_6f03e0c0-368f-4947-8643-a52f391aec94); Time taken: 0.003 seconds\n",
      "INFO  : OK\n",
      "+---------------------+-------------------+----------------+----------------+-------------+-----------------+------------------+--------------------+---------------------+----------------+---------------------+--------------------+--+\n",
      "| pokemon.pokemon_id  |   pokemon.name    | pokemon.type1  | pokemon.type2  | pokemon.hp  | pokemon.attack  | pokemon.defense  | pokemon.sp_attack  | pokemon.sp_defense  | pokemon.speed  | pokemon.generation  | pokemon.legendary  |\n",
      "+---------------------+-------------------+----------------+----------------+-------------+-----------------+------------------+--------------------+---------------------+----------------+---------------------+--------------------+--+\n",
      "| 1                   | Bulbasaur         | Grass          | Poison         | 45          | 49              | 49               | 65                 | 65                  | 45             | 1                   | false              |\n",
      "| 2                   | Ivysaur           | Grass          | Poison         | 60          | 62              | 63               | 80                 | 80                  | 60             | 1                   | false              |\n",
      "| 3                   | Venusaur          | Grass          | Poison         | 80          | 82              | 83               | 100                | 100                 | 80             | 1                   | false              |\n",
      "| 4                   | Mega Venusaur     | Grass          | Poison         | 80          | 100             | 123              | 122                | 120                 | 80             | 1                   | false              |\n",
      "| 5                   | Charmander        | Fire           |                | 39          | 52              | 43               | 60                 | 50                  | 65             | 1                   | false              |\n",
      "| 6                   | Charmeleon        | Fire           |                | 58          | 64              | 58               | 80                 | 65                  | 80             | 1                   | false              |\n",
      "| 7                   | Charizard         | Fire           | Flying         | 78          | 84              | 78               | 109                | 85                  | 100            | 1                   | false              |\n",
      "| 8                   | Mega Charizard X  | Fire           | Dragon         | 78          | 130             | 111              | 130                | 85                  | 100            | 1                   | false              |\n",
      "| 9                   | Mega Charizard Y  | Fire           | Flying         | 78          | 104             | 78               | 159                | 115                 | 100            | 1                   | false              |\n",
      "| 10                  | Squirtle          | Water          |                | 44          | 48              | 65               | 50                 | 64                  | 43             | 1                   | false              |\n",
      "+---------------------+-------------------+----------------+----------------+-------------+-----------------+------------------+--------------------+---------------------+----------------+---------------------+--------------------+--+\n",
      "10 rows selected (0.119 seconds)\n",
      "Beeline version 1.1.0-cdh5.7.0 by Apache Hive\n",
      "Closing: 0: jdbc:hive2://localhost:10000/ej2_pokemon\n"
     ]
    }
   ],
   "source": [
    "! beeline -u \"jdbc:hive2://localhost:10000/ej2_pokemon\" -e 'SELECT * FROM pokemon LIMIT 10'"
   ]
  },
  {
   "cell_type": "code",
   "execution_count": 10,
   "metadata": {
    "collapsed": false,
    "scrolled": true
   },
   "outputs": [
    {
     "name": "stdout",
     "output_type": "stream",
     "text": [
      "2020-10-31 15:49:10,574 WARN  [main] mapreduce.TableMapReduceUtil: The hbase-prefix-tree module jar containing PrefixTreeCodec is not present.  Continuing without it.\n",
      "scan complete in 3ms\n",
      "Connecting to jdbc:hive2://localhost:10000/ej2_pokemon\n",
      "Connected to: Apache Hive (version 1.1.0-cdh5.7.0)\n",
      "Driver: Hive JDBC (version 1.1.0-cdh5.7.0)\n",
      "Transaction isolation: TRANSACTION_REPEATABLE_READ\n",
      "INFO  : Compiling command(queryId=hive_20201031154949_9e4b7365-feca-495d-9bde-4f332f21be0e): SELECT * FROM combats LIMIT 10\n",
      "INFO  : Semantic Analysis Completed\n",
      "INFO  : Returning Hive schema: Schema(fieldSchemas:[FieldSchema(name:combats.pokemon_1_id, type:int, comment:null), FieldSchema(name:combats.pokemon_2_id, type:int, comment:null), FieldSchema(name:combats.winner_id, type:int, comment:null)], properties:null)\n",
      "INFO  : Completed compiling command(queryId=hive_20201031154949_9e4b7365-feca-495d-9bde-4f332f21be0e); Time taken: 0.035 seconds\n",
      "INFO  : Concurrency mode is disabled, not creating a lock manager\n",
      "INFO  : Executing command(queryId=hive_20201031154949_9e4b7365-feca-495d-9bde-4f332f21be0e): SELECT * FROM combats LIMIT 10\n",
      "INFO  : Completed executing command(queryId=hive_20201031154949_9e4b7365-feca-495d-9bde-4f332f21be0e); Time taken: 0.001 seconds\n",
      "INFO  : OK\n",
      "+-----------------------+-----------------------+--------------------+--+\n",
      "| combats.pokemon_1_id  | combats.pokemon_2_id  | combats.winner_id  |\n",
      "+-----------------------+-----------------------+--------------------+--+\n",
      "| 266                   | 298                   | 298                |\n",
      "| 702                   | 701                   | 701                |\n",
      "| 191                   | 668                   | 668                |\n",
      "| 237                   | 683                   | 683                |\n",
      "| 151                   | 231                   | 151                |\n",
      "| 657                   | 752                   | 657                |\n",
      "| 192                   | 134                   | 134                |\n",
      "| 73                    | 545                   | 545                |\n",
      "| 220                   | 763                   | 763                |\n",
      "| 302                   | 31                    | 31                 |\n",
      "+-----------------------+-----------------------+--------------------+--+\n",
      "10 rows selected (0.12 seconds)\n",
      "Beeline version 1.1.0-cdh5.7.0 by Apache Hive\n",
      "Closing: 0: jdbc:hive2://localhost:10000/ej2_pokemon\n"
     ]
    }
   ],
   "source": [
    "! beeline -u \"jdbc:hive2://localhost:10000/ej2_pokemon\" -e 'SELECT * FROM combats LIMIT 10'"
   ]
  },
  {
   "cell_type": "markdown",
   "metadata": {},
   "source": [
    "#### Crear consultas de Hive para el nuevo dataset:"
   ]
  },
  {
   "cell_type": "markdown",
   "metadata": {},
   "source": [
    "- ¿Cuales son los pokemon de tipo eléctrico más fuertes de cada generación?"
   ]
  },
  {
   "cell_type": "code",
   "execution_count": 11,
   "metadata": {
    "collapsed": false
   },
   "outputs": [
    {
     "name": "stdout",
     "output_type": "stream",
     "text": [
      "Overwriting ej2_pokemon.hql\n"
     ]
    }
   ],
   "source": [
    "%%writefile ej2_pokemon.hql\n",
    "WITH t1 AS (\n",
    "    SELECT max(attack) m_attack, generation\n",
    "    FROM pokemon\n",
    "    WHERE type1 = 'Electric' OR type2 = 'Electric' \n",
    "    GROUP BY generation\n",
    "    )\n",
    "SELECT p.name, m_attack, t1.generation\n",
    "FROM t1 JOIN pokemon p\n",
    "ON t1.m_attack = p.attack AND t1.generation = p.generation\n",
    "WHERE p.type1 = 'Electric' OR p.type2 = 'Electric';"
   ]
  },
  {
   "cell_type": "code",
   "execution_count": 12,
   "metadata": {
    "collapsed": false,
    "scrolled": true
   },
   "outputs": [
    {
     "name": "stdout",
     "output_type": "stream",
     "text": [
      "2020-10-31 15:49:13,115 WARN  [main] mapreduce.TableMapReduceUtil: The hbase-prefix-tree module jar containing PrefixTreeCodec is not present.  Continuing without it.\n",
      "scan complete in 2ms\n",
      "Connecting to jdbc:hive2://localhost:10000/ej2_pokemon\n",
      "Connected to: Apache Hive (version 1.1.0-cdh5.7.0)\n",
      "Driver: Hive JDBC (version 1.1.0-cdh5.7.0)\n",
      "Transaction isolation: TRANSACTION_REPEATABLE_READ\n",
      "0: jdbc:hive2://localhost:10000/ej2_pokemon> WITH t1 AS (\n",
      "nerationhive2://localhost:10000/ej2_pokemon>     SELECT max(attack) m_attack, ge \n",
      "0: jdbc:hive2://localhost:10000/ej2_pokemon>     FROM pokemon\n",
      "e2 = 'Electric' localhost:10000/ej2_pokemon>     WHERE type1 = 'Electric' OR typ \n",
      "0: jdbc:hive2://localhost:10000/ej2_pokemon>     GROUP BY generation\n",
      "0: jdbc:hive2://localhost:10000/ej2_pokemon>     )\n",
      "ionjdbc:hive2://localhost:10000/ej2_pokemon> SELECT p.name, m_attack, t1.generat \n",
      "0: jdbc:hive2://localhost:10000/ej2_pokemon> FROM t1 JOIN pokemon p\n",
      "neration = p.generationst:10000/ej2_pokemon> ON t1.m_attack = p.attack AND t1.ge \n",
      "e2 = 'Electric';localhost:10000/ej2_pokemon> WHERE p.type1 = 'Electric' OR p.typ \n",
      "INFO  : Compiling command(queryId=hive_20201031154949_fd608d4f-a8f0-4e58-a04a-f17aad453814): WITH t1 AS (\n",
      "    SELECT max(attack) m_attack, generation\n",
      "    FROM pokemon\n",
      "    WHERE type1 = 'Electric' OR type2 = 'Electric' \n",
      "    GROUP BY generation\n",
      "    )\n",
      "SELECT p.name, m_attack, t1.generation\n",
      "FROM t1 JOIN pokemon p\n",
      "ON t1.m_attack = p.attack AND t1.generation = p.generation\n",
      "WHERE p.type1 = 'Electric' OR p.type2 = 'Electric'\n",
      "INFO  : Semantic Analysis Completed\n",
      "INFO  : Returning Hive schema: Schema(fieldSchemas:[FieldSchema(name:p.name, type:string, comment:null), FieldSchema(name:m_attack, type:int, comment:null), FieldSchema(name:t1.generation, type:int, comment:null)], properties:null)\n",
      "INFO  : Completed compiling command(queryId=hive_20201031154949_fd608d4f-a8f0-4e58-a04a-f17aad453814); Time taken: 0.132 seconds\n",
      "INFO  : Concurrency mode is disabled, not creating a lock manager\n",
      "INFO  : Executing command(queryId=hive_20201031154949_fd608d4f-a8f0-4e58-a04a-f17aad453814): WITH t1 AS (\n",
      "    SELECT max(attack) m_attack, generation\n",
      "    FROM pokemon\n",
      "    WHERE type1 = 'Electric' OR type2 = 'Electric' \n",
      "    GROUP BY generation\n",
      "    )\n",
      "SELECT p.name, m_attack, t1.generation\n",
      "FROM t1 JOIN pokemon p\n",
      "ON t1.m_attack = p.attack AND t1.generation = p.generation\n",
      "WHERE p.type1 = 'Electric' OR p.type2 = 'Electric'\n",
      "INFO  : Query ID = hive_20201031154949_fd608d4f-a8f0-4e58-a04a-f17aad453814\n",
      "INFO  : Total jobs = 2\n",
      "INFO  : Launching Job 1 out of 2\n",
      "INFO  : Starting task [Stage-1:MAPRED] in serial mode\n",
      "INFO  : Number of reduce tasks not specified. Estimated from input data size: 1\n",
      "INFO  : In order to change the average load for a reducer (in bytes):\n",
      "INFO  :   set hive.exec.reducers.bytes.per.reducer=<number>\n",
      "INFO  : In order to limit the maximum number of reducers:\n",
      "INFO  :   set hive.exec.reducers.max=<number>\n",
      "INFO  : In order to set a constant number of reducers:\n",
      "INFO  :   set mapreduce.job.reduces=<number>\n",
      "INFO  : Starting Job = job_1604136524346_0083, Tracking URL = http://quickstart.cloudera:8088/proxy/application_1604136524346_0083/\n",
      "INFO  : Kill Command = /usr/lib/hadoop/bin/hadoop job  -kill job_1604136524346_0083\n",
      "INFO  : Hadoop job information for Stage-1: number of mappers: 1; number of reducers: 1\n",
      "INFO  : 2020-10-31 15:49:18,872 Stage-1 map = 0%,  reduce = 0%\n",
      "INFO  : 2020-10-31 15:49:23,015 Stage-1 map = 100%,  reduce = 0%, Cumulative CPU 1.03 sec\n",
      "INFO  : 2020-10-31 15:49:28,290 Stage-1 map = 100%,  reduce = 100%, Cumulative CPU 2.22 sec\n",
      "INFO  : MapReduce Total cumulative CPU time: 2 seconds 220 msec\n",
      "INFO  : Ended Job = job_1604136524346_0083\n",
      "INFO  : Starting task [Stage-5:MAPREDLOCAL] in serial mode\n",
      "INFO  : Execution completed successfully\n",
      "INFO  : MapredLocal task succeeded\n",
      "INFO  : Launching Job 2 out of 2\n",
      "INFO  : Starting task [Stage-4:MAPRED] in serial mode\n",
      "INFO  : Number of reduce tasks is set to 0 since there's no reduce operator\n",
      "INFO  : Starting Job = job_1604136524346_0084, Tracking URL = http://quickstart.cloudera:8088/proxy/application_1604136524346_0084/\n",
      "INFO  : Kill Command = /usr/lib/hadoop/bin/hadoop job  -kill job_1604136524346_0084\n",
      "INFO  : Hadoop job information for Stage-4: number of mappers: 1; number of reducers: 0\n",
      "INFO  : 2020-10-31 15:49:35,695 Stage-4 map = 0%,  reduce = 0%\n",
      "INFO  : 2020-10-31 15:49:39,861 Stage-4 map = 100%,  reduce = 0%, Cumulative CPU 0.92 sec\n",
      "INFO  : MapReduce Total cumulative CPU time: 920 msec\n",
      "INFO  : Ended Job = job_1604136524346_0084\n",
      "INFO  : MapReduce Jobs Launched: \n",
      "INFO  : Stage-Stage-1: Map: 1  Reduce: 1   Cumulative CPU: 2.22 sec   HDFS Read: 49393 HDFS Write: 211 SUCCESS\n",
      "INFO  : Stage-Stage-4: Map: 1   Cumulative CPU: 0.92 sec   HDFS Read: 5631 HDFS Write: 121 SUCCESS\n",
      "INFO  : Total MapReduce CPU Time Spent: 3 seconds 140 msec\n",
      "INFO  : Completed executing command(queryId=hive_20201031154949_fd608d4f-a8f0-4e58-a04a-f17aad453814); Time taken: 26.612 seconds\n",
      "INFO  : OK\n",
      "+-----------------+-----------+----------------+--+\n",
      "|     p.name      | m_attack  | t1.generation  |\n",
      "+-----------------+-----------+----------------+--+\n",
      "| Raichu          | 90        | 1              |\n",
      "| Zapdos          | 90        | 1              |\n",
      "| Mega Ampharos   | 95        | 2              |\n",
      "| Manectric       | 75        | 3              |\n",
      "| Mega Manectric  | 75        | 3              |\n",
      "| Electivire      | 123       | 4              |\n",
      "| Zekrom          | 150       | 5              |\n",
      "| Dedenne         | 58        | 6              |\n",
      "+-----------------+-----------+----------------+--+\n",
      "8 rows selected (26.8 seconds)\n",
      "0: jdbc:hive2://localhost:10000/ej2_pokemon> \n",
      "Closing: 0: jdbc:hive2://localhost:10000/ej2_pokemon\n"
     ]
    }
   ],
   "source": [
    "! beeline -u \"jdbc:hive2://localhost:10000/ej2_pokemon\" -f ej2_pokemon.hql"
   ]
  },
  {
   "cell_type": "markdown",
   "metadata": {},
   "source": [
    "- ¿Cuáles son los cinco pokemons no legendarios que han ganado más combates?"
   ]
  },
  {
   "cell_type": "code",
   "execution_count": 13,
   "metadata": {
    "collapsed": false
   },
   "outputs": [
    {
     "name": "stdout",
     "output_type": "stream",
     "text": [
      "Overwriting ej2_pokemon.hql\n"
     ]
    }
   ],
   "source": [
    "%%writefile ej2_pokemon.hql\n",
    "\n",
    "WITH t1 AS (\n",
    "    SELECT COUNT(winner_id) n_victories, winner_id\n",
    "    FROM combats \n",
    "    GROUP BY winner_id\n",
    "    )\n",
    "SELECT p.name, t1.n_victories\n",
    "FROM pokemon p JOIN t1\n",
    "ON p.pokemon_id = t1.winner_id\n",
    "WHERE p.legendary = false\n",
    "ORDER BY n_victories DESC\n",
    "LIMIT 5"
   ]
  },
  {
   "cell_type": "code",
   "execution_count": 14,
   "metadata": {
    "collapsed": false,
    "scrolled": true
   },
   "outputs": [
    {
     "name": "stdout",
     "output_type": "stream",
     "text": [
      "2020-10-31 15:49:42,226 WARN  [main] mapreduce.TableMapReduceUtil: The hbase-prefix-tree module jar containing PrefixTreeCodec is not present.  Continuing without it.\n",
      "scan complete in 2ms\n",
      "Connecting to jdbc:hive2://localhost:10000/ej2_pokemon\n",
      "Connected to: Apache Hive (version 1.1.0-cdh5.7.0)\n",
      "Driver: Hive JDBC (version 1.1.0-cdh5.7.0)\n",
      "Transaction isolation: TRANSACTION_REPEATABLE_READ\n",
      "0: jdbc:hive2://localhost:10000/ej2_pokemon> \n",
      "0: jdbc:hive2://localhost:10000/ej2_pokemon> WITH t1 AS (\n",
      "ries, winner_id/localhost:10000/ej2_pokemon>     SELECT COUNT(winner_id) n_victo \n",
      "0: jdbc:hive2://localhost:10000/ej2_pokemon>     FROM combats \n",
      "0: jdbc:hive2://localhost:10000/ej2_pokemon>     GROUP BY winner_id\n",
      "0: jdbc:hive2://localhost:10000/ej2_pokemon>     )\n",
      "0: jdbc:hive2://localhost:10000/ej2_pokemon> SELECT p.name, t1.n_victories\n",
      "0: jdbc:hive2://localhost:10000/ej2_pokemon> FROM pokemon p JOIN t1\n",
      "0: jdbc:hive2://localhost:10000/ej2_pokemon> ON p.pokemon_id = t1.winner_id\n",
      "0: jdbc:hive2://localhost:10000/ej2_pokemon> WHERE p.legendary = false\n",
      "0: jdbc:hive2://localhost:10000/ej2_pokemon> ORDER BY n_victories DESC\n",
      "0: jdbc:hive2://localhost:10000/ej2_pokemon> LIMIT 5\n",
      "0: jdbc:hive2://localhost:10000/ej2_pokemon> INFO  : Compiling command(queryId=hive_20201031154949_f92b6475-5416-4f99-9dec-67c04abefca7): WITH t1 AS (\n",
      "    SELECT COUNT(winner_id) n_victories, winner_id\n",
      "    FROM combats \n",
      "    GROUP BY winner_id\n",
      "    )\n",
      "SELECT p.name, t1.n_victories\n",
      "FROM pokemon p JOIN t1\n",
      "ON p.pokemon_id = t1.winner_id\n",
      "WHERE p.legendary = false\n",
      "ORDER BY n_victories DESC\n",
      "LIMIT 5\n",
      "INFO  : Semantic Analysis Completed\n",
      "INFO  : Returning Hive schema: Schema(fieldSchemas:[FieldSchema(name:p.name, type:string, comment:null), FieldSchema(name:t1.n_victories, type:bigint, comment:null)], properties:null)\n",
      "INFO  : Completed compiling command(queryId=hive_20201031154949_f92b6475-5416-4f99-9dec-67c04abefca7); Time taken: 0.058 seconds\n",
      "INFO  : Concurrency mode is disabled, not creating a lock manager\n",
      "INFO  : Executing command(queryId=hive_20201031154949_f92b6475-5416-4f99-9dec-67c04abefca7): WITH t1 AS (\n",
      "    SELECT COUNT(winner_id) n_victories, winner_id\n",
      "    FROM combats \n",
      "    GROUP BY winner_id\n",
      "    )\n",
      "SELECT p.name, t1.n_victories\n",
      "FROM pokemon p JOIN t1\n",
      "ON p.pokemon_id = t1.winner_id\n",
      "WHERE p.legendary = false\n",
      "ORDER BY n_victories DESC\n",
      "LIMIT 5\n",
      "INFO  : Query ID = hive_20201031154949_f92b6475-5416-4f99-9dec-67c04abefca7\n",
      "INFO  : Total jobs = 2\n",
      "INFO  : Launching Job 1 out of 2\n",
      "INFO  : Starting task [Stage-1:MAPRED] in serial mode\n",
      "INFO  : Number of reduce tasks not specified. Estimated from input data size: 1\n",
      "INFO  : In order to change the average load for a reducer (in bytes):\n",
      "INFO  :   set hive.exec.reducers.bytes.per.reducer=<number>\n",
      "INFO  : In order to limit the maximum number of reducers:\n",
      "INFO  :   set hive.exec.reducers.max=<number>\n",
      "INFO  : In order to set a constant number of reducers:\n",
      "INFO  :   set mapreduce.job.reduces=<number>\n",
      "INFO  : Starting Job = job_1604136524346_0085, Tracking URL = http://quickstart.cloudera:8088/proxy/application_1604136524346_0085/\n",
      "INFO  : Kill Command = /usr/lib/hadoop/bin/hadoop job  -kill job_1604136524346_0085\n",
      "INFO  : Hadoop job information for Stage-1: number of mappers: 1; number of reducers: 1\n",
      "INFO  : 2020-10-31 15:49:47,883 Stage-1 map = 0%,  reduce = 0%\n",
      "INFO  : 2020-10-31 15:49:52,105 Stage-1 map = 100%,  reduce = 0%, Cumulative CPU 1.68 sec\n",
      "INFO  : 2020-10-31 15:49:56,241 Stage-1 map = 100%,  reduce = 100%, Cumulative CPU 2.59 sec\n",
      "INFO  : MapReduce Total cumulative CPU time: 2 seconds 590 msec\n",
      "INFO  : Ended Job = job_1604136524346_0085\n",
      "INFO  : Starting task [Stage-6:MAPREDLOCAL] in serial mode\n",
      "INFO  : Execution completed successfully\n",
      "INFO  : MapredLocal task succeeded\n",
      "INFO  : Launching Job 2 out of 2\n",
      "INFO  : Starting task [Stage-3:MAPRED] in serial mode\n",
      "INFO  : Number of reduce tasks determined at compile time: 1\n",
      "INFO  : In order to change the average load for a reducer (in bytes):\n",
      "INFO  :   set hive.exec.reducers.bytes.per.reducer=<number>\n",
      "INFO  : In order to limit the maximum number of reducers:\n",
      "INFO  :   set hive.exec.reducers.max=<number>\n",
      "INFO  : In order to set a constant number of reducers:\n",
      "INFO  :   set mapreduce.job.reduces=<number>\n",
      "INFO  : Starting Job = job_1604136524346_0086, Tracking URL = http://quickstart.cloudera:8088/proxy/application_1604136524346_0086/\n",
      "INFO  : Kill Command = /usr/lib/hadoop/bin/hadoop job  -kill job_1604136524346_0086\n",
      "INFO  : Hadoop job information for Stage-3: number of mappers: 1; number of reducers: 1\n",
      "INFO  : 2020-10-31 15:50:03,377 Stage-3 map = 0%,  reduce = 0%\n",
      "INFO  : 2020-10-31 15:50:07,549 Stage-3 map = 100%,  reduce = 0%, Cumulative CPU 1.07 sec\n",
      "INFO  : 2020-10-31 15:50:12,727 Stage-3 map = 100%,  reduce = 100%, Cumulative CPU 2.07 sec\n",
      "INFO  : MapReduce Total cumulative CPU time: 2 seconds 70 msec\n",
      "INFO  : Ended Job = job_1604136524346_0086\n",
      "INFO  : MapReduce Jobs Launched: \n",
      "INFO  : Stage-Stage-1: Map: 1  Reduce: 1   Cumulative CPU: 2.59 sec   HDFS Read: 587403 HDFS Write: 16342 SUCCESS\n",
      "INFO  : Stage-Stage-3: Map: 1  Reduce: 1   Cumulative CPU: 2.07 sec   HDFS Read: 25249 HDFS Write: 68 SUCCESS\n",
      "INFO  : Total MapReduce CPU Time Spent: 4 seconds 660 msec\n",
      "INFO  : Completed executing command(queryId=hive_20201031154949_f92b6475-5416-4f99-9dec-67c04abefca7); Time taken: 30.513 seconds\n",
      "INFO  : OK\n",
      "+-------------+-----------------+--+\n",
      "|   p.name    | t1.n_victories  |\n",
      "+-------------+-----------------+--+\n",
      "| Aerodactyl  | 136             |\n",
      "| Infernape   | 136             |\n",
      "| Slaking     | 133             |\n",
      "| Murkrow     | 130             |\n",
      "| Mega Absol  | 130             |\n",
      "+-------------+-----------------+--+\n",
      "5 rows selected (30.624 seconds)\n",
      "0: jdbc:hive2://localhost:10000/ej2_pokemon> \n",
      "Closing: 0: jdbc:hive2://localhost:10000/ej2_pokemon\n"
     ]
    }
   ],
   "source": [
    "! beeline -u \"jdbc:hive2://localhost:10000/ej2_pokemon\" -f ej2_pokemon.hql"
   ]
  },
  {
   "cell_type": "markdown",
   "metadata": {},
   "source": [
    "- ¿Cuál es el pokemon legendario que ha perdido menos combates?"
   ]
  },
  {
   "cell_type": "code",
   "execution_count": 15,
   "metadata": {
    "collapsed": false
   },
   "outputs": [
    {
     "name": "stdout",
     "output_type": "stream",
     "text": [
      "Overwriting ej2_pokemon.hql\n"
     ]
    }
   ],
   "source": [
    "%%writefile ej2_pokemon.hql\n",
    "\n",
    "WITH t1 AS (\n",
    "    SELECT pokemon_1_id, COUNT(pokemon_1_id) n_defeats\n",
    "    FROM combats\n",
    "    WHERE winner_id != pokemon_1_id\n",
    "    GROUP BY pokemon_1_id\n",
    "    ),\n",
    "t2 AS (\n",
    "    SELECT pokemon_2_id, COUNT(pokemon_2_id) n_defeats\n",
    "    FROM combats\n",
    "    WHERE winner_id != pokemon_2_id\n",
    "    GROUP BY pokemon_2_id\n",
    "    ),\n",
    "t3 AS(\n",
    "    SELECT pokemon_1_id pokemon_id, n_defeats FROM t1\n",
    "    UNION ALL\n",
    "    SELECT pokemon_2_id pokemon_id, n_defeats FROM t2\n",
    "    ),\n",
    "t4 AS(\n",
    "    SELECT pokemon_id, SUM(n_defeats) n_defeats\n",
    "    FROM t3\n",
    "    GROUP BY pokemon_id   \n",
    "    )\n",
    "SELECT p.name, t4.n_defeats\n",
    "FROM pokemon p JOIN t4\n",
    "ON p.pokemon_id = t4.pokemon_id\n",
    "WHERE p.legendary = true\n",
    "ORDER BY n_defeats\n",
    "LIMIT 1"
   ]
  },
  {
   "cell_type": "code",
   "execution_count": 16,
   "metadata": {
    "collapsed": false,
    "scrolled": true
   },
   "outputs": [
    {
     "name": "stdout",
     "output_type": "stream",
     "text": [
      "2020-10-31 15:50:15,244 WARN  [main] mapreduce.TableMapReduceUtil: The hbase-prefix-tree module jar containing PrefixTreeCodec is not present.  Continuing without it.\n",
      "scan complete in 2ms\n",
      "Connecting to jdbc:hive2://localhost:10000/ej2_pokemon\n",
      "Connected to: Apache Hive (version 1.1.0-cdh5.7.0)\n",
      "Driver: Hive JDBC (version 1.1.0-cdh5.7.0)\n",
      "Transaction isolation: TRANSACTION_REPEATABLE_READ\n",
      "0: jdbc:hive2://localhost:10000/ej2_pokemon> \n",
      "0: jdbc:hive2://localhost:10000/ej2_pokemon> WITH t1 AS (\n",
      "mon_1_id) n_defeatsalhost:10000/ej2_pokemon>     SELECT pokemon_1_id, COUNT(poke \n",
      "0: jdbc:hive2://localhost:10000/ej2_pokemon>     FROM combats\n",
      "0: jdbc:hive2://localhost:10000/ej2_pokemon>     WHERE winner_id != pokemon_1_id \n",
      "0: jdbc:hive2://localhost:10000/ej2_pokemon>     GROUP BY pokemon_1_id\n",
      "0: jdbc:hive2://localhost:10000/ej2_pokemon>     ),\n",
      "0: jdbc:hive2://localhost:10000/ej2_pokemon> t2 AS (\n",
      "mon_2_id) n_defeatsalhost:10000/ej2_pokemon>     SELECT pokemon_2_id, COUNT(poke \n",
      "0: jdbc:hive2://localhost:10000/ej2_pokemon>     FROM combats\n",
      "0: jdbc:hive2://localhost:10000/ej2_pokemon>     WHERE winner_id != pokemon_2_id \n",
      "0: jdbc:hive2://localhost:10000/ej2_pokemon>     GROUP BY pokemon_2_id\n",
      "0: jdbc:hive2://localhost:10000/ej2_pokemon>     ),\n",
      "0: jdbc:hive2://localhost:10000/ej2_pokemon> t3 AS(\n",
      " n_defeats FROM t1calhost:10000/ej2_pokemon>     SELECT pokemon_1_id pokemon_id, \n",
      "0: jdbc:hive2://localhost:10000/ej2_pokemon>     UNION ALL\n",
      " n_defeats FROM t2calhost:10000/ej2_pokemon>     SELECT pokemon_2_id pokemon_id, \n",
      "0: jdbc:hive2://localhost:10000/ej2_pokemon>     ),\n",
      "0: jdbc:hive2://localhost:10000/ej2_pokemon> t4 AS(\n",
      "s) n_defeats2://localhost:10000/ej2_pokemon>     SELECT pokemon_id, SUM(n_defeat \n",
      "0: jdbc:hive2://localhost:10000/ej2_pokemon>     FROM t3\n",
      "0: jdbc:hive2://localhost:10000/ej2_pokemon>     GROUP BY pokemon_id   \n",
      "0: jdbc:hive2://localhost:10000/ej2_pokemon>     )\n",
      "0: jdbc:hive2://localhost:10000/ej2_pokemon> SELECT p.name, t4.n_defeats\n",
      "0: jdbc:hive2://localhost:10000/ej2_pokemon> FROM pokemon p JOIN t4\n",
      "0: jdbc:hive2://localhost:10000/ej2_pokemon> ON p.pokemon_id = t4.pokemon_id\n",
      "0: jdbc:hive2://localhost:10000/ej2_pokemon> WHERE p.legendary = true\n",
      "0: jdbc:hive2://localhost:10000/ej2_pokemon> ORDER BY n_defeats\n",
      "0: jdbc:hive2://localhost:10000/ej2_pokemon> LIMIT 1\n",
      "0: jdbc:hive2://localhost:10000/ej2_pokemon> INFO  : Compiling command(queryId=hive_20201031155050_40ec012a-71e9-42de-84cc-e8619d67901b): WITH t1 AS (\n",
      "    SELECT pokemon_1_id, COUNT(pokemon_1_id) n_defeats\n",
      "    FROM combats\n",
      "    WHERE winner_id != pokemon_1_id\n",
      "    GROUP BY pokemon_1_id\n",
      "    ),\n",
      "t2 AS (\n",
      "    SELECT pokemon_2_id, COUNT(pokemon_2_id) n_defeats\n",
      "    FROM combats\n",
      "    WHERE winner_id != pokemon_2_id\n",
      "    GROUP BY pokemon_2_id\n",
      "    ),\n",
      "t3 AS(\n",
      "    SELECT pokemon_1_id pokemon_id, n_defeats FROM t1\n",
      "    UNION ALL\n",
      "    SELECT pokemon_2_id pokemon_id, n_defeats FROM t2\n",
      "    ),\n",
      "t4 AS(\n",
      "    SELECT pokemon_id, SUM(n_defeats) n_defeats\n",
      "    FROM t3\n",
      "    GROUP BY pokemon_id   \n",
      "    )\n",
      "SELECT p.name, t4.n_defeats\n",
      "FROM pokemon p JOIN t4\n",
      "ON p.pokemon_id = t4.pokemon_id\n",
      "WHERE p.legendary = true\n",
      "ORDER BY n_defeats\n",
      "LIMIT 1\n",
      "INFO  : Semantic Analysis Completed\n",
      "INFO  : Returning Hive schema: Schema(fieldSchemas:[FieldSchema(name:p.name, type:string, comment:null), FieldSchema(name:t4.n_defeats, type:bigint, comment:null)], properties:null)\n",
      "INFO  : Completed compiling command(queryId=hive_20201031155050_40ec012a-71e9-42de-84cc-e8619d67901b); Time taken: 0.095 seconds\n",
      "INFO  : Concurrency mode is disabled, not creating a lock manager\n",
      "INFO  : Executing command(queryId=hive_20201031155050_40ec012a-71e9-42de-84cc-e8619d67901b): WITH t1 AS (\n",
      "    SELECT pokemon_1_id, COUNT(pokemon_1_id) n_defeats\n",
      "    FROM combats\n",
      "    WHERE winner_id != pokemon_1_id\n",
      "    GROUP BY pokemon_1_id\n",
      "    ),\n",
      "t2 AS (\n",
      "    SELECT pokemon_2_id, COUNT(pokemon_2_id) n_defeats\n",
      "    FROM combats\n",
      "    WHERE winner_id != pokemon_2_id\n",
      "    GROUP BY pokemon_2_id\n",
      "    ),\n",
      "t3 AS(\n",
      "    SELECT pokemon_1_id pokemon_id, n_defeats FROM t1\n",
      "    UNION ALL\n",
      "    SELECT pokemon_2_id pokemon_id, n_defeats FROM t2\n",
      "    ),\n",
      "t4 AS(\n",
      "    SELECT pokemon_id, SUM(n_defeats) n_defeats\n",
      "    FROM t3\n",
      "    GROUP BY pokemon_id   \n",
      "    )\n",
      "SELECT p.name, t4.n_defeats\n",
      "FROM pokemon p JOIN t4\n",
      "ON p.pokemon_id = t4.pokemon_id\n",
      "WHERE p.legendary = true\n",
      "ORDER BY n_defeats\n",
      "LIMIT 1\n",
      "INFO  : Query ID = hive_20201031155050_40ec012a-71e9-42de-84cc-e8619d67901b\n",
      "INFO  : Total jobs = 4\n",
      "INFO  : Launching Job 1 out of 4\n",
      "INFO  : Starting task [Stage-1:MAPRED] in serial mode\n",
      "INFO  : Number of reduce tasks not specified. Estimated from input data size: 1\n",
      "INFO  : In order to change the average load for a reducer (in bytes):\n",
      "INFO  :   set hive.exec.reducers.bytes.per.reducer=<number>\n",
      "INFO  : In order to limit the maximum number of reducers:\n",
      "INFO  :   set hive.exec.reducers.max=<number>\n",
      "INFO  : In order to set a constant number of reducers:\n",
      "INFO  :   set mapreduce.job.reduces=<number>\n",
      "INFO  : Starting Job = job_1604136524346_0087, Tracking URL = http://quickstart.cloudera:8088/proxy/application_1604136524346_0087/\n",
      "INFO  : Kill Command = /usr/lib/hadoop/bin/hadoop job  -kill job_1604136524346_0087\n",
      "INFO  : Hadoop job information for Stage-1: number of mappers: 1; number of reducers: 1\n",
      "INFO  : 2020-10-31 15:50:19,779 Stage-1 map = 0%,  reduce = 0%\n",
      "INFO  : 2020-10-31 15:50:25,020 Stage-1 map = 100%,  reduce = 0%, Cumulative CPU 1.48 sec\n",
      "INFO  : 2020-10-31 15:50:29,191 Stage-1 map = 100%,  reduce = 100%, Cumulative CPU 2.45 sec\n",
      "INFO  : MapReduce Total cumulative CPU time: 2 seconds 450 msec\n",
      "INFO  : Ended Job = job_1604136524346_0087\n",
      "INFO  : Launching Job 2 out of 4\n",
      "INFO  : Starting task [Stage-5:MAPRED] in serial mode\n",
      "INFO  : Number of reduce tasks not specified. Estimated from input data size: 1\n",
      "INFO  : In order to change the average load for a reducer (in bytes):\n",
      "INFO  :   set hive.exec.reducers.bytes.per.reducer=<number>\n",
      "INFO  : In order to limit the maximum number of reducers:\n",
      "INFO  :   set hive.exec.reducers.max=<number>\n",
      "INFO  : In order to set a constant number of reducers:\n",
      "INFO  :   set mapreduce.job.reduces=<number>\n",
      "INFO  : Starting Job = job_1604136524346_0088, Tracking URL = http://quickstart.cloudera:8088/proxy/application_1604136524346_0088/\n",
      "INFO  : Kill Command = /usr/lib/hadoop/bin/hadoop job  -kill job_1604136524346_0088\n",
      "INFO  : Hadoop job information for Stage-5: number of mappers: 1; number of reducers: 1\n",
      "INFO  : 2020-10-31 15:50:33,619 Stage-5 map = 0%,  reduce = 0%\n",
      "INFO  : 2020-10-31 15:50:38,813 Stage-5 map = 100%,  reduce = 0%, Cumulative CPU 1.44 sec\n",
      "INFO  : 2020-10-31 15:50:42,957 Stage-5 map = 100%,  reduce = 100%, Cumulative CPU 2.45 sec\n",
      "INFO  : MapReduce Total cumulative CPU time: 2 seconds 450 msec\n",
      "INFO  : Ended Job = job_1604136524346_0088\n",
      "INFO  : Launching Job 3 out of 4\n",
      "INFO  : Starting task [Stage-2:MAPRED] in serial mode\n",
      "INFO  : Number of reduce tasks not specified. Estimated from input data size: 1\n",
      "INFO  : In order to change the average load for a reducer (in bytes):\n",
      "INFO  :   set hive.exec.reducers.bytes.per.reducer=<number>\n",
      "INFO  : In order to limit the maximum number of reducers:\n",
      "INFO  :   set hive.exec.reducers.max=<number>\n",
      "INFO  : In order to set a constant number of reducers:\n",
      "INFO  :   set mapreduce.job.reduces=<number>\n",
      "INFO  : Starting Job = job_1604136524346_0089, Tracking URL = http://quickstart.cloudera:8088/proxy/application_1604136524346_0089/\n",
      "INFO  : Kill Command = /usr/lib/hadoop/bin/hadoop job  -kill job_1604136524346_0089\n",
      "INFO  : Hadoop job information for Stage-2: number of mappers: 2; number of reducers: 1\n",
      "INFO  : 2020-10-31 15:50:47,520 Stage-2 map = 0%,  reduce = 0%\n",
      "INFO  : 2020-10-31 15:50:51,674 Stage-2 map = 50%,  reduce = 0%, Cumulative CPU 1.07 sec\n",
      "INFO  : 2020-10-31 15:50:52,728 Stage-2 map = 100%,  reduce = 0%, Cumulative CPU 2.1 sec\n",
      "INFO  : 2020-10-31 15:50:56,863 Stage-2 map = 100%,  reduce = 100%, Cumulative CPU 3.11 sec\n",
      "INFO  : MapReduce Total cumulative CPU time: 3 seconds 110 msec\n",
      "INFO  : Ended Job = job_1604136524346_0089\n",
      "INFO  : Starting task [Stage-8:MAPREDLOCAL] in serial mode\n",
      "INFO  : Execution completed successfully\n",
      "INFO  : MapredLocal task succeeded\n",
      "INFO  : Launching Job 4 out of 4\n",
      "INFO  : Starting task [Stage-4:MAPRED] in serial mode\n",
      "INFO  : Number of reduce tasks determined at compile time: 1\n",
      "INFO  : In order to change the average load for a reducer (in bytes):\n",
      "INFO  :   set hive.exec.reducers.bytes.per.reducer=<number>\n",
      "INFO  : In order to limit the maximum number of reducers:\n",
      "INFO  :   set hive.exec.reducers.max=<number>\n",
      "INFO  : In order to set a constant number of reducers:\n",
      "INFO  :   set mapreduce.job.reduces=<number>\n",
      "INFO  : Starting Job = job_1604136524346_0090, Tracking URL = http://quickstart.cloudera:8088/proxy/application_1604136524346_0090/\n",
      "INFO  : Kill Command = /usr/lib/hadoop/bin/hadoop job  -kill job_1604136524346_0090\n",
      "INFO  : Hadoop job information for Stage-4: number of mappers: 1; number of reducers: 1\n",
      "INFO  : 2020-10-31 15:51:05,007 Stage-4 map = 0%,  reduce = 0%\n",
      "INFO  : 2020-10-31 15:51:08,114 Stage-4 map = 100%,  reduce = 0%, Cumulative CPU 0.97 sec\n",
      "INFO  : 2020-10-31 15:51:13,255 Stage-4 map = 100%,  reduce = 100%, Cumulative CPU 1.9 sec\n",
      "INFO  : MapReduce Total cumulative CPU time: 1 seconds 900 msec\n",
      "INFO  : Ended Job = job_1604136524346_0090\n",
      "INFO  : MapReduce Jobs Launched: \n",
      "INFO  : Stage-Stage-1: Map: 1  Reduce: 1   Cumulative CPU: 2.45 sec   HDFS Read: 588246 HDFS Write: 16353 SUCCESS\n",
      "INFO  : Stage-Stage-5: Map: 1  Reduce: 1   Cumulative CPU: 2.45 sec   HDFS Read: 588246 HDFS Write: 16353 SUCCESS\n",
      "INFO  : Stage-Stage-2: Map: 2  Reduce: 1   Cumulative CPU: 3.11 sec   HDFS Read: 41756 HDFS Write: 16361 SUCCESS\n",
      "INFO  : Stage-Stage-4: Map: 1  Reduce: 1   Cumulative CPU: 1.9 sec   HDFS Read: 25414 HDFS Write: 25 SUCCESS\n",
      "INFO  : Total MapReduce CPU Time Spent: 9 seconds 910 msec\n",
      "INFO  : Completed executing command(queryId=hive_20201031155050_40ec012a-71e9-42de-84cc-e8619d67901b); Time taken: 57.862 seconds\n",
      "INFO  : OK\n",
      "+-------------------------+---------------+--+\n",
      "|         p.name          | t4.n_defeats  |\n",
      "+-------------------------+---------------+--+\n",
      "| Tornadus Therian Forme  | 4             |\n",
      "+-------------------------+---------------+--+\n",
      "1 row selected (58.023 seconds)\n",
      "0: jdbc:hive2://localhost:10000/ej2_pokemon> \n",
      "Closing: 0: jdbc:hive2://localhost:10000/ej2_pokemon\n"
     ]
    }
   ],
   "source": [
    "! beeline -u \"jdbc:hive2://localhost:10000/ej2_pokemon\" -f ej2_pokemon.hql"
   ]
  },
  {
   "cell_type": "code",
   "execution_count": null,
   "metadata": {
    "collapsed": true
   },
   "outputs": [],
   "source": []
  }
 ],
 "metadata": {
  "kernelspec": {
   "display_name": "Python 2",
   "language": "python",
   "name": "python2"
  },
  "language_info": {
   "codemirror_mode": {
    "name": "ipython",
    "version": 2
   },
   "file_extension": ".py",
   "mimetype": "text/x-python",
   "name": "python",
   "nbconvert_exporter": "python",
   "pygments_lexer": "ipython2",
   "version": "2.7.13"
  }
 },
 "nbformat": 4,
 "nbformat_minor": 2
}
